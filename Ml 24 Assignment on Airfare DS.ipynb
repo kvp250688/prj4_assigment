{
 "cells": [
  {
   "cell_type": "markdown",
   "metadata": {},
   "source": [
    "# Problem Statement\n",
    "\n",
    "Data Source - http://www.stat.ufl.edu/~winner/datasets.html \n",
    "\n",
    "Data Set - http://www.stat.ufl.edu/~winner/data/airq402.dat \n",
    "\n",
    "Data Description - http://www.stat.ufl.edu/~winner/data/airq402.txt \n",
    "\n",
    "Dataset:   airq402.dat \n",
    "\n",
    "Source: U.S. Department of Transportation \n",
    "\n",
    "Description: Airfares and passengers for U.S. Domestic Routes for 4th Quarter of 2002. \n",
    "\n",
    "Variables/Columns \n",
    "\n",
    "City1  1-3 \n",
    "City2  5-7 \n",
    "Average Fare    11-17 \n",
    "Distance     20-23 \n",
    "Average weekly passengers     26-33 \n",
    "market leading airline    36-37 \n",
    "market share     40-45 \n",
    "Average fare    48-54 \n",
    "Low price airline   57-58 \n",
    "market share     61-66 \n",
    "price    69-75 "
   ]
  },
  {
   "cell_type": "code",
   "execution_count": 171,
   "metadata": {},
   "outputs": [],
   "source": [
    "# Importing the Packages \n",
    "import pandas as pd\n",
    "import numpy as np\n",
    "import matplotlib.pyplot as plt\n",
    "%matplotlib inline\n",
    "from sklearn.cross_validation import cross_val_score\n",
    "from sklearn.linear_model import LinearRegression\n",
    "from sklearn import datasets, linear_model\n",
    "from sklearn import cross_validation as cv\n",
    "from scipy import linalg\n",
    "import seaborn as sns\n",
    "from sklearn.metrics import mean_squared_error\n",
    "from sklearn.linear_model import ElasticNet, Lasso,  BayesianRidge, LassoLarsIC\n",
    "from sklearn.ensemble import RandomForestRegressor,  GradientBoostingRegressor\n",
    "from sklearn.kernel_ridge import KernelRidge\n",
    "from sklearn.pipeline import make_pipeline\n",
    "from sklearn.preprocessing import RobustScaler\n",
    "from sklearn.base import BaseEstimator, TransformerMixin, RegressorMixin, clone\n",
    "from sklearn.model_selection import KFold, cross_val_score, train_test_split\n",
    "from sklearn.metrics import mean_squared_error\n",
    "import xgboost as xgb"
   ]
  },
  {
   "cell_type": "markdown",
   "metadata": {},
   "source": [
    "# loading the Dataset"
   ]
  },
  {
   "cell_type": "code",
   "execution_count": 172,
   "metadata": {
    "scrolled": false
   },
   "outputs": [
    {
     "data": {
      "text/html": [
       "<div>\n",
       "<style scoped>\n",
       "    .dataframe tbody tr th:only-of-type {\n",
       "        vertical-align: middle;\n",
       "    }\n",
       "\n",
       "    .dataframe tbody tr th {\n",
       "        vertical-align: top;\n",
       "    }\n",
       "\n",
       "    .dataframe thead th {\n",
       "        text-align: right;\n",
       "    }\n",
       "</style>\n",
       "<table border=\"1\" class=\"dataframe\">\n",
       "  <thead>\n",
       "    <tr style=\"text-align: right;\">\n",
       "      <th></th>\n",
       "      <th>City1</th>\n",
       "      <th>City2</th>\n",
       "      <th>Distance</th>\n",
       "      <th>Average_weekly_passengers</th>\n",
       "      <th>market_leading_airline</th>\n",
       "      <th>market_share</th>\n",
       "      <th>Average_fare_1</th>\n",
       "      <th>Low_price_airline</th>\n",
       "      <th>market_share_1</th>\n",
       "      <th>price</th>\n",
       "      <th>Average_Fare</th>\n",
       "    </tr>\n",
       "  </thead>\n",
       "  <tbody>\n",
       "    <tr>\n",
       "      <th>0</th>\n",
       "      <td>CAK</td>\n",
       "      <td>ATL</td>\n",
       "      <td>528.0</td>\n",
       "      <td>424.56</td>\n",
       "      <td>FL</td>\n",
       "      <td>70.19</td>\n",
       "      <td>111.03</td>\n",
       "      <td>FL</td>\n",
       "      <td>70.19</td>\n",
       "      <td>111.03</td>\n",
       "      <td>114.47</td>\n",
       "    </tr>\n",
       "    <tr>\n",
       "      <th>1</th>\n",
       "      <td>CAK</td>\n",
       "      <td>MCO</td>\n",
       "      <td>860.0</td>\n",
       "      <td>276.84</td>\n",
       "      <td>FL</td>\n",
       "      <td>75.10</td>\n",
       "      <td>123.09</td>\n",
       "      <td>DL</td>\n",
       "      <td>17.23</td>\n",
       "      <td>118.94</td>\n",
       "      <td>122.47</td>\n",
       "    </tr>\n",
       "    <tr>\n",
       "      <th>2</th>\n",
       "      <td>ALB</td>\n",
       "      <td>ATL</td>\n",
       "      <td>852.0</td>\n",
       "      <td>215.76</td>\n",
       "      <td>DL</td>\n",
       "      <td>78.89</td>\n",
       "      <td>223.98</td>\n",
       "      <td>CO</td>\n",
       "      <td>2.77</td>\n",
       "      <td>167.12</td>\n",
       "      <td>214.42</td>\n",
       "    </tr>\n",
       "    <tr>\n",
       "      <th>3</th>\n",
       "      <td>ALB</td>\n",
       "      <td>BWI</td>\n",
       "      <td>288.0</td>\n",
       "      <td>606.84</td>\n",
       "      <td>WN</td>\n",
       "      <td>96.97</td>\n",
       "      <td>68.86</td>\n",
       "      <td>WN</td>\n",
       "      <td>96.97</td>\n",
       "      <td>68.86</td>\n",
       "      <td>69.40</td>\n",
       "    </tr>\n",
       "    <tr>\n",
       "      <th>4</th>\n",
       "      <td>ALB</td>\n",
       "      <td>ORD</td>\n",
       "      <td>723.0</td>\n",
       "      <td>313.04</td>\n",
       "      <td>UA</td>\n",
       "      <td>39.79</td>\n",
       "      <td>161.36</td>\n",
       "      <td>WN</td>\n",
       "      <td>15.34</td>\n",
       "      <td>145.42</td>\n",
       "      <td>158.13</td>\n",
       "    </tr>\n",
       "  </tbody>\n",
       "</table>\n",
       "</div>"
      ],
      "text/plain": [
       "  City1 City2  Distance  Average_weekly_passengers market_leading_airline  \\\n",
       "0   CAK   ATL     528.0                     424.56                     FL   \n",
       "1   CAK   MCO     860.0                     276.84                     FL   \n",
       "2   ALB   ATL     852.0                     215.76                     DL   \n",
       "3   ALB   BWI     288.0                     606.84                     WN   \n",
       "4   ALB   ORD     723.0                     313.04                     UA   \n",
       "\n",
       "   market_share  Average_fare_1 Low_price_airline  market_share_1   price  \\\n",
       "0         70.19          111.03                FL           70.19  111.03   \n",
       "1         75.10          123.09                DL           17.23  118.94   \n",
       "2         78.89          223.98                CO            2.77  167.12   \n",
       "3         96.97           68.86                WN           96.97   68.86   \n",
       "4         39.79          161.36                WN           15.34  145.42   \n",
       "\n",
       "   Average_Fare  \n",
       "0        114.47  \n",
       "1        122.47  \n",
       "2        214.42  \n",
       "3         69.40  \n",
       "4        158.13  "
      ]
     },
     "execution_count": 172,
     "metadata": {},
     "output_type": "execute_result"
    }
   ],
   "source": [
    "df = pd.read_csv('winner.csv')\n",
    "df.head()"
   ]
  },
  {
   "cell_type": "code",
   "execution_count": 173,
   "metadata": {},
   "outputs": [
    {
     "data": {
      "text/html": [
       "<div>\n",
       "<style scoped>\n",
       "    .dataframe tbody tr th:only-of-type {\n",
       "        vertical-align: middle;\n",
       "    }\n",
       "\n",
       "    .dataframe tbody tr th {\n",
       "        vertical-align: top;\n",
       "    }\n",
       "\n",
       "    .dataframe thead th {\n",
       "        text-align: right;\n",
       "    }\n",
       "</style>\n",
       "<table border=\"1\" class=\"dataframe\">\n",
       "  <thead>\n",
       "    <tr style=\"text-align: right;\">\n",
       "      <th></th>\n",
       "      <th>City1</th>\n",
       "      <th>City2</th>\n",
       "      <th>Distance</th>\n",
       "      <th>Average_weekly_passengers</th>\n",
       "      <th>market_leading_airline</th>\n",
       "      <th>market_share</th>\n",
       "      <th>Low_price_airline</th>\n",
       "      <th>market_share_1</th>\n",
       "      <th>price</th>\n",
       "      <th>Average_Fare</th>\n",
       "    </tr>\n",
       "  </thead>\n",
       "  <tbody>\n",
       "    <tr>\n",
       "      <th>0</th>\n",
       "      <td>CAK</td>\n",
       "      <td>ATL</td>\n",
       "      <td>528.0</td>\n",
       "      <td>424.56</td>\n",
       "      <td>FL</td>\n",
       "      <td>70.19</td>\n",
       "      <td>FL</td>\n",
       "      <td>70.19</td>\n",
       "      <td>111.03</td>\n",
       "      <td>114.47</td>\n",
       "    </tr>\n",
       "    <tr>\n",
       "      <th>1</th>\n",
       "      <td>CAK</td>\n",
       "      <td>MCO</td>\n",
       "      <td>860.0</td>\n",
       "      <td>276.84</td>\n",
       "      <td>FL</td>\n",
       "      <td>75.10</td>\n",
       "      <td>DL</td>\n",
       "      <td>17.23</td>\n",
       "      <td>118.94</td>\n",
       "      <td>122.47</td>\n",
       "    </tr>\n",
       "    <tr>\n",
       "      <th>2</th>\n",
       "      <td>ALB</td>\n",
       "      <td>ATL</td>\n",
       "      <td>852.0</td>\n",
       "      <td>215.76</td>\n",
       "      <td>DL</td>\n",
       "      <td>78.89</td>\n",
       "      <td>CO</td>\n",
       "      <td>2.77</td>\n",
       "      <td>167.12</td>\n",
       "      <td>214.42</td>\n",
       "    </tr>\n",
       "    <tr>\n",
       "      <th>3</th>\n",
       "      <td>ALB</td>\n",
       "      <td>BWI</td>\n",
       "      <td>288.0</td>\n",
       "      <td>606.84</td>\n",
       "      <td>WN</td>\n",
       "      <td>96.97</td>\n",
       "      <td>WN</td>\n",
       "      <td>96.97</td>\n",
       "      <td>68.86</td>\n",
       "      <td>69.40</td>\n",
       "    </tr>\n",
       "    <tr>\n",
       "      <th>4</th>\n",
       "      <td>ALB</td>\n",
       "      <td>ORD</td>\n",
       "      <td>723.0</td>\n",
       "      <td>313.04</td>\n",
       "      <td>UA</td>\n",
       "      <td>39.79</td>\n",
       "      <td>WN</td>\n",
       "      <td>15.34</td>\n",
       "      <td>145.42</td>\n",
       "      <td>158.13</td>\n",
       "    </tr>\n",
       "  </tbody>\n",
       "</table>\n",
       "</div>"
      ],
      "text/plain": [
       "  City1 City2  Distance  Average_weekly_passengers market_leading_airline  \\\n",
       "0   CAK   ATL     528.0                     424.56                     FL   \n",
       "1   CAK   MCO     860.0                     276.84                     FL   \n",
       "2   ALB   ATL     852.0                     215.76                     DL   \n",
       "3   ALB   BWI     288.0                     606.84                     WN   \n",
       "4   ALB   ORD     723.0                     313.04                     UA   \n",
       "\n",
       "   market_share Low_price_airline  market_share_1   price  Average_Fare  \n",
       "0         70.19                FL           70.19  111.03        114.47  \n",
       "1         75.10                DL           17.23  118.94        122.47  \n",
       "2         78.89                CO            2.77  167.12        214.42  \n",
       "3         96.97                WN           96.97   68.86         69.40  \n",
       "4         39.79                WN           15.34  145.42        158.13  "
      ]
     },
     "execution_count": 173,
     "metadata": {},
     "output_type": "execute_result"
    }
   ],
   "source": [
    "data = df.drop(['Average_fare_1'], axis = 1)\n",
    "data.head()"
   ]
  },
  {
   "cell_type": "code",
   "execution_count": 174,
   "metadata": {},
   "outputs": [
    {
     "name": "stdout",
     "output_type": "stream",
     "text": [
      "<class 'pandas.core.frame.DataFrame'>\n",
      "RangeIndex: 1001 entries, 0 to 1000\n",
      "Data columns (total 10 columns):\n",
      "City1                        1001 non-null object\n",
      "City2                        1000 non-null object\n",
      "Distance                     1000 non-null float64\n",
      "Average_weekly_passengers    1000 non-null float64\n",
      "market_leading_airline       1000 non-null object\n",
      "market_share                 1000 non-null float64\n",
      "Low_price_airline            1000 non-null object\n",
      "market_share_1               1000 non-null float64\n",
      "price                        1000 non-null float64\n",
      "Average_Fare                 1000 non-null float64\n",
      "dtypes: float64(6), object(4)\n",
      "memory usage: 78.3+ KB\n"
     ]
    }
   ],
   "source": [
    "data.info()"
   ]
  },
  {
   "cell_type": "code",
   "execution_count": 175,
   "metadata": {
    "scrolled": true
   },
   "outputs": [
    {
     "data": {
      "text/html": [
       "<div>\n",
       "<style scoped>\n",
       "    .dataframe tbody tr th:only-of-type {\n",
       "        vertical-align: middle;\n",
       "    }\n",
       "\n",
       "    .dataframe tbody tr th {\n",
       "        vertical-align: top;\n",
       "    }\n",
       "\n",
       "    .dataframe thead th {\n",
       "        text-align: right;\n",
       "    }\n",
       "</style>\n",
       "<table border=\"1\" class=\"dataframe\">\n",
       "  <thead>\n",
       "    <tr style=\"text-align: right;\">\n",
       "      <th></th>\n",
       "      <th>Distance</th>\n",
       "      <th>Average_weekly_passengers</th>\n",
       "      <th>market_share</th>\n",
       "      <th>market_share_1</th>\n",
       "      <th>price</th>\n",
       "      <th>Average_Fare</th>\n",
       "    </tr>\n",
       "  </thead>\n",
       "  <tbody>\n",
       "    <tr>\n",
       "      <th>count</th>\n",
       "      <td>1000.000000</td>\n",
       "      <td>1000.000000</td>\n",
       "      <td>1000.000000</td>\n",
       "      <td>1000.000000</td>\n",
       "      <td>1000.000000</td>\n",
       "      <td>1000.00000</td>\n",
       "    </tr>\n",
       "    <tr>\n",
       "      <th>mean</th>\n",
       "      <td>1056.973000</td>\n",
       "      <td>672.279140</td>\n",
       "      <td>60.128590</td>\n",
       "      <td>34.551480</td>\n",
       "      <td>143.193090</td>\n",
       "      <td>163.37542</td>\n",
       "    </tr>\n",
       "    <tr>\n",
       "      <th>std</th>\n",
       "      <td>643.203251</td>\n",
       "      <td>766.519254</td>\n",
       "      <td>19.367779</td>\n",
       "      <td>27.096999</td>\n",
       "      <td>47.229184</td>\n",
       "      <td>55.36547</td>\n",
       "    </tr>\n",
       "    <tr>\n",
       "      <th>min</th>\n",
       "      <td>108.000000</td>\n",
       "      <td>181.410000</td>\n",
       "      <td>17.680000</td>\n",
       "      <td>1.060000</td>\n",
       "      <td>49.610000</td>\n",
       "      <td>50.52000</td>\n",
       "    </tr>\n",
       "    <tr>\n",
       "      <th>25%</th>\n",
       "      <td>553.500000</td>\n",
       "      <td>257.197500</td>\n",
       "      <td>46.510000</td>\n",
       "      <td>13.195000</td>\n",
       "      <td>113.767500</td>\n",
       "      <td>125.97500</td>\n",
       "    </tr>\n",
       "    <tr>\n",
       "      <th>50%</th>\n",
       "      <td>919.000000</td>\n",
       "      <td>404.780000</td>\n",
       "      <td>59.240000</td>\n",
       "      <td>26.140000</td>\n",
       "      <td>137.825000</td>\n",
       "      <td>161.34500</td>\n",
       "    </tr>\n",
       "    <tr>\n",
       "      <th>75%</th>\n",
       "      <td>1452.500000</td>\n",
       "      <td>769.912500</td>\n",
       "      <td>73.510000</td>\n",
       "      <td>52.972500</td>\n",
       "      <td>168.530000</td>\n",
       "      <td>197.39250</td>\n",
       "    </tr>\n",
       "    <tr>\n",
       "      <th>max</th>\n",
       "      <td>2724.000000</td>\n",
       "      <td>8950.760000</td>\n",
       "      <td>100.000000</td>\n",
       "      <td>100.000000</td>\n",
       "      <td>387.940000</td>\n",
       "      <td>401.23000</td>\n",
       "    </tr>\n",
       "  </tbody>\n",
       "</table>\n",
       "</div>"
      ],
      "text/plain": [
       "          Distance  Average_weekly_passengers  market_share  market_share_1  \\\n",
       "count  1000.000000                1000.000000   1000.000000     1000.000000   \n",
       "mean   1056.973000                 672.279140     60.128590       34.551480   \n",
       "std     643.203251                 766.519254     19.367779       27.096999   \n",
       "min     108.000000                 181.410000     17.680000        1.060000   \n",
       "25%     553.500000                 257.197500     46.510000       13.195000   \n",
       "50%     919.000000                 404.780000     59.240000       26.140000   \n",
       "75%    1452.500000                 769.912500     73.510000       52.972500   \n",
       "max    2724.000000                8950.760000    100.000000      100.000000   \n",
       "\n",
       "             price  Average_Fare  \n",
       "count  1000.000000    1000.00000  \n",
       "mean    143.193090     163.37542  \n",
       "std      47.229184      55.36547  \n",
       "min      49.610000      50.52000  \n",
       "25%     113.767500     125.97500  \n",
       "50%     137.825000     161.34500  \n",
       "75%     168.530000     197.39250  \n",
       "max     387.940000     401.23000  "
      ]
     },
     "execution_count": 175,
     "metadata": {},
     "output_type": "execute_result"
    }
   ],
   "source": [
    "data.describe()"
   ]
  },
  {
   "cell_type": "code",
   "execution_count": 176,
   "metadata": {},
   "outputs": [
    {
     "data": {
      "text/html": [
       "<div>\n",
       "<style scoped>\n",
       "    .dataframe tbody tr th:only-of-type {\n",
       "        vertical-align: middle;\n",
       "    }\n",
       "\n",
       "    .dataframe tbody tr th {\n",
       "        vertical-align: top;\n",
       "    }\n",
       "\n",
       "    .dataframe thead th {\n",
       "        text-align: right;\n",
       "    }\n",
       "</style>\n",
       "<table border=\"1\" class=\"dataframe\">\n",
       "  <thead>\n",
       "    <tr style=\"text-align: right;\">\n",
       "      <th></th>\n",
       "      <th>City1</th>\n",
       "      <th>City2</th>\n",
       "      <th>market_leading_airline</th>\n",
       "      <th>Low_price_airline</th>\n",
       "    </tr>\n",
       "  </thead>\n",
       "  <tbody>\n",
       "    <tr>\n",
       "      <th>count</th>\n",
       "      <td>1001</td>\n",
       "      <td>1000</td>\n",
       "      <td>1000</td>\n",
       "      <td>1000</td>\n",
       "    </tr>\n",
       "    <tr>\n",
       "      <th>unique</th>\n",
       "      <td>91</td>\n",
       "      <td>85</td>\n",
       "      <td>16</td>\n",
       "      <td>19</td>\n",
       "    </tr>\n",
       "    <tr>\n",
       "      <th>top</th>\n",
       "      <td>ATL</td>\n",
       "      <td>TPA</td>\n",
       "      <td>WN</td>\n",
       "      <td>WN</td>\n",
       "    </tr>\n",
       "    <tr>\n",
       "      <th>freq</th>\n",
       "      <td>64</td>\n",
       "      <td>46</td>\n",
       "      <td>257</td>\n",
       "      <td>230</td>\n",
       "    </tr>\n",
       "  </tbody>\n",
       "</table>\n",
       "</div>"
      ],
      "text/plain": [
       "       City1 City2 market_leading_airline Low_price_airline\n",
       "count   1001  1000                   1000              1000\n",
       "unique    91    85                     16                19\n",
       "top      ATL   TPA                     WN                WN\n",
       "freq      64    46                    257               230"
      ]
     },
     "execution_count": 176,
     "metadata": {},
     "output_type": "execute_result"
    }
   ],
   "source": [
    "data.describe(include= ['O'])"
   ]
  },
  {
   "cell_type": "code",
   "execution_count": 177,
   "metadata": {},
   "outputs": [
    {
     "data": {
      "text/plain": [
       "City1                        0\n",
       "City2                        1\n",
       "Distance                     1\n",
       "Average_weekly_passengers    1\n",
       "market_leading_airline       1\n",
       "market_share                 1\n",
       "Low_price_airline            1\n",
       "market_share_1               1\n",
       "price                        1\n",
       "Average_Fare                 1\n",
       "dtype: int64"
      ]
     },
     "execution_count": 177,
     "metadata": {},
     "output_type": "execute_result"
    }
   ],
   "source": [
    "# Checking for missing values\n",
    "data.isnull().sum()"
   ]
  },
  {
   "cell_type": "code",
   "execution_count": 178,
   "metadata": {},
   "outputs": [],
   "source": [
    "# Dropping the missing values as there are very less values\n",
    "data=data.dropna()"
   ]
  },
  {
   "cell_type": "code",
   "execution_count": 179,
   "metadata": {},
   "outputs": [
    {
     "data": {
      "text/plain": [
       "City1                        0\n",
       "City2                        0\n",
       "Distance                     0\n",
       "Average_weekly_passengers    0\n",
       "market_leading_airline       0\n",
       "market_share                 0\n",
       "Low_price_airline            0\n",
       "market_share_1               0\n",
       "price                        0\n",
       "Average_Fare                 0\n",
       "dtype: int64"
      ]
     },
     "execution_count": 179,
     "metadata": {},
     "output_type": "execute_result"
    }
   ],
   "source": [
    "data.isnull().sum()"
   ]
  },
  {
   "cell_type": "markdown",
   "metadata": {},
   "source": [
    "# Exploratory Data Analysis"
   ]
  },
  {
   "cell_type": "code",
   "execution_count": 180,
   "metadata": {},
   "outputs": [
    {
     "name": "stderr",
     "output_type": "stream",
     "text": [
      "C:\\Users\\Satish\\Anaconda3\\lib\\site-packages\\scipy\\stats\\stats.py:1713: FutureWarning: Using a non-tuple sequence for multidimensional indexing is deprecated; use `arr[tuple(seq)]` instead of `arr[seq]`. In the future this will be interpreted as an array index, `arr[np.array(seq)]`, which will result either in an error or a different result.\n",
      "  return np.add.reduce(sorted[indexer] * weights, axis=axis) / sumval\n"
     ]
    },
    {
     "data": {
      "image/png": "[encoded data removed]",
      "text/plain": [
       "<Figure size 720x720 with 1 Axes>"
      ]
     },
     "metadata": {
      "needs_background": "light"
     },
     "output_type": "display_data"
    }
   ],
   "source": [
    "plt.figure(figsize=(10, 10))\n",
    "sns.distplot(data['Average_Fare'], color='b', bins=20, hist_kws={'alpha': 0.4});"
   ]
  },
  {
   "cell_type": "code",
   "execution_count": 181,
   "metadata": {},
   "outputs": [],
   "source": [
    "# From above plot,there are outliers after 350 and left skewed."
   ]
  },
  {
   "cell_type": "code",
   "execution_count": 182,
   "metadata": {},
   "outputs": [
    {
     "data": {
      "text/plain": [
       "6"
      ]
     },
     "execution_count": 182,
     "metadata": {},
     "output_type": "execute_result"
    }
   ],
   "source": [
    "# Finding the numerical coumns and object columns in train dataset\n",
    "data.count(numeric_only=True).count()"
   ]
  },
  {
   "cell_type": "code",
   "execution_count": 183,
   "metadata": {},
   "outputs": [
    {
     "data": {
      "text/html": [
       "<div>\n",
       "<style scoped>\n",
       "    .dataframe tbody tr th:only-of-type {\n",
       "        vertical-align: middle;\n",
       "    }\n",
       "\n",
       "    .dataframe tbody tr th {\n",
       "        vertical-align: top;\n",
       "    }\n",
       "\n",
       "    .dataframe thead th {\n",
       "        text-align: right;\n",
       "    }\n",
       "</style>\n",
       "<table border=\"1\" class=\"dataframe\">\n",
       "  <thead>\n",
       "    <tr style=\"text-align: right;\">\n",
       "      <th></th>\n",
       "      <th>City1</th>\n",
       "      <th>City2</th>\n",
       "      <th>Distance</th>\n",
       "      <th>Average_weekly_passengers</th>\n",
       "      <th>market_leading_airline</th>\n",
       "      <th>market_share</th>\n",
       "      <th>Low_price_airline</th>\n",
       "      <th>market_share_1</th>\n",
       "      <th>price</th>\n",
       "      <th>Average_Fare</th>\n",
       "    </tr>\n",
       "  </thead>\n",
       "  <tbody>\n",
       "    <tr>\n",
       "      <th>0</th>\n",
       "      <td>CAK</td>\n",
       "      <td>ATL</td>\n",
       "      <td>528.0</td>\n",
       "      <td>424.56</td>\n",
       "      <td>FL</td>\n",
       "      <td>70.19</td>\n",
       "      <td>FL</td>\n",
       "      <td>70.19</td>\n",
       "      <td>111.03</td>\n",
       "      <td>114.47</td>\n",
       "    </tr>\n",
       "    <tr>\n",
       "      <th>1</th>\n",
       "      <td>CAK</td>\n",
       "      <td>MCO</td>\n",
       "      <td>860.0</td>\n",
       "      <td>276.84</td>\n",
       "      <td>FL</td>\n",
       "      <td>75.10</td>\n",
       "      <td>DL</td>\n",
       "      <td>17.23</td>\n",
       "      <td>118.94</td>\n",
       "      <td>122.47</td>\n",
       "    </tr>\n",
       "    <tr>\n",
       "      <th>2</th>\n",
       "      <td>ALB</td>\n",
       "      <td>ATL</td>\n",
       "      <td>852.0</td>\n",
       "      <td>215.76</td>\n",
       "      <td>DL</td>\n",
       "      <td>78.89</td>\n",
       "      <td>CO</td>\n",
       "      <td>2.77</td>\n",
       "      <td>167.12</td>\n",
       "      <td>214.42</td>\n",
       "    </tr>\n",
       "    <tr>\n",
       "      <th>3</th>\n",
       "      <td>ALB</td>\n",
       "      <td>BWI</td>\n",
       "      <td>288.0</td>\n",
       "      <td>606.84</td>\n",
       "      <td>WN</td>\n",
       "      <td>96.97</td>\n",
       "      <td>WN</td>\n",
       "      <td>96.97</td>\n",
       "      <td>68.86</td>\n",
       "      <td>69.40</td>\n",
       "    </tr>\n",
       "    <tr>\n",
       "      <th>4</th>\n",
       "      <td>ALB</td>\n",
       "      <td>ORD</td>\n",
       "      <td>723.0</td>\n",
       "      <td>313.04</td>\n",
       "      <td>UA</td>\n",
       "      <td>39.79</td>\n",
       "      <td>WN</td>\n",
       "      <td>15.34</td>\n",
       "      <td>145.42</td>\n",
       "      <td>158.13</td>\n",
       "    </tr>\n",
       "  </tbody>\n",
       "</table>\n",
       "</div>"
      ],
      "text/plain": [
       "  City1 City2  Distance  Average_weekly_passengers market_leading_airline  \\\n",
       "0   CAK   ATL     528.0                     424.56                     FL   \n",
       "1   CAK   MCO     860.0                     276.84                     FL   \n",
       "2   ALB   ATL     852.0                     215.76                     DL   \n",
       "3   ALB   BWI     288.0                     606.84                     WN   \n",
       "4   ALB   ORD     723.0                     313.04                     UA   \n",
       "\n",
       "   market_share Low_price_airline  market_share_1   price  Average_Fare  \n",
       "0         70.19                FL           70.19  111.03        114.47  \n",
       "1         75.10                DL           17.23  118.94        122.47  \n",
       "2         78.89                CO            2.77  167.12        214.42  \n",
       "3         96.97                WN           96.97   68.86         69.40  \n",
       "4         39.79                WN           15.34  145.42        158.13  "
      ]
     },
     "execution_count": 183,
     "metadata": {},
     "output_type": "execute_result"
    }
   ],
   "source": [
    "data.head()"
   ]
  },
  {
   "cell_type": "code",
   "execution_count": 184,
   "metadata": {},
   "outputs": [
    {
     "data": {
      "text/html": [
       "<div>\n",
       "<style scoped>\n",
       "    .dataframe tbody tr th:only-of-type {\n",
       "        vertical-align: middle;\n",
       "    }\n",
       "\n",
       "    .dataframe tbody tr th {\n",
       "        vertical-align: top;\n",
       "    }\n",
       "\n",
       "    .dataframe thead th {\n",
       "        text-align: right;\n",
       "    }\n",
       "</style>\n",
       "<table border=\"1\" class=\"dataframe\">\n",
       "  <thead>\n",
       "    <tr style=\"text-align: right;\">\n",
       "      <th></th>\n",
       "      <th>Distance</th>\n",
       "      <th>Average_weekly_passengers</th>\n",
       "      <th>market_share</th>\n",
       "      <th>market_share_1</th>\n",
       "      <th>price</th>\n",
       "      <th>Average_Fare</th>\n",
       "    </tr>\n",
       "  </thead>\n",
       "  <tbody>\n",
       "    <tr>\n",
       "      <th>0</th>\n",
       "      <td>528.0</td>\n",
       "      <td>424.56</td>\n",
       "      <td>70.19</td>\n",
       "      <td>70.19</td>\n",
       "      <td>111.03</td>\n",
       "      <td>114.47</td>\n",
       "    </tr>\n",
       "    <tr>\n",
       "      <th>1</th>\n",
       "      <td>860.0</td>\n",
       "      <td>276.84</td>\n",
       "      <td>75.10</td>\n",
       "      <td>17.23</td>\n",
       "      <td>118.94</td>\n",
       "      <td>122.47</td>\n",
       "    </tr>\n",
       "    <tr>\n",
       "      <th>2</th>\n",
       "      <td>852.0</td>\n",
       "      <td>215.76</td>\n",
       "      <td>78.89</td>\n",
       "      <td>2.77</td>\n",
       "      <td>167.12</td>\n",
       "      <td>214.42</td>\n",
       "    </tr>\n",
       "    <tr>\n",
       "      <th>3</th>\n",
       "      <td>288.0</td>\n",
       "      <td>606.84</td>\n",
       "      <td>96.97</td>\n",
       "      <td>96.97</td>\n",
       "      <td>68.86</td>\n",
       "      <td>69.40</td>\n",
       "    </tr>\n",
       "    <tr>\n",
       "      <th>4</th>\n",
       "      <td>723.0</td>\n",
       "      <td>313.04</td>\n",
       "      <td>39.79</td>\n",
       "      <td>15.34</td>\n",
       "      <td>145.42</td>\n",
       "      <td>158.13</td>\n",
       "    </tr>\n",
       "  </tbody>\n",
       "</table>\n",
       "</div>"
      ],
      "text/plain": [
       "   Distance  Average_weekly_passengers  market_share  market_share_1   price  \\\n",
       "0     528.0                     424.56         70.19           70.19  111.03   \n",
       "1     860.0                     276.84         75.10           17.23  118.94   \n",
       "2     852.0                     215.76         78.89            2.77  167.12   \n",
       "3     288.0                     606.84         96.97           96.97   68.86   \n",
       "4     723.0                     313.04         39.79           15.34  145.42   \n",
       "\n",
       "   Average_Fare  \n",
       "0        114.47  \n",
       "1        122.47  \n",
       "2        214.42  \n",
       "3         69.40  \n",
       "4        158.13  "
      ]
     },
     "execution_count": 184,
     "metadata": {},
     "output_type": "execute_result"
    }
   ],
   "source": [
    "data_numerical = data.select_dtypes(include = ['float64', 'int64'])\n",
    "data_numerical.head()"
   ]
  },
  {
   "cell_type": "code",
   "execution_count": 185,
   "metadata": {},
   "outputs": [
    {
     "data": {
      "text/plain": [
       "array([[<matplotlib.axes._subplots.AxesSubplot object at 0x000000000F6BCC88>,\n",
       "        <matplotlib.axes._subplots.AxesSubplot object at 0x000000000F737898>],\n",
       "       [<matplotlib.axes._subplots.AxesSubplot object at 0x000000000F759F98>,\n",
       "        <matplotlib.axes._subplots.AxesSubplot object at 0x000000000F7876D8>],\n",
       "       [<matplotlib.axes._subplots.AxesSubplot object at 0x000000000F7ADDD8>,\n",
       "        <matplotlib.axes._subplots.AxesSubplot object at 0x000000000F7ADE10>]],\n",
       "      dtype=object)"
      ]
     },
     "execution_count": 185,
     "metadata": {},
     "output_type": "execute_result"
    },
    {
     "data": {
      "image/png": "[encoded data removed]",
      "text/plain": [
       "<Figure size 1152x1440 with 6 Axes>"
      ]
     },
     "metadata": {
      "needs_background": "light"
     },
     "output_type": "display_data"
    }
   ],
   "source": [
    "data_numerical.hist(figsize=(16, 20), bins=50)"
   ]
  },
  {
   "cell_type": "code",
   "execution_count": 186,
   "metadata": {},
   "outputs": [
    {
     "data": {
      "text/plain": [
       "<matplotlib.axes._subplots.AxesSubplot at 0xfd67940>"
      ]
     },
     "execution_count": 186,
     "metadata": {},
     "output_type": "execute_result"
    },
    {
     "data": {
      "image/png": "[encoded data removed]",
      "text/plain": [
       "<Figure size 432x288 with 2 Axes>"
      ]
     },
     "metadata": {
      "needs_background": "light"
     },
     "output_type": "display_data"
    }
   ],
   "source": [
    "# Correlation  among the features\n",
    "sns.heatmap(data_numerical.corr(), cmap='coolwarm')"
   ]
  },
  {
   "cell_type": "code",
   "execution_count": 187,
   "metadata": {},
   "outputs": [
    {
     "data": {
      "image/png": "[encoded data removed]",
      "text/plain": [
       "<Figure size 900x180 with 5 Axes>"
      ]
     },
     "metadata": {
      "needs_background": "light"
     },
     "output_type": "display_data"
    }
   ],
   "source": [
    "for i in range(0, len(data_numerical.columns), 6):\n",
    "    sns.pairplot(data=data_numerical,x_vars=data_numerical.columns[i:i+5],y_vars=['Average_Fare'])"
   ]
  },
  {
   "cell_type": "code",
   "execution_count": 188,
   "metadata": {},
   "outputs": [],
   "source": [
    "# Distance, Average weekly passengers and lowprice airline are haivng relationship with the target variable"
   ]
  },
  {
   "cell_type": "code",
   "execution_count": 189,
   "metadata": {},
   "outputs": [
    {
     "data": {
      "text/plain": [
       "Index(['Distance', 'Average_weekly_passengers', 'market_share',\n",
       "       'market_share_1', 'price', 'Average_Fare'],\n",
       "      dtype='object')"
      ]
     },
     "execution_count": 189,
     "metadata": {},
     "output_type": "execute_result"
    }
   ],
   "source": [
    "data_numerical.columns"
   ]
  },
  {
   "cell_type": "code",
   "execution_count": 190,
   "metadata": {},
   "outputs": [],
   "source": [
    "potential_Feat = ['City1', 'City2', 'Distance', 'Average_weekly_passengers','market_leading_airline', \n",
    "                  'market_share', 'Low_price_airline','market_share_1', 'price']"
   ]
  },
  {
   "cell_type": "code",
   "execution_count": 191,
   "metadata": {},
   "outputs": [
    {
     "data": {
      "text/plain": [
       "<matplotlib.axes._subplots.AxesSubplot at 0xfcdf080>"
      ]
     },
     "execution_count": 191,
     "metadata": {},
     "output_type": "execute_result"
    },
    {
     "data": {
      "image/png": "[encoded data removed]",
      "text/plain": [
       "<Figure size 720x720 with 2 Axes>"
      ]
     },
     "metadata": {
      "needs_background": "light"
     },
     "output_type": "display_data"
    }
   ],
   "source": [
    "corr = data_numerical.drop('Average_Fare', axis=1).corr()\n",
    "plt.figure(figsize=(10, 10))\n",
    "sns.heatmap(corr,annot=True)"
   ]
  },
  {
   "cell_type": "code",
   "execution_count": 192,
   "metadata": {},
   "outputs": [],
   "source": [
    "# the correlation between distance and price is highest 0.58. Followed by distance and market_share is -0.53\n",
    "# the market_share and price has low correlation of -0.31."
   ]
  },
  {
   "cell_type": "code",
   "execution_count": 193,
   "metadata": {},
   "outputs": [],
   "source": [
    "data_corr = data_numerical.corr()['Average_Fare'][:-1]\n",
    "HighCorr_features_list = data_corr[abs(data_corr) > 0.5].sort_values(ascending=False)"
   ]
  },
  {
   "cell_type": "code",
   "execution_count": 194,
   "metadata": {},
   "outputs": [],
   "source": [
    "# quantitative data exploration:"
   ]
  },
  {
   "cell_type": "code",
   "execution_count": 196,
   "metadata": {},
   "outputs": [],
   "source": [
    "#Let's now examine the quantitative features of our dataframe and how they relate to the average_fare which is also quantitative "
   ]
  },
  {
   "cell_type": "code",
   "execution_count": 197,
   "metadata": {},
   "outputs": [
    {
     "data": {
      "text/html": [
       "<div>\n",
       "<style scoped>\n",
       "    .dataframe tbody tr th:only-of-type {\n",
       "        vertical-align: middle;\n",
       "    }\n",
       "\n",
       "    .dataframe tbody tr th {\n",
       "        vertical-align: top;\n",
       "    }\n",
       "\n",
       "    .dataframe thead th {\n",
       "        text-align: right;\n",
       "    }\n",
       "</style>\n",
       "<table border=\"1\" class=\"dataframe\">\n",
       "  <thead>\n",
       "    <tr style=\"text-align: right;\">\n",
       "      <th></th>\n",
       "      <th>Distance</th>\n",
       "      <th>Average_weekly_passengers</th>\n",
       "      <th>market_share</th>\n",
       "      <th>market_share_1</th>\n",
       "      <th>price</th>\n",
       "      <th>Average_Fare</th>\n",
       "    </tr>\n",
       "  </thead>\n",
       "  <tbody>\n",
       "    <tr>\n",
       "      <th>0</th>\n",
       "      <td>528.0</td>\n",
       "      <td>424.56</td>\n",
       "      <td>70.19</td>\n",
       "      <td>70.19</td>\n",
       "      <td>111.03</td>\n",
       "      <td>114.47</td>\n",
       "    </tr>\n",
       "    <tr>\n",
       "      <th>1</th>\n",
       "      <td>860.0</td>\n",
       "      <td>276.84</td>\n",
       "      <td>75.10</td>\n",
       "      <td>17.23</td>\n",
       "      <td>118.94</td>\n",
       "      <td>122.47</td>\n",
       "    </tr>\n",
       "    <tr>\n",
       "      <th>2</th>\n",
       "      <td>852.0</td>\n",
       "      <td>215.76</td>\n",
       "      <td>78.89</td>\n",
       "      <td>2.77</td>\n",
       "      <td>167.12</td>\n",
       "      <td>214.42</td>\n",
       "    </tr>\n",
       "    <tr>\n",
       "      <th>3</th>\n",
       "      <td>288.0</td>\n",
       "      <td>606.84</td>\n",
       "      <td>96.97</td>\n",
       "      <td>96.97</td>\n",
       "      <td>68.86</td>\n",
       "      <td>69.40</td>\n",
       "    </tr>\n",
       "    <tr>\n",
       "      <th>4</th>\n",
       "      <td>723.0</td>\n",
       "      <td>313.04</td>\n",
       "      <td>39.79</td>\n",
       "      <td>15.34</td>\n",
       "      <td>145.42</td>\n",
       "      <td>158.13</td>\n",
       "    </tr>\n",
       "  </tbody>\n",
       "</table>\n",
       "</div>"
      ],
      "text/plain": [
       "   Distance  Average_weekly_passengers  market_share  market_share_1   price  \\\n",
       "0     528.0                     424.56         70.19           70.19  111.03   \n",
       "1     860.0                     276.84         75.10           17.23  118.94   \n",
       "2     852.0                     215.76         78.89            2.77  167.12   \n",
       "3     288.0                     606.84         96.97           96.97   68.86   \n",
       "4     723.0                     313.04         39.79           15.34  145.42   \n",
       "\n",
       "   Average_Fare  \n",
       "0        114.47  \n",
       "1        122.47  \n",
       "2        214.42  \n",
       "3         69.40  \n",
       "4        158.13  "
      ]
     },
     "execution_count": 197,
     "metadata": {},
     "output_type": "execute_result"
    }
   ],
   "source": [
    "quantitative_features = ['Distance', 'Average_weekly_passengers', 'market_share', 'market_share_1', 'price', 'Average_Fare']\n",
    "quantitative_df = data[quantitative_features]\n",
    "quantitative_df.head()"
   ]
  },
  {
   "cell_type": "code",
   "execution_count": 198,
   "metadata": {},
   "outputs": [
    {
     "data": {
      "text/plain": [
       "['Distance', 'price', 'Average_Fare']"
      ]
     },
     "execution_count": 198,
     "metadata": {},
     "output_type": "execute_result"
    }
   ],
   "source": [
    "features_to_analyse = [x for x in quantitative_features if x in HighCorr_features_list]\n",
    "features_to_analyse.append('Average_Fare')\n",
    "features_to_analyse"
   ]
  },
  {
   "cell_type": "code",
   "execution_count": 199,
   "metadata": {},
   "outputs": [
    {
     "name": "stderr",
     "output_type": "stream",
     "text": [
      "C:\\Users\\Satish\\Anaconda3\\lib\\site-packages\\scipy\\stats\\stats.py:1713: FutureWarning: Using a non-tuple sequence for multidimensional indexing is deprecated; use `arr[tuple(seq)]` instead of `arr[seq]`. In the future this will be interpreted as an array index, `arr[np.array(seq)]`, which will result either in an error or a different result.\n",
      "  return np.add.reduce(sorted[indexer] * weights, axis=axis) / sumval\n"
     ]
    },
    {
     "data": {
      "image/png": "[encoded data removed]",
      "text/plain": [
       "<Figure size 1080x720 with 2 Axes>"
      ]
     },
     "metadata": {
      "needs_background": "light"
     },
     "output_type": "display_data"
    }
   ],
   "source": [
    "fig, axes = plt.subplots(round(len(features_to_analyse) / 3), 2, figsize = (15, 10))\n",
    "for i, axes in enumerate(fig.axes):\n",
    "    if i < len(features_to_analyse) - 1:\n",
    "        sns.regplot(x=features_to_analyse[i],y='Average_Fare', data=data[features_to_analyse], ax=axes)"
   ]
  },
  {
   "cell_type": "code",
   "execution_count": 200,
   "metadata": {},
   "outputs": [],
   "source": [
    "# Categorical feature exploration:"
   ]
  },
  {
   "cell_type": "code",
   "execution_count": 201,
   "metadata": {},
   "outputs": [
    {
     "data": {
      "text/html": [
       "<div>\n",
       "<style scoped>\n",
       "    .dataframe tbody tr th:only-of-type {\n",
       "        vertical-align: middle;\n",
       "    }\n",
       "\n",
       "    .dataframe tbody tr th {\n",
       "        vertical-align: top;\n",
       "    }\n",
       "\n",
       "    .dataframe thead th {\n",
       "        text-align: right;\n",
       "    }\n",
       "</style>\n",
       "<table border=\"1\" class=\"dataframe\">\n",
       "  <thead>\n",
       "    <tr style=\"text-align: right;\">\n",
       "      <th></th>\n",
       "      <th>City1</th>\n",
       "      <th>City2</th>\n",
       "      <th>market_leading_airline</th>\n",
       "      <th>Low_price_airline</th>\n",
       "    </tr>\n",
       "  </thead>\n",
       "  <tbody>\n",
       "    <tr>\n",
       "      <th>0</th>\n",
       "      <td>CAK</td>\n",
       "      <td>ATL</td>\n",
       "      <td>FL</td>\n",
       "      <td>FL</td>\n",
       "    </tr>\n",
       "    <tr>\n",
       "      <th>1</th>\n",
       "      <td>CAK</td>\n",
       "      <td>MCO</td>\n",
       "      <td>FL</td>\n",
       "      <td>DL</td>\n",
       "    </tr>\n",
       "    <tr>\n",
       "      <th>2</th>\n",
       "      <td>ALB</td>\n",
       "      <td>ATL</td>\n",
       "      <td>DL</td>\n",
       "      <td>CO</td>\n",
       "    </tr>\n",
       "    <tr>\n",
       "      <th>3</th>\n",
       "      <td>ALB</td>\n",
       "      <td>BWI</td>\n",
       "      <td>WN</td>\n",
       "      <td>WN</td>\n",
       "    </tr>\n",
       "    <tr>\n",
       "      <th>4</th>\n",
       "      <td>ALB</td>\n",
       "      <td>ORD</td>\n",
       "      <td>UA</td>\n",
       "      <td>WN</td>\n",
       "    </tr>\n",
       "  </tbody>\n",
       "</table>\n",
       "</div>"
      ],
      "text/plain": [
       "  City1 City2 market_leading_airline Low_price_airline\n",
       "0   CAK   ATL                     FL                FL\n",
       "1   CAK   MCO                     FL                DL\n",
       "2   ALB   ATL                     DL                CO\n",
       "3   ALB   BWI                     WN                WN\n",
       "4   ALB   ORD                     UA                WN"
      ]
     },
     "execution_count": 201,
     "metadata": {},
     "output_type": "execute_result"
    }
   ],
   "source": [
    "data1_Categorical = data.select_dtypes(include = ['object'])\n",
    "data1_Categorical.head()"
   ]
  },
  {
   "cell_type": "code",
   "execution_count": 202,
   "metadata": {},
   "outputs": [
    {
     "data": {
      "text/html": [
       "<div>\n",
       "<style scoped>\n",
       "    .dataframe tbody tr th:only-of-type {\n",
       "        vertical-align: middle;\n",
       "    }\n",
       "\n",
       "    .dataframe tbody tr th {\n",
       "        vertical-align: top;\n",
       "    }\n",
       "\n",
       "    .dataframe thead th {\n",
       "        text-align: right;\n",
       "    }\n",
       "</style>\n",
       "<table border=\"1\" class=\"dataframe\">\n",
       "  <thead>\n",
       "    <tr style=\"text-align: right;\">\n",
       "      <th></th>\n",
       "      <th>City1</th>\n",
       "      <th>Average_Fare</th>\n",
       "      <th>City2</th>\n",
       "      <th>Distance</th>\n",
       "      <th>Average_weekly_passengers</th>\n",
       "      <th>market_leading_airline</th>\n",
       "      <th>market_share</th>\n",
       "      <th>Low_price_airline</th>\n",
       "      <th>market_share_1</th>\n",
       "      <th>price</th>\n",
       "    </tr>\n",
       "  </thead>\n",
       "  <tbody>\n",
       "    <tr>\n",
       "      <th>967</th>\n",
       "      <td>SFO</td>\n",
       "      <td>401.23</td>\n",
       "      <td>1</td>\n",
       "      <td>1</td>\n",
       "      <td>1</td>\n",
       "      <td>1</td>\n",
       "      <td>1</td>\n",
       "      <td>1</td>\n",
       "      <td>1</td>\n",
       "      <td>1</td>\n",
       "    </tr>\n",
       "    <tr>\n",
       "      <th>673</th>\n",
       "      <td>LGA</td>\n",
       "      <td>365.93</td>\n",
       "      <td>1</td>\n",
       "      <td>1</td>\n",
       "      <td>1</td>\n",
       "      <td>1</td>\n",
       "      <td>1</td>\n",
       "      <td>1</td>\n",
       "      <td>1</td>\n",
       "      <td>1</td>\n",
       "    </tr>\n",
       "    <tr>\n",
       "      <th>645</th>\n",
       "      <td>LAX</td>\n",
       "      <td>361.57</td>\n",
       "      <td>1</td>\n",
       "      <td>1</td>\n",
       "      <td>1</td>\n",
       "      <td>1</td>\n",
       "      <td>1</td>\n",
       "      <td>1</td>\n",
       "      <td>1</td>\n",
       "      <td>1</td>\n",
       "    </tr>\n",
       "    <tr>\n",
       "      <th>195</th>\n",
       "      <td>BOS</td>\n",
       "      <td>355.15</td>\n",
       "      <td>1</td>\n",
       "      <td>1</td>\n",
       "      <td>1</td>\n",
       "      <td>1</td>\n",
       "      <td>1</td>\n",
       "      <td>1</td>\n",
       "      <td>1</td>\n",
       "      <td>1</td>\n",
       "    </tr>\n",
       "    <tr>\n",
       "      <th>644</th>\n",
       "      <td>LAX</td>\n",
       "      <td>330.28</td>\n",
       "      <td>1</td>\n",
       "      <td>1</td>\n",
       "      <td>1</td>\n",
       "      <td>1</td>\n",
       "      <td>1</td>\n",
       "      <td>1</td>\n",
       "      <td>1</td>\n",
       "      <td>1</td>\n",
       "    </tr>\n",
       "  </tbody>\n",
       "</table>\n",
       "</div>"
      ],
      "text/plain": [
       "    City1  Average_Fare  City2  Distance  Average_weekly_passengers  \\\n",
       "967   SFO        401.23      1         1                          1   \n",
       "673   LGA        365.93      1         1                          1   \n",
       "645   LAX        361.57      1         1                          1   \n",
       "195   BOS        355.15      1         1                          1   \n",
       "644   LAX        330.28      1         1                          1   \n",
       "\n",
       "     market_leading_airline  market_share  Low_price_airline  market_share_1  \\\n",
       "967                       1             1                  1               1   \n",
       "673                       1             1                  1               1   \n",
       "645                       1             1                  1               1   \n",
       "195                       1             1                  1               1   \n",
       "644                       1             1                  1               1   \n",
       "\n",
       "     price  \n",
       "967      1  \n",
       "673      1  \n",
       "645      1  \n",
       "195      1  \n",
       "644      1  "
      ]
     },
     "execution_count": 202,
     "metadata": {},
     "output_type": "execute_result"
    }
   ],
   "source": [
    "x_df=data.groupby(['City1', 'Average_Fare'], as_index = False).count().sort_values(by = 'Average_Fare',ascending = False)\n",
    "x_df.head()"
   ]
  },
  {
   "cell_type": "code",
   "execution_count": 203,
   "metadata": {},
   "outputs": [
    {
     "name": "stderr",
     "output_type": "stream",
     "text": [
      "C:\\Users\\Satish\\Anaconda3\\lib\\site-packages\\scipy\\stats\\stats.py:1713: FutureWarning: Using a non-tuple sequence for multidimensional indexing is deprecated; use `arr[tuple(seq)]` instead of `arr[seq]`. In the future this will be interpreted as an array index, `arr[np.array(seq)]`, which will result either in an error or a different result.\n",
      "  return np.add.reduce(sorted[indexer] * weights, axis=axis) / sumval\n"
     ]
    },
    {
     "data": {
      "image/png": "[encoded data removed]",
      "text/plain": [
       "<Figure size 432x288 with 1 Axes>"
      ]
     },
     "metadata": {
      "needs_background": "light"
     },
     "output_type": "display_data"
    }
   ],
   "source": [
    "sns.barplot('City1', 'Average_Fare', data=np.round(data,3))\n",
    "plt.show()"
   ]
  },
  {
   "cell_type": "code",
   "execution_count": 204,
   "metadata": {},
   "outputs": [
    {
     "name": "stderr",
     "output_type": "stream",
     "text": [
      "C:\\Users\\Satish\\Anaconda3\\lib\\site-packages\\scipy\\stats\\stats.py:1713: FutureWarning: Using a non-tuple sequence for multidimensional indexing is deprecated; use `arr[tuple(seq)]` instead of `arr[seq]`. In the future this will be interpreted as an array index, `arr[np.array(seq)]`, which will result either in an error or a different result.\n",
      "  return np.add.reduce(sorted[indexer] * weights, axis=axis) / sumval\n"
     ]
    },
    {
     "data": {
      "image/png": "[encoded data removed]",
      "text/plain": [
       "<Figure size 432x288 with 1 Axes>"
      ]
     },
     "metadata": {
      "needs_background": "light"
     },
     "output_type": "display_data"
    }
   ],
   "source": [
    "sns.barplot('City2', 'Average_Fare', data=np.round(data,3))\n",
    "plt.show()"
   ]
  },
  {
   "cell_type": "code",
   "execution_count": 205,
   "metadata": {},
   "outputs": [
    {
     "name": "stderr",
     "output_type": "stream",
     "text": [
      "C:\\Users\\Satish\\Anaconda3\\lib\\site-packages\\scipy\\stats\\stats.py:1713: FutureWarning: Using a non-tuple sequence for multidimensional indexing is deprecated; use `arr[tuple(seq)]` instead of `arr[seq]`. In the future this will be interpreted as an array index, `arr[np.array(seq)]`, which will result either in an error or a different result.\n",
      "  return np.add.reduce(sorted[indexer] * weights, axis=axis) / sumval\n"
     ]
    },
    {
     "data": {
      "image/png": "[encoded data removed]",
      "text/plain": [
       "<Figure size 432x288 with 1 Axes>"
      ]
     },
     "metadata": {
      "needs_background": "light"
     },
     "output_type": "display_data"
    }
   ],
   "source": [
    "sns.barplot('market_leading_airline', 'Average_Fare', data=np.round(data,3))\n",
    "plt.show()"
   ]
  },
  {
   "cell_type": "code",
   "execution_count": 206,
   "metadata": {},
   "outputs": [
    {
     "name": "stderr",
     "output_type": "stream",
     "text": [
      "C:\\Users\\Satish\\Anaconda3\\lib\\site-packages\\scipy\\stats\\stats.py:1713: FutureWarning: Using a non-tuple sequence for multidimensional indexing is deprecated; use `arr[tuple(seq)]` instead of `arr[seq]`. In the future this will be interpreted as an array index, `arr[np.array(seq)]`, which will result either in an error or a different result.\n",
      "  return np.add.reduce(sorted[indexer] * weights, axis=axis) / sumval\n"
     ]
    },
    {
     "data": {
      "image/png": "[encoded data removed]",
      "text/plain": [
       "<Figure size 432x288 with 1 Axes>"
      ]
     },
     "metadata": {
      "needs_background": "light"
     },
     "output_type": "display_data"
    }
   ],
   "source": [
    "sns.barplot('Low_price_airline', 'Average_Fare', data=np.round(data,3))\n",
    "plt.show()"
   ]
  },
  {
   "cell_type": "code",
   "execution_count": 207,
   "metadata": {},
   "outputs": [],
   "source": [
    "# Categorical variables have too many variables for City1 and City2"
   ]
  },
  {
   "cell_type": "markdown",
   "metadata": {},
   "source": [
    "# Checking for outliers"
   ]
  },
  {
   "cell_type": "code",
   "execution_count": 208,
   "metadata": {},
   "outputs": [
    {
     "name": "stderr",
     "output_type": "stream",
     "text": [
      "C:\\Users\\Satish\\Anaconda3\\lib\\site-packages\\ipykernel_launcher.py:1: DeprecationWarning: \n",
      ".ix is deprecated. Please use\n",
      ".loc for label based indexing or\n",
      ".iloc for positional indexing\n",
      "\n",
      "See the documentation here:\n",
      "http://pandas.pydata.org/pandas-docs/stable/indexing.html#ix-indexer-is-deprecated\n",
      "  \"\"\"Entry point for launching an IPython kernel.\n"
     ]
    },
    {
     "data": {
      "text/plain": [
       "<matplotlib.axes._subplots.AxesSubplot at 0xfc81780>"
      ]
     },
     "execution_count": 208,
     "metadata": {},
     "output_type": "execute_result"
    },
    {
     "data": {
      "image/png": "[encoded data removed]",
      "text/plain": [
       "<Figure size 432x288 with 1 Axes>"
      ]
     },
     "metadata": {
      "needs_background": "light"
     },
     "output_type": "display_data"
    }
   ],
   "source": [
    "sns.boxplot(data=data.ix[:,2], color=\"skyblue\")"
   ]
  },
  {
   "cell_type": "code",
   "execution_count": 209,
   "metadata": {
    "scrolled": true
   },
   "outputs": [
    {
     "data": {
      "text/html": [
       "<div>\n",
       "<style scoped>\n",
       "    .dataframe tbody tr th:only-of-type {\n",
       "        vertical-align: middle;\n",
       "    }\n",
       "\n",
       "    .dataframe tbody tr th {\n",
       "        vertical-align: top;\n",
       "    }\n",
       "\n",
       "    .dataframe thead th {\n",
       "        text-align: right;\n",
       "    }\n",
       "</style>\n",
       "<table border=\"1\" class=\"dataframe\">\n",
       "  <thead>\n",
       "    <tr style=\"text-align: right;\">\n",
       "      <th></th>\n",
       "      <th>City1</th>\n",
       "      <th>City2</th>\n",
       "      <th>Distance</th>\n",
       "      <th>Average_weekly_passengers</th>\n",
       "      <th>market_leading_airline</th>\n",
       "      <th>market_share</th>\n",
       "      <th>Low_price_airline</th>\n",
       "      <th>market_share_1</th>\n",
       "      <th>price</th>\n",
       "      <th>Average_Fare</th>\n",
       "    </tr>\n",
       "  </thead>\n",
       "  <tbody>\n",
       "    <tr>\n",
       "      <th>0</th>\n",
       "      <td>CAK</td>\n",
       "      <td>ATL</td>\n",
       "      <td>528.0</td>\n",
       "      <td>424.56</td>\n",
       "      <td>FL</td>\n",
       "      <td>70.19</td>\n",
       "      <td>FL</td>\n",
       "      <td>70.19</td>\n",
       "      <td>111.03</td>\n",
       "      <td>114.47</td>\n",
       "    </tr>\n",
       "    <tr>\n",
       "      <th>1</th>\n",
       "      <td>CAK</td>\n",
       "      <td>MCO</td>\n",
       "      <td>860.0</td>\n",
       "      <td>276.84</td>\n",
       "      <td>FL</td>\n",
       "      <td>75.10</td>\n",
       "      <td>DL</td>\n",
       "      <td>17.23</td>\n",
       "      <td>118.94</td>\n",
       "      <td>122.47</td>\n",
       "    </tr>\n",
       "    <tr>\n",
       "      <th>2</th>\n",
       "      <td>ALB</td>\n",
       "      <td>ATL</td>\n",
       "      <td>852.0</td>\n",
       "      <td>215.76</td>\n",
       "      <td>DL</td>\n",
       "      <td>78.89</td>\n",
       "      <td>CO</td>\n",
       "      <td>2.77</td>\n",
       "      <td>167.12</td>\n",
       "      <td>214.42</td>\n",
       "    </tr>\n",
       "    <tr>\n",
       "      <th>3</th>\n",
       "      <td>ALB</td>\n",
       "      <td>BWI</td>\n",
       "      <td>288.0</td>\n",
       "      <td>606.84</td>\n",
       "      <td>WN</td>\n",
       "      <td>96.97</td>\n",
       "      <td>WN</td>\n",
       "      <td>96.97</td>\n",
       "      <td>68.86</td>\n",
       "      <td>69.40</td>\n",
       "    </tr>\n",
       "    <tr>\n",
       "      <th>4</th>\n",
       "      <td>ALB</td>\n",
       "      <td>ORD</td>\n",
       "      <td>723.0</td>\n",
       "      <td>313.04</td>\n",
       "      <td>UA</td>\n",
       "      <td>39.79</td>\n",
       "      <td>WN</td>\n",
       "      <td>15.34</td>\n",
       "      <td>145.42</td>\n",
       "      <td>158.13</td>\n",
       "    </tr>\n",
       "  </tbody>\n",
       "</table>\n",
       "</div>"
      ],
      "text/plain": [
       "  City1 City2  Distance  Average_weekly_passengers market_leading_airline  \\\n",
       "0   CAK   ATL     528.0                     424.56                     FL   \n",
       "1   CAK   MCO     860.0                     276.84                     FL   \n",
       "2   ALB   ATL     852.0                     215.76                     DL   \n",
       "3   ALB   BWI     288.0                     606.84                     WN   \n",
       "4   ALB   ORD     723.0                     313.04                     UA   \n",
       "\n",
       "   market_share Low_price_airline  market_share_1   price  Average_Fare  \n",
       "0         70.19                FL           70.19  111.03        114.47  \n",
       "1         75.10                DL           17.23  118.94        122.47  \n",
       "2         78.89                CO            2.77  167.12        214.42  \n",
       "3         96.97                WN           96.97   68.86         69.40  \n",
       "4         39.79                WN           15.34  145.42        158.13  "
      ]
     },
     "execution_count": 209,
     "metadata": {},
     "output_type": "execute_result"
    }
   ],
   "source": [
    "data.head()"
   ]
  },
  {
   "cell_type": "code",
   "execution_count": 210,
   "metadata": {},
   "outputs": [
    {
     "name": "stdout",
     "output_type": "stream",
     "text": [
      "<class 'pandas.core.frame.DataFrame'>\n",
      "Int64Index: 1000 entries, 0 to 999\n",
      "Data columns (total 10 columns):\n",
      "City1                        1000 non-null object\n",
      "City2                        1000 non-null object\n",
      "Distance                     1000 non-null float64\n",
      "Average_weekly_passengers    1000 non-null float64\n",
      "market_leading_airline       1000 non-null object\n",
      "market_share                 1000 non-null float64\n",
      "Low_price_airline            1000 non-null object\n",
      "market_share_1               1000 non-null float64\n",
      "price                        1000 non-null float64\n",
      "Average_Fare                 1000 non-null float64\n",
      "dtypes: float64(6), object(4)\n",
      "memory usage: 125.9+ KB\n"
     ]
    }
   ],
   "source": [
    "data.info()"
   ]
  },
  {
   "cell_type": "code",
   "execution_count": 211,
   "metadata": {
    "scrolled": true
   },
   "outputs": [
    {
     "name": "stderr",
     "output_type": "stream",
     "text": [
      "C:\\Users\\Satish\\Anaconda3\\lib\\site-packages\\ipykernel_launcher.py:1: DeprecationWarning: \n",
      ".ix is deprecated. Please use\n",
      ".loc for label based indexing or\n",
      ".iloc for positional indexing\n",
      "\n",
      "See the documentation here:\n",
      "http://pandas.pydata.org/pandas-docs/stable/indexing.html#ix-indexer-is-deprecated\n",
      "  \"\"\"Entry point for launching an IPython kernel.\n"
     ]
    },
    {
     "data": {
      "text/plain": [
       "<matplotlib.axes._subplots.AxesSubplot at 0xbb250b8>"
      ]
     },
     "execution_count": 211,
     "metadata": {},
     "output_type": "execute_result"
    },
    {
     "data": {
      "image/png": "[encoded data removed]",
      "text/plain": [
       "<Figure size 432x288 with 1 Axes>"
      ]
     },
     "metadata": {
      "needs_background": "light"
     },
     "output_type": "display_data"
    }
   ],
   "source": [
    "sns.boxplot(data=data.ix[:,3], color=\"skyblue\")"
   ]
  },
  {
   "cell_type": "code",
   "execution_count": 212,
   "metadata": {},
   "outputs": [],
   "source": [
    "# huge no. of outliers"
   ]
  },
  {
   "cell_type": "code",
   "execution_count": 213,
   "metadata": {},
   "outputs": [
    {
     "name": "stderr",
     "output_type": "stream",
     "text": [
      "C:\\Users\\Satish\\Anaconda3\\lib\\site-packages\\ipykernel_launcher.py:1: DeprecationWarning: \n",
      ".ix is deprecated. Please use\n",
      ".loc for label based indexing or\n",
      ".iloc for positional indexing\n",
      "\n",
      "See the documentation here:\n",
      "http://pandas.pydata.org/pandas-docs/stable/indexing.html#ix-indexer-is-deprecated\n",
      "  \"\"\"Entry point for launching an IPython kernel.\n"
     ]
    },
    {
     "data": {
      "text/plain": [
       "<matplotlib.axes._subplots.AxesSubplot at 0xe10bb38>"
      ]
     },
     "execution_count": 213,
     "metadata": {},
     "output_type": "execute_result"
    },
    {
     "data": {
      "image/png": "[encoded data removed]",
      "text/plain": [
       "<Figure size 432x288 with 1 Axes>"
      ]
     },
     "metadata": {
      "needs_background": "light"
     },
     "output_type": "display_data"
    }
   ],
   "source": [
    "sns.boxplot(data=data.ix[:,5], color=\"skyblue\")"
   ]
  },
  {
   "cell_type": "code",
   "execution_count": 214,
   "metadata": {},
   "outputs": [
    {
     "name": "stderr",
     "output_type": "stream",
     "text": [
      "C:\\Users\\Satish\\Anaconda3\\lib\\site-packages\\ipykernel_launcher.py:1: DeprecationWarning: \n",
      ".ix is deprecated. Please use\n",
      ".loc for label based indexing or\n",
      ".iloc for positional indexing\n",
      "\n",
      "See the documentation here:\n",
      "http://pandas.pydata.org/pandas-docs/stable/indexing.html#ix-indexer-is-deprecated\n",
      "  \"\"\"Entry point for launching an IPython kernel.\n"
     ]
    },
    {
     "data": {
      "text/plain": [
       "<matplotlib.axes._subplots.AxesSubplot at 0xfcab7f0>"
      ]
     },
     "execution_count": 214,
     "metadata": {},
     "output_type": "execute_result"
    },
    {
     "data": {
      "image/png": "[encoded data removed]",
      "text/plain": [
       "<Figure size 432x288 with 1 Axes>"
      ]
     },
     "metadata": {
      "needs_background": "light"
     },
     "output_type": "display_data"
    }
   ],
   "source": [
    "sns.boxplot(data=data.ix[:,7], color=\"skyblue\")"
   ]
  },
  {
   "cell_type": "code",
   "execution_count": 215,
   "metadata": {},
   "outputs": [
    {
     "name": "stderr",
     "output_type": "stream",
     "text": [
      "C:\\Users\\Satish\\Anaconda3\\lib\\site-packages\\ipykernel_launcher.py:4: DeprecationWarning: \n",
      ".ix is deprecated. Please use\n",
      ".loc for label based indexing or\n",
      ".iloc for positional indexing\n",
      "\n",
      "See the documentation here:\n",
      "http://pandas.pydata.org/pandas-docs/stable/indexing.html#ix-indexer-is-deprecated\n",
      "  after removing the cwd from sys.path.\n"
     ]
    },
    {
     "data": {
      "text/plain": [
       "<matplotlib.axes._subplots.AxesSubplot at 0x123fe1d0>"
      ]
     },
     "execution_count": 215,
     "metadata": {},
     "output_type": "execute_result"
    },
    {
     "data": {
      "image/png": "[encoded data removed]",
      "text/plain": [
       "<Figure size 432x288 with 1 Axes>"
      ]
     },
     "metadata": {
      "needs_background": "light"
     },
     "output_type": "display_data"
    }
   ],
   "source": [
    "# library & dataset\n",
    "import seaborn as sns\n",
    " \n",
    "sns.boxplot(data=data.ix[:,8], color=\"skyblue\")  ##Price\n",
    "#sns.plt.show()"
   ]
  },
  {
   "cell_type": "code",
   "execution_count": 216,
   "metadata": {},
   "outputs": [],
   "source": [
    "#outlier treatment -  clubbing beyond P1 and P99 percentiles"
   ]
  },
  {
   "cell_type": "code",
   "execution_count": 217,
   "metadata": {},
   "outputs": [
    {
     "name": "stdout",
     "output_type": "stream",
     "text": [
      "187.95 2586.01\n"
     ]
    }
   ],
   "source": [
    "# outlier treatment for numerical variables\n",
    "dis = data_numerical['Distance'].values  #series to array \n",
    "p1_dis = np.percentile(dis, 1) #percentile values\n",
    "p2_dis = np.percentile(dis, 99)\n",
    "print(p1_dis, p2_dis)"
   ]
  },
  {
   "cell_type": "code",
   "execution_count": 218,
   "metadata": {},
   "outputs": [
    {
     "name": "stdout",
     "output_type": "stream",
     "text": [
      "184.33679999999998 3699.3012999999996\n"
     ]
    }
   ],
   "source": [
    "# outlier treatment for numerical variables\n",
    "awp = data_numerical['Average_weekly_passengers'].values  #series to array \n",
    "p1_awp = np.percentile(awp, 1) #percentile values\n",
    "p2_awp = np.percentile(awp, 99)\n",
    "print(p1_awp, p2_awp)"
   ]
  },
  {
   "cell_type": "code",
   "execution_count": 219,
   "metadata": {},
   "outputs": [
    {
     "name": "stdout",
     "output_type": "stream",
     "text": [
      "22.9443 99.6801\n"
     ]
    }
   ],
   "source": [
    "# outlier treatment for numerical variables\n",
    "ms = data_numerical['market_share'].values  #series to array \n",
    "p1_ms = np.percentile(ms, 1) #percentile values\n",
    "p2_ms = np.percentile(ms, 99)\n",
    "print(p1_ms, p2_ms)"
   ]
  },
  {
   "cell_type": "code",
   "execution_count": 220,
   "metadata": {},
   "outputs": [
    {
     "name": "stdout",
     "output_type": "stream",
     "text": [
      "1.3099 99.6801\n"
     ]
    }
   ],
   "source": [
    "# outlier treatment for numerical variables\n",
    "ms1 = data_numerical['market_share_1'].values  #series to array \n",
    "p1_ms1 = np.percentile(ms1, 1) #percentile values\n",
    "p2_ms1 = np.percentile(ms1, 99)\n",
    "print(p1_ms1, p2_ms1)"
   ]
  },
  {
   "cell_type": "code",
   "execution_count": 221,
   "metadata": {},
   "outputs": [],
   "source": [
    "data_new = [data]\n",
    "\n",
    "for dataset1 in data_new:\n",
    "    dataset1.loc[dataset1.Distance < 187.95, 'Distance' ] = 187.95\n",
    "    dataset1.loc[dataset1.Distance > 2586.01, 'Distance' ] = 2586.01\n",
    "    \n",
    "    dataset1.loc[dataset1.Average_weekly_passengers < 184.33, 'Average_weekly_passengers' ] = 184.33\n",
    "    dataset1.loc[dataset1.Average_weekly_passengers > 3699.30, 'Average_weekly_passengers' ] = 3699.30\n",
    "    \n",
    "    dataset1.loc[dataset1.market_share < 22.9443, 'market_share' ] = 22.9443 \n",
    "    dataset1.loc[dataset1.market_share > 99.6801, 'market_share' ] = 99.6801\n",
    "    \n",
    "    dataset1.loc[dataset1.market_share_1 < 1.3099, 'market_share_1' ] = 1.3099\n",
    "    dataset1.loc[dataset1.market_share_1 > 99.6801, 'market_share_1' ] = 99.6801"
   ]
  },
  {
   "cell_type": "markdown",
   "metadata": {},
   "source": [
    "# Categorical data - dummy treatment"
   ]
  },
  {
   "cell_type": "code",
   "execution_count": 222,
   "metadata": {},
   "outputs": [
    {
     "data": {
      "text/html": [
       "<div>\n",
       "<style scoped>\n",
       "    .dataframe tbody tr th:only-of-type {\n",
       "        vertical-align: middle;\n",
       "    }\n",
       "\n",
       "    .dataframe tbody tr th {\n",
       "        vertical-align: top;\n",
       "    }\n",
       "\n",
       "    .dataframe thead th {\n",
       "        text-align: right;\n",
       "    }\n",
       "</style>\n",
       "<table border=\"1\" class=\"dataframe\">\n",
       "  <thead>\n",
       "    <tr style=\"text-align: right;\">\n",
       "      <th></th>\n",
       "      <th>City1</th>\n",
       "      <th>City2</th>\n",
       "      <th>Distance</th>\n",
       "      <th>Average_weekly_passengers</th>\n",
       "      <th>market_leading_airline</th>\n",
       "      <th>market_share</th>\n",
       "      <th>Low_price_airline</th>\n",
       "      <th>market_share_1</th>\n",
       "      <th>price</th>\n",
       "      <th>Average_Fare</th>\n",
       "    </tr>\n",
       "  </thead>\n",
       "  <tbody>\n",
       "    <tr>\n",
       "      <th>0</th>\n",
       "      <td>CAK</td>\n",
       "      <td>ATL</td>\n",
       "      <td>528.0</td>\n",
       "      <td>424.56</td>\n",
       "      <td>FL</td>\n",
       "      <td>70.19</td>\n",
       "      <td>FL</td>\n",
       "      <td>70.19</td>\n",
       "      <td>111.03</td>\n",
       "      <td>114.47</td>\n",
       "    </tr>\n",
       "    <tr>\n",
       "      <th>1</th>\n",
       "      <td>CAK</td>\n",
       "      <td>MCO</td>\n",
       "      <td>860.0</td>\n",
       "      <td>276.84</td>\n",
       "      <td>FL</td>\n",
       "      <td>75.10</td>\n",
       "      <td>DL</td>\n",
       "      <td>17.23</td>\n",
       "      <td>118.94</td>\n",
       "      <td>122.47</td>\n",
       "    </tr>\n",
       "    <tr>\n",
       "      <th>2</th>\n",
       "      <td>ALB</td>\n",
       "      <td>ATL</td>\n",
       "      <td>852.0</td>\n",
       "      <td>215.76</td>\n",
       "      <td>DL</td>\n",
       "      <td>78.89</td>\n",
       "      <td>CO</td>\n",
       "      <td>2.77</td>\n",
       "      <td>167.12</td>\n",
       "      <td>214.42</td>\n",
       "    </tr>\n",
       "    <tr>\n",
       "      <th>3</th>\n",
       "      <td>ALB</td>\n",
       "      <td>BWI</td>\n",
       "      <td>288.0</td>\n",
       "      <td>606.84</td>\n",
       "      <td>WN</td>\n",
       "      <td>96.97</td>\n",
       "      <td>WN</td>\n",
       "      <td>96.97</td>\n",
       "      <td>68.86</td>\n",
       "      <td>69.40</td>\n",
       "    </tr>\n",
       "    <tr>\n",
       "      <th>4</th>\n",
       "      <td>ALB</td>\n",
       "      <td>ORD</td>\n",
       "      <td>723.0</td>\n",
       "      <td>313.04</td>\n",
       "      <td>UA</td>\n",
       "      <td>39.79</td>\n",
       "      <td>WN</td>\n",
       "      <td>15.34</td>\n",
       "      <td>145.42</td>\n",
       "      <td>158.13</td>\n",
       "    </tr>\n",
       "  </tbody>\n",
       "</table>\n",
       "</div>"
      ],
      "text/plain": [
       "  City1 City2  Distance  Average_weekly_passengers market_leading_airline  \\\n",
       "0   CAK   ATL     528.0                     424.56                     FL   \n",
       "1   CAK   MCO     860.0                     276.84                     FL   \n",
       "2   ALB   ATL     852.0                     215.76                     DL   \n",
       "3   ALB   BWI     288.0                     606.84                     WN   \n",
       "4   ALB   ORD     723.0                     313.04                     UA   \n",
       "\n",
       "   market_share Low_price_airline  market_share_1   price  Average_Fare  \n",
       "0         70.19                FL           70.19  111.03        114.47  \n",
       "1         75.10                DL           17.23  118.94        122.47  \n",
       "2         78.89                CO            2.77  167.12        214.42  \n",
       "3         96.97                WN           96.97   68.86         69.40  \n",
       "4         39.79                WN           15.34  145.42        158.13  "
      ]
     },
     "execution_count": 222,
     "metadata": {},
     "output_type": "execute_result"
    }
   ],
   "source": [
    "df_cat = data\n",
    "df_cat.head()"
   ]
  },
  {
   "cell_type": "code",
   "execution_count": 223,
   "metadata": {},
   "outputs": [
    {
     "data": {
      "text/html": [
       "<div>\n",
       "<style scoped>\n",
       "    .dataframe tbody tr th:only-of-type {\n",
       "        vertical-align: middle;\n",
       "    }\n",
       "\n",
       "    .dataframe tbody tr th {\n",
       "        vertical-align: top;\n",
       "    }\n",
       "\n",
       "    .dataframe thead th {\n",
       "        text-align: right;\n",
       "    }\n",
       "</style>\n",
       "<table border=\"1\" class=\"dataframe\">\n",
       "  <thead>\n",
       "    <tr style=\"text-align: right;\">\n",
       "      <th></th>\n",
       "      <th>C1_ACY</th>\n",
       "      <th>C1_ALB</th>\n",
       "      <th>C1_AMA</th>\n",
       "      <th>C1_ATL</th>\n",
       "      <th>C1_AUS</th>\n",
       "      <th>C1_BDL</th>\n",
       "      <th>C1_BHM</th>\n",
       "      <th>C1_BNA</th>\n",
       "      <th>C1_BOI</th>\n",
       "      <th>C1_BOS</th>\n",
       "      <th>...</th>\n",
       "      <th>C1_SFO</th>\n",
       "      <th>C1_SJC</th>\n",
       "      <th>C1_SLC</th>\n",
       "      <th>C1_SMF</th>\n",
       "      <th>C1_SNA</th>\n",
       "      <th>C1_STL</th>\n",
       "      <th>C1_SYR</th>\n",
       "      <th>C1_TLH</th>\n",
       "      <th>C1_TPA</th>\n",
       "      <th>C1_TYS</th>\n",
       "    </tr>\n",
       "  </thead>\n",
       "  <tbody>\n",
       "    <tr>\n",
       "      <th>0</th>\n",
       "      <td>0</td>\n",
       "      <td>0</td>\n",
       "      <td>0</td>\n",
       "      <td>0</td>\n",
       "      <td>0</td>\n",
       "      <td>0</td>\n",
       "      <td>0</td>\n",
       "      <td>0</td>\n",
       "      <td>0</td>\n",
       "      <td>0</td>\n",
       "      <td>...</td>\n",
       "      <td>0</td>\n",
       "      <td>0</td>\n",
       "      <td>0</td>\n",
       "      <td>0</td>\n",
       "      <td>0</td>\n",
       "      <td>0</td>\n",
       "      <td>0</td>\n",
       "      <td>0</td>\n",
       "      <td>0</td>\n",
       "      <td>0</td>\n",
       "    </tr>\n",
       "    <tr>\n",
       "      <th>1</th>\n",
       "      <td>0</td>\n",
       "      <td>0</td>\n",
       "      <td>0</td>\n",
       "      <td>0</td>\n",
       "      <td>0</td>\n",
       "      <td>0</td>\n",
       "      <td>0</td>\n",
       "      <td>0</td>\n",
       "      <td>0</td>\n",
       "      <td>0</td>\n",
       "      <td>...</td>\n",
       "      <td>0</td>\n",
       "      <td>0</td>\n",
       "      <td>0</td>\n",
       "      <td>0</td>\n",
       "      <td>0</td>\n",
       "      <td>0</td>\n",
       "      <td>0</td>\n",
       "      <td>0</td>\n",
       "      <td>0</td>\n",
       "      <td>0</td>\n",
       "    </tr>\n",
       "    <tr>\n",
       "      <th>2</th>\n",
       "      <td>0</td>\n",
       "      <td>1</td>\n",
       "      <td>0</td>\n",
       "      <td>0</td>\n",
       "      <td>0</td>\n",
       "      <td>0</td>\n",
       "      <td>0</td>\n",
       "      <td>0</td>\n",
       "      <td>0</td>\n",
       "      <td>0</td>\n",
       "      <td>...</td>\n",
       "      <td>0</td>\n",
       "      <td>0</td>\n",
       "      <td>0</td>\n",
       "      <td>0</td>\n",
       "      <td>0</td>\n",
       "      <td>0</td>\n",
       "      <td>0</td>\n",
       "      <td>0</td>\n",
       "      <td>0</td>\n",
       "      <td>0</td>\n",
       "    </tr>\n",
       "    <tr>\n",
       "      <th>3</th>\n",
       "      <td>0</td>\n",
       "      <td>1</td>\n",
       "      <td>0</td>\n",
       "      <td>0</td>\n",
       "      <td>0</td>\n",
       "      <td>0</td>\n",
       "      <td>0</td>\n",
       "      <td>0</td>\n",
       "      <td>0</td>\n",
       "      <td>0</td>\n",
       "      <td>...</td>\n",
       "      <td>0</td>\n",
       "      <td>0</td>\n",
       "      <td>0</td>\n",
       "      <td>0</td>\n",
       "      <td>0</td>\n",
       "      <td>0</td>\n",
       "      <td>0</td>\n",
       "      <td>0</td>\n",
       "      <td>0</td>\n",
       "      <td>0</td>\n",
       "    </tr>\n",
       "    <tr>\n",
       "      <th>4</th>\n",
       "      <td>0</td>\n",
       "      <td>1</td>\n",
       "      <td>0</td>\n",
       "      <td>0</td>\n",
       "      <td>0</td>\n",
       "      <td>0</td>\n",
       "      <td>0</td>\n",
       "      <td>0</td>\n",
       "      <td>0</td>\n",
       "      <td>0</td>\n",
       "      <td>...</td>\n",
       "      <td>0</td>\n",
       "      <td>0</td>\n",
       "      <td>0</td>\n",
       "      <td>0</td>\n",
       "      <td>0</td>\n",
       "      <td>0</td>\n",
       "      <td>0</td>\n",
       "      <td>0</td>\n",
       "      <td>0</td>\n",
       "      <td>0</td>\n",
       "    </tr>\n",
       "  </tbody>\n",
       "</table>\n",
       "<p>5 rows × 89 columns</p>\n",
       "</div>"
      ],
      "text/plain": [
       "   C1_ACY  C1_ALB  C1_AMA  C1_ATL  C1_AUS  C1_BDL  C1_BHM  C1_BNA  C1_BOI  \\\n",
       "0       0       0       0       0       0       0       0       0       0   \n",
       "1       0       0       0       0       0       0       0       0       0   \n",
       "2       0       1       0       0       0       0       0       0       0   \n",
       "3       0       1       0       0       0       0       0       0       0   \n",
       "4       0       1       0       0       0       0       0       0       0   \n",
       "\n",
       "   C1_BOS   ...    C1_SFO  C1_SJC  C1_SLC  C1_SMF  C1_SNA  C1_STL  C1_SYR  \\\n",
       "0       0   ...         0       0       0       0       0       0       0   \n",
       "1       0   ...         0       0       0       0       0       0       0   \n",
       "2       0   ...         0       0       0       0       0       0       0   \n",
       "3       0   ...         0       0       0       0       0       0       0   \n",
       "4       0   ...         0       0       0       0       0       0       0   \n",
       "\n",
       "   C1_TLH  C1_TPA  C1_TYS  \n",
       "0       0       0       0  \n",
       "1       0       0       0  \n",
       "2       0       0       0  \n",
       "3       0       0       0  \n",
       "4       0       0       0  \n",
       "\n",
       "[5 rows x 89 columns]"
      ]
     },
     "execution_count": 223,
     "metadata": {},
     "output_type": "execute_result"
    }
   ],
   "source": [
    "City1_dummies = pd.get_dummies(df_cat.City1,prefix='C1',drop_first=True)\n",
    "City1_dummies.head()"
   ]
  },
  {
   "cell_type": "code",
   "execution_count": 224,
   "metadata": {},
   "outputs": [
    {
     "data": {
      "text/html": [
       "<div>\n",
       "<style scoped>\n",
       "    .dataframe tbody tr th:only-of-type {\n",
       "        vertical-align: middle;\n",
       "    }\n",
       "\n",
       "    .dataframe tbody tr th {\n",
       "        vertical-align: top;\n",
       "    }\n",
       "\n",
       "    .dataframe thead th {\n",
       "        text-align: right;\n",
       "    }\n",
       "</style>\n",
       "<table border=\"1\" class=\"dataframe\">\n",
       "  <thead>\n",
       "    <tr style=\"text-align: right;\">\n",
       "      <th></th>\n",
       "      <th>C2_AUS</th>\n",
       "      <th>C2_BDL</th>\n",
       "      <th>C2_BHM</th>\n",
       "      <th>C2_BNA</th>\n",
       "      <th>C2_BOS</th>\n",
       "      <th>C2_BUF</th>\n",
       "      <th>C2_BWI</th>\n",
       "      <th>C2_CLE</th>\n",
       "      <th>C2_CLT</th>\n",
       "      <th>C2_CMH</th>\n",
       "      <th>...</th>\n",
       "      <th>C2_SLC</th>\n",
       "      <th>C2_SMF</th>\n",
       "      <th>C2_SNA</th>\n",
       "      <th>C2_SRQ</th>\n",
       "      <th>C2_STL</th>\n",
       "      <th>C2_SYR</th>\n",
       "      <th>C2_TLH</th>\n",
       "      <th>C2_TPA</th>\n",
       "      <th>C2_TUL</th>\n",
       "      <th>C2_TUS</th>\n",
       "    </tr>\n",
       "  </thead>\n",
       "  <tbody>\n",
       "    <tr>\n",
       "      <th>0</th>\n",
       "      <td>0</td>\n",
       "      <td>0</td>\n",
       "      <td>0</td>\n",
       "      <td>0</td>\n",
       "      <td>0</td>\n",
       "      <td>0</td>\n",
       "      <td>0</td>\n",
       "      <td>0</td>\n",
       "      <td>0</td>\n",
       "      <td>0</td>\n",
       "      <td>...</td>\n",
       "      <td>0</td>\n",
       "      <td>0</td>\n",
       "      <td>0</td>\n",
       "      <td>0</td>\n",
       "      <td>0</td>\n",
       "      <td>0</td>\n",
       "      <td>0</td>\n",
       "      <td>0</td>\n",
       "      <td>0</td>\n",
       "      <td>0</td>\n",
       "    </tr>\n",
       "    <tr>\n",
       "      <th>1</th>\n",
       "      <td>0</td>\n",
       "      <td>0</td>\n",
       "      <td>0</td>\n",
       "      <td>0</td>\n",
       "      <td>0</td>\n",
       "      <td>0</td>\n",
       "      <td>0</td>\n",
       "      <td>0</td>\n",
       "      <td>0</td>\n",
       "      <td>0</td>\n",
       "      <td>...</td>\n",
       "      <td>0</td>\n",
       "      <td>0</td>\n",
       "      <td>0</td>\n",
       "      <td>0</td>\n",
       "      <td>0</td>\n",
       "      <td>0</td>\n",
       "      <td>0</td>\n",
       "      <td>0</td>\n",
       "      <td>0</td>\n",
       "      <td>0</td>\n",
       "    </tr>\n",
       "    <tr>\n",
       "      <th>2</th>\n",
       "      <td>0</td>\n",
       "      <td>0</td>\n",
       "      <td>0</td>\n",
       "      <td>0</td>\n",
       "      <td>0</td>\n",
       "      <td>0</td>\n",
       "      <td>0</td>\n",
       "      <td>0</td>\n",
       "      <td>0</td>\n",
       "      <td>0</td>\n",
       "      <td>...</td>\n",
       "      <td>0</td>\n",
       "      <td>0</td>\n",
       "      <td>0</td>\n",
       "      <td>0</td>\n",
       "      <td>0</td>\n",
       "      <td>0</td>\n",
       "      <td>0</td>\n",
       "      <td>0</td>\n",
       "      <td>0</td>\n",
       "      <td>0</td>\n",
       "    </tr>\n",
       "    <tr>\n",
       "      <th>3</th>\n",
       "      <td>0</td>\n",
       "      <td>0</td>\n",
       "      <td>0</td>\n",
       "      <td>0</td>\n",
       "      <td>0</td>\n",
       "      <td>0</td>\n",
       "      <td>1</td>\n",
       "      <td>0</td>\n",
       "      <td>0</td>\n",
       "      <td>0</td>\n",
       "      <td>...</td>\n",
       "      <td>0</td>\n",
       "      <td>0</td>\n",
       "      <td>0</td>\n",
       "      <td>0</td>\n",
       "      <td>0</td>\n",
       "      <td>0</td>\n",
       "      <td>0</td>\n",
       "      <td>0</td>\n",
       "      <td>0</td>\n",
       "      <td>0</td>\n",
       "    </tr>\n",
       "    <tr>\n",
       "      <th>4</th>\n",
       "      <td>0</td>\n",
       "      <td>0</td>\n",
       "      <td>0</td>\n",
       "      <td>0</td>\n",
       "      <td>0</td>\n",
       "      <td>0</td>\n",
       "      <td>0</td>\n",
       "      <td>0</td>\n",
       "      <td>0</td>\n",
       "      <td>0</td>\n",
       "      <td>...</td>\n",
       "      <td>0</td>\n",
       "      <td>0</td>\n",
       "      <td>0</td>\n",
       "      <td>0</td>\n",
       "      <td>0</td>\n",
       "      <td>0</td>\n",
       "      <td>0</td>\n",
       "      <td>0</td>\n",
       "      <td>0</td>\n",
       "      <td>0</td>\n",
       "    </tr>\n",
       "  </tbody>\n",
       "</table>\n",
       "<p>5 rows × 84 columns</p>\n",
       "</div>"
      ],
      "text/plain": [
       "   C2_AUS  C2_BDL  C2_BHM  C2_BNA  C2_BOS  C2_BUF  C2_BWI  C2_CLE  C2_CLT  \\\n",
       "0       0       0       0       0       0       0       0       0       0   \n",
       "1       0       0       0       0       0       0       0       0       0   \n",
       "2       0       0       0       0       0       0       0       0       0   \n",
       "3       0       0       0       0       0       0       1       0       0   \n",
       "4       0       0       0       0       0       0       0       0       0   \n",
       "\n",
       "   C2_CMH   ...    C2_SLC  C2_SMF  C2_SNA  C2_SRQ  C2_STL  C2_SYR  C2_TLH  \\\n",
       "0       0   ...         0       0       0       0       0       0       0   \n",
       "1       0   ...         0       0       0       0       0       0       0   \n",
       "2       0   ...         0       0       0       0       0       0       0   \n",
       "3       0   ...         0       0       0       0       0       0       0   \n",
       "4       0   ...         0       0       0       0       0       0       0   \n",
       "\n",
       "   C2_TPA  C2_TUL  C2_TUS  \n",
       "0       0       0       0  \n",
       "1       0       0       0  \n",
       "2       0       0       0  \n",
       "3       0       0       0  \n",
       "4       0       0       0  \n",
       "\n",
       "[5 rows x 84 columns]"
      ]
     },
     "execution_count": 224,
     "metadata": {},
     "output_type": "execute_result"
    }
   ],
   "source": [
    "City2_dummies = pd.get_dummies(df_cat.City2,prefix='C2',drop_first=True)\n",
    "City2_dummies.head()"
   ]
  },
  {
   "cell_type": "code",
   "execution_count": 225,
   "metadata": {},
   "outputs": [],
   "source": [
    "#Too many columns created for City1 and City2, dropping them."
   ]
  },
  {
   "cell_type": "code",
   "execution_count": 226,
   "metadata": {},
   "outputs": [
    {
     "data": {
      "text/html": [
       "<div>\n",
       "<style scoped>\n",
       "    .dataframe tbody tr th:only-of-type {\n",
       "        vertical-align: middle;\n",
       "    }\n",
       "\n",
       "    .dataframe tbody tr th {\n",
       "        vertical-align: top;\n",
       "    }\n",
       "\n",
       "    .dataframe thead th {\n",
       "        text-align: right;\n",
       "    }\n",
       "</style>\n",
       "<table border=\"1\" class=\"dataframe\">\n",
       "  <thead>\n",
       "    <tr style=\"text-align: right;\">\n",
       "      <th></th>\n",
       "      <th>MLA_AS</th>\n",
       "      <th>MLA_B6</th>\n",
       "      <th>MLA_CO</th>\n",
       "      <th>MLA_DL</th>\n",
       "      <th>MLA_F9</th>\n",
       "      <th>MLA_FL</th>\n",
       "      <th>MLA_G4</th>\n",
       "      <th>MLA_HP</th>\n",
       "      <th>MLA_NK</th>\n",
       "      <th>MLA_NW</th>\n",
       "      <th>MLA_TZ</th>\n",
       "      <th>MLA_UA</th>\n",
       "      <th>MLA_US</th>\n",
       "      <th>MLA_WN</th>\n",
       "      <th>MLA_YX</th>\n",
       "    </tr>\n",
       "  </thead>\n",
       "  <tbody>\n",
       "    <tr>\n",
       "      <th>0</th>\n",
       "      <td>0</td>\n",
       "      <td>0</td>\n",
       "      <td>0</td>\n",
       "      <td>0</td>\n",
       "      <td>0</td>\n",
       "      <td>1</td>\n",
       "      <td>0</td>\n",
       "      <td>0</td>\n",
       "      <td>0</td>\n",
       "      <td>0</td>\n",
       "      <td>0</td>\n",
       "      <td>0</td>\n",
       "      <td>0</td>\n",
       "      <td>0</td>\n",
       "      <td>0</td>\n",
       "    </tr>\n",
       "    <tr>\n",
       "      <th>1</th>\n",
       "      <td>0</td>\n",
       "      <td>0</td>\n",
       "      <td>0</td>\n",
       "      <td>0</td>\n",
       "      <td>0</td>\n",
       "      <td>1</td>\n",
       "      <td>0</td>\n",
       "      <td>0</td>\n",
       "      <td>0</td>\n",
       "      <td>0</td>\n",
       "      <td>0</td>\n",
       "      <td>0</td>\n",
       "      <td>0</td>\n",
       "      <td>0</td>\n",
       "      <td>0</td>\n",
       "    </tr>\n",
       "    <tr>\n",
       "      <th>2</th>\n",
       "      <td>0</td>\n",
       "      <td>0</td>\n",
       "      <td>0</td>\n",
       "      <td>1</td>\n",
       "      <td>0</td>\n",
       "      <td>0</td>\n",
       "      <td>0</td>\n",
       "      <td>0</td>\n",
       "      <td>0</td>\n",
       "      <td>0</td>\n",
       "      <td>0</td>\n",
       "      <td>0</td>\n",
       "      <td>0</td>\n",
       "      <td>0</td>\n",
       "      <td>0</td>\n",
       "    </tr>\n",
       "    <tr>\n",
       "      <th>3</th>\n",
       "      <td>0</td>\n",
       "      <td>0</td>\n",
       "      <td>0</td>\n",
       "      <td>0</td>\n",
       "      <td>0</td>\n",
       "      <td>0</td>\n",
       "      <td>0</td>\n",
       "      <td>0</td>\n",
       "      <td>0</td>\n",
       "      <td>0</td>\n",
       "      <td>0</td>\n",
       "      <td>0</td>\n",
       "      <td>0</td>\n",
       "      <td>1</td>\n",
       "      <td>0</td>\n",
       "    </tr>\n",
       "    <tr>\n",
       "      <th>4</th>\n",
       "      <td>0</td>\n",
       "      <td>0</td>\n",
       "      <td>0</td>\n",
       "      <td>0</td>\n",
       "      <td>0</td>\n",
       "      <td>0</td>\n",
       "      <td>0</td>\n",
       "      <td>0</td>\n",
       "      <td>0</td>\n",
       "      <td>0</td>\n",
       "      <td>0</td>\n",
       "      <td>1</td>\n",
       "      <td>0</td>\n",
       "      <td>0</td>\n",
       "      <td>0</td>\n",
       "    </tr>\n",
       "  </tbody>\n",
       "</table>\n",
       "</div>"
      ],
      "text/plain": [
       "   MLA_AS  MLA_B6  MLA_CO  MLA_DL  MLA_F9  MLA_FL  MLA_G4  MLA_HP  MLA_NK  \\\n",
       "0       0       0       0       0       0       1       0       0       0   \n",
       "1       0       0       0       0       0       1       0       0       0   \n",
       "2       0       0       0       1       0       0       0       0       0   \n",
       "3       0       0       0       0       0       0       0       0       0   \n",
       "4       0       0       0       0       0       0       0       0       0   \n",
       "\n",
       "   MLA_NW  MLA_TZ  MLA_UA  MLA_US  MLA_WN  MLA_YX  \n",
       "0       0       0       0       0       0       0  \n",
       "1       0       0       0       0       0       0  \n",
       "2       0       0       0       0       0       0  \n",
       "3       0       0       0       0       1       0  \n",
       "4       0       0       1       0       0       0  "
      ]
     },
     "execution_count": 226,
     "metadata": {},
     "output_type": "execute_result"
    }
   ],
   "source": [
    "MLA_dummies = pd.get_dummies(df_cat.market_leading_airline,prefix='MLA',drop_first=True)\n",
    "MLA_dummies.head()"
   ]
  },
  {
   "cell_type": "code",
   "execution_count": 227,
   "metadata": {},
   "outputs": [
    {
     "data": {
      "text/html": [
       "<div>\n",
       "<style scoped>\n",
       "    .dataframe tbody tr th:only-of-type {\n",
       "        vertical-align: middle;\n",
       "    }\n",
       "\n",
       "    .dataframe tbody tr th {\n",
       "        vertical-align: top;\n",
       "    }\n",
       "\n",
       "    .dataframe thead th {\n",
       "        text-align: right;\n",
       "    }\n",
       "</style>\n",
       "<table border=\"1\" class=\"dataframe\">\n",
       "  <thead>\n",
       "    <tr style=\"text-align: right;\">\n",
       "      <th></th>\n",
       "      <th>LPA_AQ</th>\n",
       "      <th>LPA_AS</th>\n",
       "      <th>LPA_AX</th>\n",
       "      <th>LPA_B6</th>\n",
       "      <th>LPA_CO</th>\n",
       "      <th>LPA_DL</th>\n",
       "      <th>LPA_F9</th>\n",
       "      <th>LPA_FL</th>\n",
       "      <th>LPA_G4</th>\n",
       "      <th>LPA_HP</th>\n",
       "      <th>LPA_NK</th>\n",
       "      <th>LPA_NW</th>\n",
       "      <th>LPA_SY</th>\n",
       "      <th>LPA_TZ</th>\n",
       "      <th>LPA_UA</th>\n",
       "      <th>LPA_US</th>\n",
       "      <th>LPA_WN</th>\n",
       "      <th>LPA_YX</th>\n",
       "    </tr>\n",
       "  </thead>\n",
       "  <tbody>\n",
       "    <tr>\n",
       "      <th>0</th>\n",
       "      <td>0</td>\n",
       "      <td>0</td>\n",
       "      <td>0</td>\n",
       "      <td>0</td>\n",
       "      <td>0</td>\n",
       "      <td>0</td>\n",
       "      <td>0</td>\n",
       "      <td>1</td>\n",
       "      <td>0</td>\n",
       "      <td>0</td>\n",
       "      <td>0</td>\n",
       "      <td>0</td>\n",
       "      <td>0</td>\n",
       "      <td>0</td>\n",
       "      <td>0</td>\n",
       "      <td>0</td>\n",
       "      <td>0</td>\n",
       "      <td>0</td>\n",
       "    </tr>\n",
       "    <tr>\n",
       "      <th>1</th>\n",
       "      <td>0</td>\n",
       "      <td>0</td>\n",
       "      <td>0</td>\n",
       "      <td>0</td>\n",
       "      <td>0</td>\n",
       "      <td>1</td>\n",
       "      <td>0</td>\n",
       "      <td>0</td>\n",
       "      <td>0</td>\n",
       "      <td>0</td>\n",
       "      <td>0</td>\n",
       "      <td>0</td>\n",
       "      <td>0</td>\n",
       "      <td>0</td>\n",
       "      <td>0</td>\n",
       "      <td>0</td>\n",
       "      <td>0</td>\n",
       "      <td>0</td>\n",
       "    </tr>\n",
       "    <tr>\n",
       "      <th>2</th>\n",
       "      <td>0</td>\n",
       "      <td>0</td>\n",
       "      <td>0</td>\n",
       "      <td>0</td>\n",
       "      <td>1</td>\n",
       "      <td>0</td>\n",
       "      <td>0</td>\n",
       "      <td>0</td>\n",
       "      <td>0</td>\n",
       "      <td>0</td>\n",
       "      <td>0</td>\n",
       "      <td>0</td>\n",
       "      <td>0</td>\n",
       "      <td>0</td>\n",
       "      <td>0</td>\n",
       "      <td>0</td>\n",
       "      <td>0</td>\n",
       "      <td>0</td>\n",
       "    </tr>\n",
       "    <tr>\n",
       "      <th>3</th>\n",
       "      <td>0</td>\n",
       "      <td>0</td>\n",
       "      <td>0</td>\n",
       "      <td>0</td>\n",
       "      <td>0</td>\n",
       "      <td>0</td>\n",
       "      <td>0</td>\n",
       "      <td>0</td>\n",
       "      <td>0</td>\n",
       "      <td>0</td>\n",
       "      <td>0</td>\n",
       "      <td>0</td>\n",
       "      <td>0</td>\n",
       "      <td>0</td>\n",
       "      <td>0</td>\n",
       "      <td>0</td>\n",
       "      <td>1</td>\n",
       "      <td>0</td>\n",
       "    </tr>\n",
       "    <tr>\n",
       "      <th>4</th>\n",
       "      <td>0</td>\n",
       "      <td>0</td>\n",
       "      <td>0</td>\n",
       "      <td>0</td>\n",
       "      <td>0</td>\n",
       "      <td>0</td>\n",
       "      <td>0</td>\n",
       "      <td>0</td>\n",
       "      <td>0</td>\n",
       "      <td>0</td>\n",
       "      <td>0</td>\n",
       "      <td>0</td>\n",
       "      <td>0</td>\n",
       "      <td>0</td>\n",
       "      <td>0</td>\n",
       "      <td>0</td>\n",
       "      <td>1</td>\n",
       "      <td>0</td>\n",
       "    </tr>\n",
       "  </tbody>\n",
       "</table>\n",
       "</div>"
      ],
      "text/plain": [
       "   LPA_AQ  LPA_AS  LPA_AX  LPA_B6  LPA_CO  LPA_DL  LPA_F9  LPA_FL  LPA_G4  \\\n",
       "0       0       0       0       0       0       0       0       1       0   \n",
       "1       0       0       0       0       0       1       0       0       0   \n",
       "2       0       0       0       0       1       0       0       0       0   \n",
       "3       0       0       0       0       0       0       0       0       0   \n",
       "4       0       0       0       0       0       0       0       0       0   \n",
       "\n",
       "   LPA_HP  LPA_NK  LPA_NW  LPA_SY  LPA_TZ  LPA_UA  LPA_US  LPA_WN  LPA_YX  \n",
       "0       0       0       0       0       0       0       0       0       0  \n",
       "1       0       0       0       0       0       0       0       0       0  \n",
       "2       0       0       0       0       0       0       0       0       0  \n",
       "3       0       0       0       0       0       0       0       1       0  \n",
       "4       0       0       0       0       0       0       0       1       0  "
      ]
     },
     "execution_count": 227,
     "metadata": {},
     "output_type": "execute_result"
    }
   ],
   "source": [
    "LPA_dummies = pd.get_dummies(df_cat.Low_price_airline,prefix='LPA',drop_first=True)\n",
    "LPA_dummies.head()"
   ]
  },
  {
   "cell_type": "code",
   "execution_count": 228,
   "metadata": {},
   "outputs": [],
   "source": [
    "# final data for modelling"
   ]
  },
  {
   "cell_type": "code",
   "execution_count": 229,
   "metadata": {},
   "outputs": [
    {
     "data": {
      "text/html": [
       "<div>\n",
       "<style scoped>\n",
       "    .dataframe tbody tr th:only-of-type {\n",
       "        vertical-align: middle;\n",
       "    }\n",
       "\n",
       "    .dataframe tbody tr th {\n",
       "        vertical-align: top;\n",
       "    }\n",
       "\n",
       "    .dataframe thead th {\n",
       "        text-align: right;\n",
       "    }\n",
       "</style>\n",
       "<table border=\"1\" class=\"dataframe\">\n",
       "  <thead>\n",
       "    <tr style=\"text-align: right;\">\n",
       "      <th></th>\n",
       "      <th>City1</th>\n",
       "      <th>City2</th>\n",
       "      <th>Distance</th>\n",
       "      <th>Average_weekly_passengers</th>\n",
       "      <th>market_leading_airline</th>\n",
       "      <th>market_share</th>\n",
       "      <th>Low_price_airline</th>\n",
       "      <th>market_share_1</th>\n",
       "      <th>price</th>\n",
       "      <th>Average_Fare</th>\n",
       "      <th>...</th>\n",
       "      <th>LPA_G4</th>\n",
       "      <th>LPA_HP</th>\n",
       "      <th>LPA_NK</th>\n",
       "      <th>LPA_NW</th>\n",
       "      <th>LPA_SY</th>\n",
       "      <th>LPA_TZ</th>\n",
       "      <th>LPA_UA</th>\n",
       "      <th>LPA_US</th>\n",
       "      <th>LPA_WN</th>\n",
       "      <th>LPA_YX</th>\n",
       "    </tr>\n",
       "  </thead>\n",
       "  <tbody>\n",
       "    <tr>\n",
       "      <th>0</th>\n",
       "      <td>CAK</td>\n",
       "      <td>ATL</td>\n",
       "      <td>528.0</td>\n",
       "      <td>424.56</td>\n",
       "      <td>FL</td>\n",
       "      <td>70.19</td>\n",
       "      <td>FL</td>\n",
       "      <td>70.19</td>\n",
       "      <td>111.03</td>\n",
       "      <td>114.47</td>\n",
       "      <td>...</td>\n",
       "      <td>0</td>\n",
       "      <td>0</td>\n",
       "      <td>0</td>\n",
       "      <td>0</td>\n",
       "      <td>0</td>\n",
       "      <td>0</td>\n",
       "      <td>0</td>\n",
       "      <td>0</td>\n",
       "      <td>0</td>\n",
       "      <td>0</td>\n",
       "    </tr>\n",
       "    <tr>\n",
       "      <th>1</th>\n",
       "      <td>CAK</td>\n",
       "      <td>MCO</td>\n",
       "      <td>860.0</td>\n",
       "      <td>276.84</td>\n",
       "      <td>FL</td>\n",
       "      <td>75.10</td>\n",
       "      <td>DL</td>\n",
       "      <td>17.23</td>\n",
       "      <td>118.94</td>\n",
       "      <td>122.47</td>\n",
       "      <td>...</td>\n",
       "      <td>0</td>\n",
       "      <td>0</td>\n",
       "      <td>0</td>\n",
       "      <td>0</td>\n",
       "      <td>0</td>\n",
       "      <td>0</td>\n",
       "      <td>0</td>\n",
       "      <td>0</td>\n",
       "      <td>0</td>\n",
       "      <td>0</td>\n",
       "    </tr>\n",
       "    <tr>\n",
       "      <th>2</th>\n",
       "      <td>ALB</td>\n",
       "      <td>ATL</td>\n",
       "      <td>852.0</td>\n",
       "      <td>215.76</td>\n",
       "      <td>DL</td>\n",
       "      <td>78.89</td>\n",
       "      <td>CO</td>\n",
       "      <td>2.77</td>\n",
       "      <td>167.12</td>\n",
       "      <td>214.42</td>\n",
       "      <td>...</td>\n",
       "      <td>0</td>\n",
       "      <td>0</td>\n",
       "      <td>0</td>\n",
       "      <td>0</td>\n",
       "      <td>0</td>\n",
       "      <td>0</td>\n",
       "      <td>0</td>\n",
       "      <td>0</td>\n",
       "      <td>0</td>\n",
       "      <td>0</td>\n",
       "    </tr>\n",
       "    <tr>\n",
       "      <th>3</th>\n",
       "      <td>ALB</td>\n",
       "      <td>BWI</td>\n",
       "      <td>288.0</td>\n",
       "      <td>606.84</td>\n",
       "      <td>WN</td>\n",
       "      <td>96.97</td>\n",
       "      <td>WN</td>\n",
       "      <td>96.97</td>\n",
       "      <td>68.86</td>\n",
       "      <td>69.40</td>\n",
       "      <td>...</td>\n",
       "      <td>0</td>\n",
       "      <td>0</td>\n",
       "      <td>0</td>\n",
       "      <td>0</td>\n",
       "      <td>0</td>\n",
       "      <td>0</td>\n",
       "      <td>0</td>\n",
       "      <td>0</td>\n",
       "      <td>1</td>\n",
       "      <td>0</td>\n",
       "    </tr>\n",
       "    <tr>\n",
       "      <th>4</th>\n",
       "      <td>ALB</td>\n",
       "      <td>ORD</td>\n",
       "      <td>723.0</td>\n",
       "      <td>313.04</td>\n",
       "      <td>UA</td>\n",
       "      <td>39.79</td>\n",
       "      <td>WN</td>\n",
       "      <td>15.34</td>\n",
       "      <td>145.42</td>\n",
       "      <td>158.13</td>\n",
       "      <td>...</td>\n",
       "      <td>0</td>\n",
       "      <td>0</td>\n",
       "      <td>0</td>\n",
       "      <td>0</td>\n",
       "      <td>0</td>\n",
       "      <td>0</td>\n",
       "      <td>0</td>\n",
       "      <td>0</td>\n",
       "      <td>1</td>\n",
       "      <td>0</td>\n",
       "    </tr>\n",
       "  </tbody>\n",
       "</table>\n",
       "<p>5 rows × 43 columns</p>\n",
       "</div>"
      ],
      "text/plain": [
       "  City1 City2  Distance  Average_weekly_passengers market_leading_airline  \\\n",
       "0   CAK   ATL     528.0                     424.56                     FL   \n",
       "1   CAK   MCO     860.0                     276.84                     FL   \n",
       "2   ALB   ATL     852.0                     215.76                     DL   \n",
       "3   ALB   BWI     288.0                     606.84                     WN   \n",
       "4   ALB   ORD     723.0                     313.04                     UA   \n",
       "\n",
       "   market_share Low_price_airline  market_share_1   price  Average_Fare  \\\n",
       "0         70.19                FL           70.19  111.03        114.47   \n",
       "1         75.10                DL           17.23  118.94        122.47   \n",
       "2         78.89                CO            2.77  167.12        214.42   \n",
       "3         96.97                WN           96.97   68.86         69.40   \n",
       "4         39.79                WN           15.34  145.42        158.13   \n",
       "\n",
       "    ...    LPA_G4  LPA_HP  LPA_NK  LPA_NW  LPA_SY  LPA_TZ  LPA_UA  LPA_US  \\\n",
       "0   ...         0       0       0       0       0       0       0       0   \n",
       "1   ...         0       0       0       0       0       0       0       0   \n",
       "2   ...         0       0       0       0       0       0       0       0   \n",
       "3   ...         0       0       0       0       0       0       0       0   \n",
       "4   ...         0       0       0       0       0       0       0       0   \n",
       "\n",
       "   LPA_WN  LPA_YX  \n",
       "0       0       0  \n",
       "1       0       0  \n",
       "2       0       0  \n",
       "3       1       0  \n",
       "4       1       0  \n",
       "\n",
       "[5 rows x 43 columns]"
      ]
     },
     "execution_count": 229,
     "metadata": {},
     "output_type": "execute_result"
    }
   ],
   "source": [
    "df_withDummies = pd.concat([df_cat, MLA_dummies, LPA_dummies],axis=1)\n",
    "df_withDummies.head()"
   ]
  },
  {
   "cell_type": "code",
   "execution_count": 230,
   "metadata": {},
   "outputs": [
    {
     "data": {
      "text/html": [
       "<div>\n",
       "<style scoped>\n",
       "    .dataframe tbody tr th:only-of-type {\n",
       "        vertical-align: middle;\n",
       "    }\n",
       "\n",
       "    .dataframe tbody tr th {\n",
       "        vertical-align: top;\n",
       "    }\n",
       "\n",
       "    .dataframe thead th {\n",
       "        text-align: right;\n",
       "    }\n",
       "</style>\n",
       "<table border=\"1\" class=\"dataframe\">\n",
       "  <thead>\n",
       "    <tr style=\"text-align: right;\">\n",
       "      <th></th>\n",
       "      <th>Distance</th>\n",
       "      <th>Average_weekly_passengers</th>\n",
       "      <th>market_share</th>\n",
       "      <th>market_share_1</th>\n",
       "      <th>price</th>\n",
       "      <th>Average_Fare</th>\n",
       "      <th>MLA_AS</th>\n",
       "      <th>MLA_B6</th>\n",
       "      <th>MLA_CO</th>\n",
       "      <th>MLA_DL</th>\n",
       "      <th>...</th>\n",
       "      <th>LPA_G4</th>\n",
       "      <th>LPA_HP</th>\n",
       "      <th>LPA_NK</th>\n",
       "      <th>LPA_NW</th>\n",
       "      <th>LPA_SY</th>\n",
       "      <th>LPA_TZ</th>\n",
       "      <th>LPA_UA</th>\n",
       "      <th>LPA_US</th>\n",
       "      <th>LPA_WN</th>\n",
       "      <th>LPA_YX</th>\n",
       "    </tr>\n",
       "  </thead>\n",
       "  <tbody>\n",
       "    <tr>\n",
       "      <th>0</th>\n",
       "      <td>528.0</td>\n",
       "      <td>424.56</td>\n",
       "      <td>70.19</td>\n",
       "      <td>70.19</td>\n",
       "      <td>111.03</td>\n",
       "      <td>114.47</td>\n",
       "      <td>0</td>\n",
       "      <td>0</td>\n",
       "      <td>0</td>\n",
       "      <td>0</td>\n",
       "      <td>...</td>\n",
       "      <td>0</td>\n",
       "      <td>0</td>\n",
       "      <td>0</td>\n",
       "      <td>0</td>\n",
       "      <td>0</td>\n",
       "      <td>0</td>\n",
       "      <td>0</td>\n",
       "      <td>0</td>\n",
       "      <td>0</td>\n",
       "      <td>0</td>\n",
       "    </tr>\n",
       "    <tr>\n",
       "      <th>1</th>\n",
       "      <td>860.0</td>\n",
       "      <td>276.84</td>\n",
       "      <td>75.10</td>\n",
       "      <td>17.23</td>\n",
       "      <td>118.94</td>\n",
       "      <td>122.47</td>\n",
       "      <td>0</td>\n",
       "      <td>0</td>\n",
       "      <td>0</td>\n",
       "      <td>0</td>\n",
       "      <td>...</td>\n",
       "      <td>0</td>\n",
       "      <td>0</td>\n",
       "      <td>0</td>\n",
       "      <td>0</td>\n",
       "      <td>0</td>\n",
       "      <td>0</td>\n",
       "      <td>0</td>\n",
       "      <td>0</td>\n",
       "      <td>0</td>\n",
       "      <td>0</td>\n",
       "    </tr>\n",
       "    <tr>\n",
       "      <th>2</th>\n",
       "      <td>852.0</td>\n",
       "      <td>215.76</td>\n",
       "      <td>78.89</td>\n",
       "      <td>2.77</td>\n",
       "      <td>167.12</td>\n",
       "      <td>214.42</td>\n",
       "      <td>0</td>\n",
       "      <td>0</td>\n",
       "      <td>0</td>\n",
       "      <td>1</td>\n",
       "      <td>...</td>\n",
       "      <td>0</td>\n",
       "      <td>0</td>\n",
       "      <td>0</td>\n",
       "      <td>0</td>\n",
       "      <td>0</td>\n",
       "      <td>0</td>\n",
       "      <td>0</td>\n",
       "      <td>0</td>\n",
       "      <td>0</td>\n",
       "      <td>0</td>\n",
       "    </tr>\n",
       "    <tr>\n",
       "      <th>3</th>\n",
       "      <td>288.0</td>\n",
       "      <td>606.84</td>\n",
       "      <td>96.97</td>\n",
       "      <td>96.97</td>\n",
       "      <td>68.86</td>\n",
       "      <td>69.40</td>\n",
       "      <td>0</td>\n",
       "      <td>0</td>\n",
       "      <td>0</td>\n",
       "      <td>0</td>\n",
       "      <td>...</td>\n",
       "      <td>0</td>\n",
       "      <td>0</td>\n",
       "      <td>0</td>\n",
       "      <td>0</td>\n",
       "      <td>0</td>\n",
       "      <td>0</td>\n",
       "      <td>0</td>\n",
       "      <td>0</td>\n",
       "      <td>1</td>\n",
       "      <td>0</td>\n",
       "    </tr>\n",
       "    <tr>\n",
       "      <th>4</th>\n",
       "      <td>723.0</td>\n",
       "      <td>313.04</td>\n",
       "      <td>39.79</td>\n",
       "      <td>15.34</td>\n",
       "      <td>145.42</td>\n",
       "      <td>158.13</td>\n",
       "      <td>0</td>\n",
       "      <td>0</td>\n",
       "      <td>0</td>\n",
       "      <td>0</td>\n",
       "      <td>...</td>\n",
       "      <td>0</td>\n",
       "      <td>0</td>\n",
       "      <td>0</td>\n",
       "      <td>0</td>\n",
       "      <td>0</td>\n",
       "      <td>0</td>\n",
       "      <td>0</td>\n",
       "      <td>0</td>\n",
       "      <td>1</td>\n",
       "      <td>0</td>\n",
       "    </tr>\n",
       "  </tbody>\n",
       "</table>\n",
       "<p>5 rows × 39 columns</p>\n",
       "</div>"
      ],
      "text/plain": [
       "   Distance  Average_weekly_passengers  market_share  market_share_1   price  \\\n",
       "0     528.0                     424.56         70.19           70.19  111.03   \n",
       "1     860.0                     276.84         75.10           17.23  118.94   \n",
       "2     852.0                     215.76         78.89            2.77  167.12   \n",
       "3     288.0                     606.84         96.97           96.97   68.86   \n",
       "4     723.0                     313.04         39.79           15.34  145.42   \n",
       "\n",
       "   Average_Fare  MLA_AS  MLA_B6  MLA_CO  MLA_DL   ...    LPA_G4  LPA_HP  \\\n",
       "0        114.47       0       0       0       0   ...         0       0   \n",
       "1        122.47       0       0       0       0   ...         0       0   \n",
       "2        214.42       0       0       0       1   ...         0       0   \n",
       "3         69.40       0       0       0       0   ...         0       0   \n",
       "4        158.13       0       0       0       0   ...         0       0   \n",
       "\n",
       "   LPA_NK  LPA_NW  LPA_SY  LPA_TZ  LPA_UA  LPA_US  LPA_WN  LPA_YX  \n",
       "0       0       0       0       0       0       0       0       0  \n",
       "1       0       0       0       0       0       0       0       0  \n",
       "2       0       0       0       0       0       0       0       0  \n",
       "3       0       0       0       0       0       0       1       0  \n",
       "4       0       0       0       0       0       0       1       0  \n",
       "\n",
       "[5 rows x 39 columns]"
      ]
     },
     "execution_count": 230,
     "metadata": {},
     "output_type": "execute_result"
    }
   ],
   "source": [
    "final_df = df_withDummies.drop(['City1', 'City2', 'market_leading_airline', 'Low_price_airline'], axis = 1)\n",
    "final_df.head()"
   ]
  },
  {
   "cell_type": "markdown",
   "metadata": {},
   "source": [
    "# Cross validation "
   ]
  },
  {
   "cell_type": "code",
   "execution_count": 231,
   "metadata": {},
   "outputs": [],
   "source": [
    "df_train, df_test = cv.train_test_split(final_df,test_size=0.30,random_state=1234)"
   ]
  },
  {
   "cell_type": "code",
   "execution_count": 232,
   "metadata": {},
   "outputs": [
    {
     "data": {
      "text/plain": [
       "((700, 39), (300, 39))"
      ]
     },
     "execution_count": 232,
     "metadata": {},
     "output_type": "execute_result"
    }
   ],
   "source": [
    "df_train.shape, df_test.shape"
   ]
  },
  {
   "cell_type": "code",
   "execution_count": 233,
   "metadata": {},
   "outputs": [
    {
     "name": "stderr",
     "output_type": "stream",
     "text": [
      "C:\\Users\\Satish\\Anaconda3\\lib\\site-packages\\ipykernel_launcher.py:1: FutureWarning: Method .as_matrix will be removed in a future version. Use .values instead.\n",
      "  \"\"\"Entry point for launching an IPython kernel.\n"
     ]
    }
   ],
   "source": [
    "X_train = df_train.iloc[:,list(range(5)) + list(range(6,df_train.shape[1]))].as_matrix()\n",
    "y_train = df_train['Average_Fare']"
   ]
  },
  {
   "cell_type": "code",
   "execution_count": 234,
   "metadata": {},
   "outputs": [
    {
     "name": "stderr",
     "output_type": "stream",
     "text": [
      "C:\\Users\\Satish\\Anaconda3\\lib\\site-packages\\ipykernel_launcher.py:1: FutureWarning: Method .as_matrix will be removed in a future version. Use .values instead.\n",
      "  \"\"\"Entry point for launching an IPython kernel.\n"
     ]
    }
   ],
   "source": [
    "X_test = df_test.iloc[:,list(range(5)) + list(range(6,df_test.shape[1]))].as_matrix()\n",
    "y_test = df_test['Average_Fare']"
   ]
  },
  {
   "cell_type": "code",
   "execution_count": 235,
   "metadata": {},
   "outputs": [
    {
     "data": {
      "text/plain": [
       "((700, 38), (700,))"
      ]
     },
     "execution_count": 235,
     "metadata": {},
     "output_type": "execute_result"
    }
   ],
   "source": [
    "X_train.shape,y_train.shape"
   ]
  },
  {
   "cell_type": "code",
   "execution_count": 236,
   "metadata": {},
   "outputs": [
    {
     "data": {
      "text/plain": [
       "((300, 38), (300,))"
      ]
     },
     "execution_count": 236,
     "metadata": {},
     "output_type": "execute_result"
    }
   ],
   "source": [
    "X_test.shape,y_test.shape"
   ]
  },
  {
   "cell_type": "markdown",
   "metadata": {},
   "source": [
    "# linear regression model"
   ]
  },
  {
   "cell_type": "code",
   "execution_count": 237,
   "metadata": {},
   "outputs": [
    {
     "data": {
      "text/plain": [
       "LinearRegression(copy_X=True, fit_intercept=True, n_jobs=1, normalize=True)"
      ]
     },
     "execution_count": 237,
     "metadata": {},
     "output_type": "execute_result"
    }
   ],
   "source": [
    "#Linear regression \n",
    "lr = linear_model.LinearRegression(normalize=True)\n",
    "lr"
   ]
  },
  {
   "cell_type": "code",
   "execution_count": 238,
   "metadata": {},
   "outputs": [
    {
     "data": {
      "text/plain": [
       "LinearRegression(copy_X=True, fit_intercept=True, n_jobs=1, normalize=True)"
      ]
     },
     "execution_count": 238,
     "metadata": {},
     "output_type": "execute_result"
    }
   ],
   "source": [
    "lr.fit(X_train,y_train)"
   ]
  },
  {
   "cell_type": "code",
   "execution_count": 239,
   "metadata": {},
   "outputs": [
    {
     "data": {
      "text/plain": [
       "0.8737640723484686"
      ]
     },
     "execution_count": 239,
     "metadata": {},
     "output_type": "execute_result"
    }
   ],
   "source": [
    "# Train score\n",
    "lr.score(X_train,y_train)"
   ]
  },
  {
   "cell_type": "code",
   "execution_count": 240,
   "metadata": {},
   "outputs": [
    {
     "data": {
      "text/plain": [
       "0.8568472244187118"
      ]
     },
     "execution_count": 240,
     "metadata": {},
     "output_type": "execute_result"
    }
   ],
   "source": [
    "# Test score\n",
    "lr.score(X_test,y_test)"
   ]
  },
  {
   "cell_type": "code",
   "execution_count": 241,
   "metadata": {},
   "outputs": [
    {
     "data": {
      "text/plain": [
       "array([179.66795422, 138.74221185, 182.06159726, 165.95745865,\n",
       "       151.5433549 , 186.92640612,  82.65408742, 141.22010353,\n",
       "       170.99919219, 174.90224259, 178.9352868 , 229.54486188,\n",
       "       188.0586903 , 104.75029814, 140.32693639, 166.50649302,\n",
       "       132.11945789, 123.82882589, 188.95099198, 114.75344002,\n",
       "       138.2862837 , 128.7029307 , 131.9526589 , 133.42372744,\n",
       "       166.01798626, 171.57885538, 156.48658137, 175.41631515,\n",
       "       179.65283523, 219.48100538, 245.20447407, 136.85972446,\n",
       "       238.49080043, 105.21592491, 126.02050362, 225.41967175,\n",
       "       126.45414205, 199.16134922, 206.61450605, 236.33349165,\n",
       "       108.5910528 , 183.55867642, 186.11012896, 163.44800116,\n",
       "       135.87841234, 155.60771239, 164.20243264, 166.56809947,\n",
       "       247.79960805, 116.11564423, 162.39353934, 204.15054154,\n",
       "       130.40454684, 136.51389069, 148.28065942,  81.40083206,\n",
       "       219.47606258,  78.43786888, 256.3223398 , 255.47573027,\n",
       "       130.33269092, 149.40188364, 215.86266321, 128.48574098,\n",
       "       179.91591056,  77.65242628, 134.28746456, 158.24910634,\n",
       "       120.31288992, 112.48347553, 143.23739603, 142.20615579,\n",
       "       127.12799721, 121.17717415, 178.28952537, 184.84602182,\n",
       "       213.37772701, 185.82199335, 152.02142517, 158.57930727,\n",
       "       198.78351237, 175.7349867 , 204.78052354, 173.46345942,\n",
       "       156.77204584, 127.72249973, 168.14212339, 229.4675519 ,\n",
       "       224.62641769, 272.96775764, 236.1693142 , 241.58023176,\n",
       "       188.66983915, 153.30927932,  81.10115908, 175.40871945,\n",
       "       190.97652016, 273.04390333, 123.57783214, 240.80110731,\n",
       "       151.9690699 , 186.04283852, 188.53373845, 118.53722552,\n",
       "       182.78156718,  82.52542149, 269.86670403, 181.76792745,\n",
       "        91.26400162, 150.32463621,  98.2067431 , 136.83985006,\n",
       "       166.91708451, 224.1985392 , 121.42089014, 147.15547204,\n",
       "       107.35269851, 225.46086178, 293.14194932, 143.33228114,\n",
       "       195.63418557, 127.4860827 ,  90.63621286, 192.80288196,\n",
       "       195.57169124, 219.45977535, 179.90097351, 108.79234035,\n",
       "       181.90967599, 138.06495626, 131.10404553, 114.85074765,\n",
       "       199.70724286, 157.73965339, 189.61278228, 130.57421149,\n",
       "       205.06182377, 101.30034459, 153.33976871, 193.36601856,\n",
       "       180.97170675, 248.12562365, 219.45516623,  87.25955058,\n",
       "        76.94374573, 126.98320532, 183.83477041, 183.40189403,\n",
       "        71.57031366, 160.2609705 , 331.78222479, 203.50850928,\n",
       "       113.80699321, 153.77867586, 214.42087554, 149.84150777,\n",
       "       171.73971124, 243.57618234, 182.17674182, 156.7639706 ,\n",
       "       243.35480403, 135.13830468, 234.18493897, 132.92580555,\n",
       "       250.15385294, 134.95984857, 118.72824832, 225.69885059,\n",
       "       180.29624914, 198.03422648, 250.72000208, 171.61565641,\n",
       "       218.51370566, 227.63139856,  74.12038945, 102.9886599 ,\n",
       "       176.51989735, 140.00016925, 265.31571492, 180.73445616,\n",
       "       120.49308804,  67.37064444, 167.28824967, 132.39067062,\n",
       "       238.80327963, 213.2278501 , 194.18465579,  55.07253601,\n",
       "       187.68671745, 134.2460767 ,  87.2118007 , 216.72462078,\n",
       "       179.63598817, 150.92870615, 192.20938373, 179.03108923,\n",
       "       128.06910187, 180.29215094, 210.25725447, 189.56181413,\n",
       "       192.34340013, 147.01602607, 197.24676265, 123.39344689,\n",
       "       201.5480122 , 207.56313923, 196.90115414,  90.70890253,\n",
       "       175.96032791, 236.77656793, 151.74704118, 133.26973888,\n",
       "       197.92286395, 174.06860329, 163.44945071, 164.91732851,\n",
       "       137.36834295, 144.09943892, 109.86662214, 167.02774708,\n",
       "       161.79174726, 116.11979009, 188.64635394, 165.59509163,\n",
       "       197.48397061, 235.54338554,  73.93404655, 132.94779963,\n",
       "       165.37644723, 224.56269587, 200.53391917, 217.16737873,\n",
       "       206.48113215, 129.56321742, 274.70769263,  99.59072065,\n",
       "       173.66390965, 198.9625148 , 139.97040055, 120.75362552,\n",
       "       172.78073202, 283.05587479, 119.5221485 , 155.81462566,\n",
       "       152.35279649, 205.66152935, 243.55864711, 127.91317431,\n",
       "       169.60026753,  79.41472459, 158.20197574, 254.47554076,\n",
       "       159.00683536,  83.28220311, 180.42564355, 108.86935248,\n",
       "       314.14917491, 163.6966581 , 114.39559366, 157.99605496,\n",
       "        79.82613831, 131.61229481,  83.99899866, 248.59641902,\n",
       "       224.13585877, 180.76535743, 171.17941759, 157.57119325,\n",
       "        98.8826448 , 109.09888078, 195.00995908, 126.68440826,\n",
       "       220.68460118, 172.58196362,  82.52065747, 163.19970814,\n",
       "       182.60466436, 127.9130901 , 179.66498625,  84.70276003,\n",
       "       157.79118188, 184.61210557, 136.94259468, 150.71544047,\n",
       "       240.83383435, 228.50015147,  60.39894716, 128.48920493,\n",
       "       222.94312374, 165.40942066, 168.43193335, 208.72554819,\n",
       "       182.37333396, 141.23242437, 117.50042186, 171.50481546,\n",
       "       235.3436033 , 203.01299502, 244.61917483, 195.13703776])"
      ]
     },
     "execution_count": 241,
     "metadata": {},
     "output_type": "execute_result"
    }
   ],
   "source": [
    "# Predicted values\n",
    "predictedValues = lr.predict(X_test)\n",
    "predictedValues"
   ]
  },
  {
   "cell_type": "markdown",
   "metadata": {},
   "source": [
    "# Statistical Parameters for model performance check !"
   ]
  },
  {
   "cell_type": "code",
   "execution_count": 242,
   "metadata": {},
   "outputs": [],
   "source": [
    "from scipy import stats"
   ]
  },
  {
   "cell_type": "code",
   "execution_count": 243,
   "metadata": {},
   "outputs": [],
   "source": [
    "#adjusted R square\n",
    "def AdjustedRSquare(model,X,Y):\n",
    "    YHat = model.predict(X)\n",
    "    n,k = X.shape\n",
    "    sse = np.sum(np.square(YHat-Y),axis=0)\n",
    "    sst = np.sum(np.square(Y-np.mean(Y)),axis=0)\n",
    "    R2 = 1- sse/sst\n",
    "    adjR2 = R2-(1-R2)*(float(k)/(n-k-1))\n",
    "    return adjR2, R2"
   ]
  },
  {
   "cell_type": "code",
   "execution_count": 244,
   "metadata": {},
   "outputs": [],
   "source": [
    "def ReturnPValue(model,X,Y):\n",
    "    YHat = model.predict(X)\n",
    "    n,k = X.shape\n",
    "    sse = np.sum(np.square(YHat-Y),axis=0)\n",
    "    x = np.hstack((np.ones((n,1)),np.matrix(X)))\n",
    "    df = float(n-k-1)\n",
    "    sampleVar = sse/df\n",
    "    sampleVarianceX = x.T*x\n",
    "    covarianceMatrix = linalg.sqrtm(sampleVar*sampleVarianceX.I)\n",
    "    se = covarianceMatrix.diagonal()[1:]\n",
    "    betasTstat = np.zeros(len(se))\n",
    "    for i in range(len(se)):\n",
    "        betasTstat[i] = model.coef_[i]/se[i]\n",
    "    betasPvalue = 1- stats.t.cdf(abs(betasTstat),df)\n",
    "    return betasPvalue"
   ]
  },
  {
   "cell_type": "code",
   "execution_count": 245,
   "metadata": {},
   "outputs": [
    {
     "name": "stdout",
     "output_type": "stream",
     "text": [
      "0.8665069388374879 0.8737640723484685\n"
     ]
    }
   ],
   "source": [
    "lr.adjR2, lr.R2 = AdjustedRSquare(lr,X_train,y_train)\n",
    "print (lr.adjR2, lr.R2)"
   ]
  },
  {
   "cell_type": "code",
   "execution_count": 246,
   "metadata": {},
   "outputs": [
    {
     "data": {
      "text/plain": [
       "array([  0. ,   0. ,   0.5,  -0.4,   0.8, -19.5, -22.6,   0.2,  -1.3,\n",
       "        12.2, -10.2,   0. , -11.4, -13. ,  13.8, -27.7,   2.8,  -7.5,\n",
       "       -19.3,   0.4,   1.4,  10.3,  37.7,  22. ,  20.3,   7.6,   7.7,\n",
       "        -2.2,  -0. ,   4.4,   4.3,  12.9,  24.3,  31.3,  11.9,  15.4,\n",
       "        10.5,  -1.6])"
      ]
     },
     "execution_count": 246,
     "metadata": {},
     "output_type": "execute_result"
    }
   ],
   "source": [
    "np.round(lr.coef_,1)"
   ]
  },
  {
   "cell_type": "code",
   "execution_count": 247,
   "metadata": {},
   "outputs": [],
   "source": [
    "%matplotlib inline\n",
    "from __future__ import print_function\n",
    "from statsmodels.compat import lzip\n",
    "import numpy as np\n",
    "import pandas as pd\n",
    "import matplotlib.pyplot as plt\n",
    "import statsmodels.api as sm\n",
    "from statsmodels.formula.api import ols"
   ]
  },
  {
   "cell_type": "code",
   "execution_count": 248,
   "metadata": {},
   "outputs": [
    {
     "data": {
      "text/plain": [
       "array([179.66795422, 138.74221185, 182.06159726, 165.95745865,\n",
       "       151.5433549 , 186.92640612,  82.65408742, 141.22010353,\n",
       "       170.99919219, 174.90224259, 178.9352868 , 229.54486188,\n",
       "       188.0586903 , 104.75029814, 140.32693639, 166.50649302,\n",
       "       132.11945789, 123.82882589, 188.95099198, 114.75344002,\n",
       "       138.2862837 , 128.7029307 , 131.9526589 , 133.42372744,\n",
       "       166.01798626, 171.57885538, 156.48658137, 175.41631515,\n",
       "       179.65283523, 219.48100538, 245.20447407, 136.85972446,\n",
       "       238.49080043, 105.21592491, 126.02050362, 225.41967175,\n",
       "       126.45414205, 199.16134922, 206.61450605, 236.33349165,\n",
       "       108.5910528 , 183.55867642, 186.11012896, 163.44800116,\n",
       "       135.87841234, 155.60771239, 164.20243264, 166.56809947,\n",
       "       247.79960805, 116.11564423, 162.39353934, 204.15054154,\n",
       "       130.40454684, 136.51389069, 148.28065942,  81.40083206,\n",
       "       219.47606258,  78.43786888, 256.3223398 , 255.47573027,\n",
       "       130.33269092, 149.40188364, 215.86266321, 128.48574098,\n",
       "       179.91591056,  77.65242628, 134.28746456, 158.24910634,\n",
       "       120.31288992, 112.48347553, 143.23739603, 142.20615579,\n",
       "       127.12799721, 121.17717415, 178.28952537, 184.84602182,\n",
       "       213.37772701, 185.82199335, 152.02142517, 158.57930727,\n",
       "       198.78351237, 175.7349867 , 204.78052354, 173.46345942,\n",
       "       156.77204584, 127.72249973, 168.14212339, 229.4675519 ,\n",
       "       224.62641769, 272.96775764, 236.1693142 , 241.58023176,\n",
       "       188.66983915, 153.30927932,  81.10115908, 175.40871945,\n",
       "       190.97652016, 273.04390333, 123.57783214, 240.80110731,\n",
       "       151.9690699 , 186.04283852, 188.53373845, 118.53722552,\n",
       "       182.78156718,  82.52542149, 269.86670403, 181.76792745,\n",
       "        91.26400162, 150.32463621,  98.2067431 , 136.83985006,\n",
       "       166.91708451, 224.1985392 , 121.42089014, 147.15547204,\n",
       "       107.35269851, 225.46086178, 293.14194932, 143.33228114,\n",
       "       195.63418557, 127.4860827 ,  90.63621286, 192.80288196,\n",
       "       195.57169124, 219.45977535, 179.90097351, 108.79234035,\n",
       "       181.90967599, 138.06495626, 131.10404553, 114.85074765,\n",
       "       199.70724286, 157.73965339, 189.61278228, 130.57421149,\n",
       "       205.06182377, 101.30034459, 153.33976871, 193.36601856,\n",
       "       180.97170675, 248.12562365, 219.45516623,  87.25955058,\n",
       "        76.94374573, 126.98320532, 183.83477041, 183.40189403,\n",
       "        71.57031366, 160.2609705 , 331.78222479, 203.50850928,\n",
       "       113.80699321, 153.77867586, 214.42087554, 149.84150777,\n",
       "       171.73971124, 243.57618234, 182.17674182, 156.7639706 ,\n",
       "       243.35480403, 135.13830468, 234.18493897, 132.92580555,\n",
       "       250.15385294, 134.95984857, 118.72824832, 225.69885059,\n",
       "       180.29624914, 198.03422648, 250.72000208, 171.61565641,\n",
       "       218.51370566, 227.63139856,  74.12038945, 102.9886599 ,\n",
       "       176.51989735, 140.00016925, 265.31571492, 180.73445616,\n",
       "       120.49308804,  67.37064444, 167.28824967, 132.39067062,\n",
       "       238.80327963, 213.2278501 , 194.18465579,  55.07253601,\n",
       "       187.68671745, 134.2460767 ,  87.2118007 , 216.72462078,\n",
       "       179.63598817, 150.92870615, 192.20938373, 179.03108923,\n",
       "       128.06910187, 180.29215094, 210.25725447, 189.56181413,\n",
       "       192.34340013, 147.01602607, 197.24676265, 123.39344689,\n",
       "       201.5480122 , 207.56313923, 196.90115414,  90.70890253,\n",
       "       175.96032791, 236.77656793, 151.74704118, 133.26973888,\n",
       "       197.92286395, 174.06860329, 163.44945071, 164.91732851,\n",
       "       137.36834295, 144.09943892, 109.86662214, 167.02774708,\n",
       "       161.79174726, 116.11979009, 188.64635394, 165.59509163,\n",
       "       197.48397061, 235.54338554,  73.93404655, 132.94779963,\n",
       "       165.37644723, 224.56269587, 200.53391917, 217.16737873,\n",
       "       206.48113215, 129.56321742, 274.70769263,  99.59072065,\n",
       "       173.66390965, 198.9625148 , 139.97040055, 120.75362552,\n",
       "       172.78073202, 283.05587479, 119.5221485 , 155.81462566,\n",
       "       152.35279649, 205.66152935, 243.55864711, 127.91317431,\n",
       "       169.60026753,  79.41472459, 158.20197574, 254.47554076,\n",
       "       159.00683536,  83.28220311, 180.42564355, 108.86935248,\n",
       "       314.14917491, 163.6966581 , 114.39559366, 157.99605496,\n",
       "        79.82613831, 131.61229481,  83.99899866, 248.59641902,\n",
       "       224.13585877, 180.76535743, 171.17941759, 157.57119325,\n",
       "        98.8826448 , 109.09888078, 195.00995908, 126.68440826,\n",
       "       220.68460118, 172.58196362,  82.52065747, 163.19970814,\n",
       "       182.60466436, 127.9130901 , 179.66498625,  84.70276003,\n",
       "       157.79118188, 184.61210557, 136.94259468, 150.71544047,\n",
       "       240.83383435, 228.50015147,  60.39894716, 128.48920493,\n",
       "       222.94312374, 165.40942066, 168.43193335, 208.72554819,\n",
       "       182.37333396, 141.23242437, 117.50042186, 171.50481546,\n",
       "       235.3436033 , 203.01299502, 244.61917483, 195.13703776])"
      ]
     },
     "execution_count": 248,
     "metadata": {},
     "output_type": "execute_result"
    }
   ],
   "source": [
    "pred = lr.predict(X_test)\n",
    "pred"
   ]
  },
  {
   "cell_type": "markdown",
   "metadata": {},
   "source": [
    "# Model enhancement - L1 Regularisation"
   ]
  },
  {
   "cell_type": "code",
   "execution_count": 249,
   "metadata": {},
   "outputs": [],
   "source": [
    "from sklearn.linear_model import Lasso"
   ]
  },
  {
   "cell_type": "code",
   "execution_count": 250,
   "metadata": {},
   "outputs": [],
   "source": [
    "def ErrorMetric(model,X,Y):\n",
    "    Yhat = model.predict(X)\n",
    "    MAPE = np.mean(abs(Y-Yhat)/Y)*100\n",
    "    MSSE = np.mean(np.square(Y-Yhat))\n",
    "    return MAPE, MSSE"
   ]
  },
  {
   "cell_type": "code",
   "execution_count": 251,
   "metadata": {},
   "outputs": [],
   "source": [
    "lasso_model = Lasso(alpha=0.9) # to make coeff zero and not near to zero"
   ]
  },
  {
   "cell_type": "code",
   "execution_count": 252,
   "metadata": {},
   "outputs": [
    {
     "data": {
      "text/plain": [
       "Lasso(alpha=0.9, copy_X=True, fit_intercept=True, max_iter=1000,\n",
       "   normalize=False, positive=False, precompute=False, random_state=None,\n",
       "   selection='cyclic', tol=0.0001, warm_start=False)"
      ]
     },
     "execution_count": 252,
     "metadata": {},
     "output_type": "execute_result"
    }
   ],
   "source": [
    "lasso_model.fit(X_train,y_train)"
   ]
  },
  {
   "cell_type": "code",
   "execution_count": 253,
   "metadata": {},
   "outputs": [
    {
     "name": "stdout",
     "output_type": "stream",
     "text": [
      "[ 1.09014383e-02  1.28605090e-03  4.40672116e-01 -5.30851016e-01\n",
      "  8.75254480e-01 -0.00000000e+00 -0.00000000e+00  0.00000000e+00\n",
      " -0.00000000e+00  0.00000000e+00 -0.00000000e+00  0.00000000e+00\n",
      " -0.00000000e+00 -0.00000000e+00  8.07257852e+00 -0.00000000e+00\n",
      "  0.00000000e+00  0.00000000e+00 -9.12465299e+00 -0.00000000e+00\n",
      " -0.00000000e+00 -0.00000000e+00  0.00000000e+00  0.00000000e+00\n",
      "  0.00000000e+00 -0.00000000e+00  0.00000000e+00 -0.00000000e+00\n",
      "  0.00000000e+00 -0.00000000e+00 -0.00000000e+00  0.00000000e+00\n",
      "  0.00000000e+00  0.00000000e+00  0.00000000e+00  0.00000000e+00\n",
      "  0.00000000e+00 -0.00000000e+00]\n"
     ]
    }
   ],
   "source": [
    "print (lasso_model.coef_)"
   ]
  },
  {
   "cell_type": "code",
   "execution_count": 254,
   "metadata": {},
   "outputs": [
    {
     "data": {
      "text/plain": [
       "array([ 1.09014383e-02,  1.28605090e-03,  4.40672116e-01, -5.30851016e-01,\n",
       "        8.75254480e-01,  8.07257852e+00, -9.12465299e+00])"
      ]
     },
     "execution_count": 254,
     "metadata": {},
     "output_type": "execute_result"
    }
   ],
   "source": [
    "lasso_model.coef_[((lasso_model.coef_)!=0)] # refit the model with these features !"
   ]
  },
  {
   "cell_type": "code",
   "execution_count": 255,
   "metadata": {},
   "outputs": [
    {
     "name": "stdout",
     "output_type": "stream",
     "text": [
      "[ 1.08084856e-02  1.26848354e-03  4.41079217e-01 -5.35609895e-01\n",
      "  8.78103434e-01 -0.00000000e+00 -0.00000000e+00  0.00000000e+00\n",
      " -0.00000000e+00  0.00000000e+00 -0.00000000e+00  0.00000000e+00\n",
      " -0.00000000e+00 -0.00000000e+00  6.78145836e+00 -0.00000000e+00\n",
      "  0.00000000e+00  0.00000000e+00 -8.57468030e+00 -0.00000000e+00\n",
      " -0.00000000e+00 -0.00000000e+00  0.00000000e+00  0.00000000e+00\n",
      "  0.00000000e+00 -0.00000000e+00  0.00000000e+00 -0.00000000e+00\n",
      "  0.00000000e+00 -0.00000000e+00 -0.00000000e+00  0.00000000e+00\n",
      "  0.00000000e+00  0.00000000e+00  0.00000000e+00  0.00000000e+00\n",
      "  0.00000000e+00 -0.00000000e+00]\n"
     ]
    }
   ],
   "source": [
    "lassoMod = Lasso(alpha=1)\n",
    "lassoMod.fit(X_train,y_train)\n",
    "print (lassoMod.coef_)"
   ]
  },
  {
   "cell_type": "code",
   "execution_count": 256,
   "metadata": {},
   "outputs": [
    {
     "data": {
      "text/plain": [
       "array([ 1.08084856e-02,  1.26848354e-03,  4.41079217e-01, -5.35609895e-01,\n",
       "        8.78103434e-01,  6.78145836e+00, -8.57468030e+00])"
      ]
     },
     "execution_count": 256,
     "metadata": {},
     "output_type": "execute_result"
    }
   ],
   "source": [
    "lassoMod.coef_[((lassoMod.coef_)!=0)]"
   ]
  },
  {
   "cell_type": "code",
   "execution_count": 257,
   "metadata": {},
   "outputs": [],
   "source": [
    "lassoMod.MAPE, lassoMod.MSSE = ErrorMetric(lassoMod, X_train, y_train)"
   ]
  },
  {
   "cell_type": "code",
   "execution_count": 258,
   "metadata": {},
   "outputs": [
    {
     "name": "stdout",
     "output_type": "stream",
     "text": [
      "8.881224693747106 492.1708018856924\n"
     ]
    }
   ],
   "source": [
    "print (lassoMod.MAPE, lassoMod.MSSE)"
   ]
  },
  {
   "cell_type": "markdown",
   "metadata": {},
   "source": [
    "# Comaprison to stronger models: Random Forest, XGB Regression"
   ]
  },
  {
   "cell_type": "markdown",
   "metadata": {},
   "source": [
    "# 1. Linear regression Model"
   ]
  },
  {
   "cell_type": "code",
   "execution_count": 259,
   "metadata": {},
   "outputs": [],
   "source": [
    "# Rsquare, MSE, MAE for Linear regression"
   ]
  },
  {
   "cell_type": "code",
   "execution_count": 260,
   "metadata": {},
   "outputs": [
    {
     "name": "stdout",
     "output_type": "stream",
     "text": [
      "Liner Regression R squared: 0.8568\n"
     ]
    }
   ],
   "source": [
    "pred = lr.predict(X_test)\n",
    "print('Liner Regression R squared: %.4f' % lr.score(X_test, y_test))"
   ]
  },
  {
   "cell_type": "code",
   "execution_count": 261,
   "metadata": {},
   "outputs": [
    {
     "name": "stdout",
     "output_type": "stream",
     "text": [
      "Liner Regression RMSE: 19.6946\n"
     ]
    }
   ],
   "source": [
    "lr_mse = mean_squared_error(pred, y_test)\n",
    "lr_rmse = np.sqrt(lr_mse)\n",
    "print('Liner Regression RMSE: %.4f' % lr_rmse)"
   ]
  },
  {
   "cell_type": "code",
   "execution_count": 262,
   "metadata": {},
   "outputs": [
    {
     "name": "stdout",
     "output_type": "stream",
     "text": [
      "Linear Regression MAE: 14.1763\n"
     ]
    }
   ],
   "source": [
    "from sklearn.metrics import mean_absolute_error\n",
    "lr_mae = mean_absolute_error(pred, y_test)\n",
    "print('Linear Regression MAE: %.4f' % lr_mae)"
   ]
  },
  {
   "cell_type": "markdown",
   "metadata": {},
   "source": [
    "# 2. Random Forest regressor"
   ]
  },
  {
   "cell_type": "code",
   "execution_count": 263,
   "metadata": {},
   "outputs": [
    {
     "data": {
      "text/plain": [
       "RandomForestRegressor(bootstrap=True, criterion='mse', max_depth=None,\n",
       "           max_features='auto', max_leaf_nodes=None,\n",
       "           min_impurity_decrease=0.0, min_impurity_split=None,\n",
       "           min_samples_leaf=1, min_samples_split=2,\n",
       "           min_weight_fraction_leaf=0.0, n_estimators=10, n_jobs=1,\n",
       "           oob_score=False, random_state=42, verbose=0, warm_start=False)"
      ]
     },
     "execution_count": 263,
     "metadata": {},
     "output_type": "execute_result"
    }
   ],
   "source": [
    "from sklearn.ensemble import RandomForestRegressor\n",
    "\n",
    "RF_reg = RandomForestRegressor(random_state=42)\n",
    "RF_reg.fit(X_train, y_train)"
   ]
  },
  {
   "cell_type": "code",
   "execution_count": 264,
   "metadata": {},
   "outputs": [],
   "source": [
    "# Rsquare, MSE, MAE for RF regressor"
   ]
  },
  {
   "cell_type": "code",
   "execution_count": 265,
   "metadata": {},
   "outputs": [
    {
     "name": "stdout",
     "output_type": "stream",
     "text": [
      "Random Forest R squared\": 0.8606\n"
     ]
    }
   ],
   "source": [
    "print('Random Forest R squared\": %.4f' % RF_reg.score(X_test, y_test))"
   ]
  },
  {
   "cell_type": "code",
   "execution_count": 266,
   "metadata": {},
   "outputs": [
    {
     "name": "stdout",
     "output_type": "stream",
     "text": [
      "Random Forest RMSE: 19.4330\n"
     ]
    }
   ],
   "source": [
    "rf_pred = RF_reg.predict(X_test)\n",
    "forest_mse = mean_squared_error(rf_pred, y_test)\n",
    "forest_rmse = np.sqrt(forest_mse)\n",
    "print('Random Forest RMSE: %.4f' % forest_rmse)"
   ]
  },
  {
   "cell_type": "code",
   "execution_count": 267,
   "metadata": {},
   "outputs": [
    {
     "name": "stdout",
     "output_type": "stream",
     "text": [
      "Random Forest MAE: 12.7978\n"
     ]
    }
   ],
   "source": [
    "from sklearn.metrics import mean_absolute_error\n",
    "\n",
    "lin_mae = mean_absolute_error(rf_pred, y_test)\n",
    "print('Random Forest MAE: %.4f' % lin_mae)"
   ]
  },
  {
   "cell_type": "markdown",
   "metadata": {},
   "source": [
    "# Gradient boosting regressor"
   ]
  },
  {
   "cell_type": "code",
   "execution_count": 268,
   "metadata": {},
   "outputs": [
    {
     "data": {
      "text/plain": [
       "GradientBoostingRegressor(alpha=0.9, criterion='friedman_mse', init=None,\n",
       "             learning_rate=0.1, loss='ls', max_depth=3, max_features=None,\n",
       "             max_leaf_nodes=None, min_impurity_decrease=0.0,\n",
       "             min_impurity_split=None, min_samples_leaf=1,\n",
       "             min_samples_split=2, min_weight_fraction_leaf=0.0,\n",
       "             n_estimators=100, presort='auto', random_state=None,\n",
       "             subsample=1.0, verbose=0, warm_start=False)"
      ]
     },
     "execution_count": 268,
     "metadata": {},
     "output_type": "execute_result"
    }
   ],
   "source": [
    "from sklearn import ensemble\n",
    "from sklearn.ensemble import GradientBoostingRegressor\n",
    "model = ensemble.GradientBoostingRegressor()\n",
    "model.fit(X_train, y_train)"
   ]
  },
  {
   "cell_type": "code",
   "execution_count": 269,
   "metadata": {},
   "outputs": [],
   "source": [
    "# Rsquare, MSE, MAE for XGB regressor"
   ]
  },
  {
   "cell_type": "code",
   "execution_count": 270,
   "metadata": {},
   "outputs": [
    {
     "name": "stdout",
     "output_type": "stream",
     "text": [
      "Gradient Boosting R squared\": 0.8774\n"
     ]
    }
   ],
   "source": [
    "print('Gradient Boosting R squared\": %.4f' % model.score(X_test, y_test))"
   ]
  },
  {
   "cell_type": "code",
   "execution_count": 271,
   "metadata": {},
   "outputs": [
    {
     "name": "stdout",
     "output_type": "stream",
     "text": [
      "Gradient Boosting RMSE: 18.2296\n"
     ]
    }
   ],
   "source": [
    "b_pred = model.predict(X_test)\n",
    "model_mse = mean_squared_error(b_pred, y_test)\n",
    "model_rmse = np.sqrt(model_mse)\n",
    "print('Gradient Boosting RMSE: %.4f' % model_rmse)"
   ]
  },
  {
   "cell_type": "code",
   "execution_count": 272,
   "metadata": {},
   "outputs": [
    {
     "name": "stdout",
     "output_type": "stream",
     "text": [
      "Gradient Boosting MAE: 12.3552\n"
     ]
    }
   ],
   "source": [
    "from sklearn.metrics import mean_absolute_error\n",
    "\n",
    "lin_mae = mean_absolute_error(b_pred, y_test)\n",
    "print('Gradient Boosting MAE: %.4f' % lin_mae)"
   ]
  },
  {
   "cell_type": "markdown",
   "metadata": {},
   "source": [
    "# Variable importance/ Important Features "
   ]
  },
  {
   "cell_type": "code",
   "execution_count": 273,
   "metadata": {},
   "outputs": [],
   "source": [
    "#Feature Importance"
   ]
  },
  {
   "cell_type": "code",
   "execution_count": 274,
   "metadata": {},
   "outputs": [],
   "source": [
    "feature_labels = np.array(['Distance',\n",
    "'Average_weekly_passengers',\n",
    "'market_share',\n",
    "'market_share_1',\n",
    "'price',\n",
    "'Average_Fare',\n",
    "'MLA_AS',\n",
    "'MLA_B6',\n",
    "'MLA_CO',\n",
    "'MLA_DL',\n",
    "'MLA_F9',\n",
    "'MLA_FL',\n",
    "'MLA_G4',\n",
    "'MLA_HP',\n",
    "'MLA_NK',\n",
    "'MLA_NW',\n",
    "'MLA_TZ',\n",
    "'MLA_UA',\n",
    "'MLA_US',\n",
    "'MLA_WN',\n",
    "'MLA_YX',\n",
    "'LPA_AQ',\n",
    "'LPA_AS',\n",
    "'LPA_AX',\n",
    "'LPA_B6',\n",
    "'LPA_CO',\n",
    "'LPA_DL',\n",
    "'LPA_F9',\n",
    "'LPA_FL',\n",
    "'LPA_G4',\n",
    "'LPA_HP',\n",
    "'LPA_NK',\n",
    "'LPA_NW',\n",
    "'LPA_SY',\n",
    "'LPA_TZ',\n",
    "'LPA_UA',\n",
    "'LPA_US',\n",
    "'LPA_WN',\n",
    "'LPA_YX'])\n"
   ]
  },
  {
   "cell_type": "code",
   "execution_count": 275,
   "metadata": {},
   "outputs": [
    {
     "name": "stdout",
     "output_type": "stream",
     "text": [
      "LPA_WN-0.00%\n",
      "LPA_FL-0.00%\n",
      "LPA_TZ-0.00%\n",
      "LPA_AQ-0.00%\n",
      "MLA_YX-0.00%\n",
      "MLA_AS-0.00%\n",
      "LPA_HP-0.00%\n",
      "MLA_HP-0.00%\n",
      "MLA_FL-0.00%\n",
      "LPA_US-0.03%\n",
      "LPA_NK-0.12%\n",
      "MLA_UA-0.15%\n",
      "LPA_AS-0.17%\n",
      "LPA_UA-0.19%\n",
      "LPA_B6-0.19%\n",
      "LPA_G4-0.23%\n",
      "MLA_CO-0.29%\n",
      "MLA_F9-0.36%\n",
      "LPA_NW-0.42%\n",
      "LPA_DL-0.48%\n",
      "MLA_DL-0.56%\n",
      "LPA_AX-0.61%\n",
      "MLA_WN-0.75%\n",
      "MLA_NW-0.87%\n",
      "LPA_CO-1.19%\n",
      "Average_Fare-1.20%\n",
      "MLA_TZ-1.21%\n",
      "MLA_G4-1.36%\n",
      "LPA_F9-1.49%\n",
      "MLA_NK-1.76%\n",
      "MLA_B6-1.87%\n",
      "LPA_SY-2.04%\n",
      "MLA_US-3.82%\n",
      "Average_weekly_passengers-4.08%\n",
      "market_share-10.33%\n",
      "Distance-13.00%\n",
      "price-24.81%\n",
      "market_share_1-26.43%\n"
     ]
    }
   ],
   "source": [
    "importance = model.feature_importances_\n",
    "feature_indexes_by_importance = importance.argsort()\n",
    "for index in feature_indexes_by_importance:\n",
    "    print('{}-{:.2f}%'.format(feature_labels[index], (importance[index] *100.0)))"
   ]
  },
  {
   "cell_type": "code",
   "execution_count": 276,
   "metadata": {},
   "outputs": [],
   "source": [
    "#The most important features are Price, Distance, Market_shares and MLA_US (market lower price & US code)\n",
    "#And the least important feature is Apartment, which means that regardless of whether this unit is an apartment or not, \n",
    "#does not matter to the sold price. Overall, most of these 19 features are used."
   ]
  },
  {
   "cell_type": "code",
   "execution_count": 277,
   "metadata": {},
   "outputs": [
    {
     "data": {
      "text/plain": [
       "array([0.12996564, 0.04076888, 0.10328112, 0.26426488, 0.24809392,\n",
       "       0.0119848 , 0.        , 0.01874935, 0.00289076, 0.00556616,\n",
       "       0.00355797, 0.        , 0.01356865, 0.        , 0.01756145,\n",
       "       0.00874875, 0.01212524, 0.00148383, 0.03823712, 0.00754494,\n",
       "       0.        , 0.        , 0.00169823, 0.00607439, 0.00191325,\n",
       "       0.01186915, 0.00475396, 0.0149407 , 0.        , 0.00234461,\n",
       "       0.        , 0.00121008, 0.00424269, 0.02040919, 0.        ,\n",
       "       0.00185519, 0.00029511, 0.        ])"
      ]
     },
     "execution_count": 277,
     "metadata": {},
     "output_type": "execute_result"
    }
   ],
   "source": [
    "importance"
   ]
  },
  {
   "cell_type": "code",
   "execution_count": 278,
   "metadata": {},
   "outputs": [
    {
     "data": {
      "text/plain": [
       "array(['Distance', 'Average_weekly_passengers', 'market_share',\n",
       "       'market_share_1', 'price', 'Average_Fare', 'MLA_AS', 'MLA_B6',\n",
       "       'MLA_CO', 'MLA_DL', 'MLA_F9', 'MLA_FL', 'MLA_G4', 'MLA_HP',\n",
       "       'MLA_NK', 'MLA_NW', 'MLA_TZ', 'MLA_UA', 'MLA_US', 'MLA_WN',\n",
       "       'MLA_YX', 'LPA_AQ', 'LPA_AS', 'LPA_AX', 'LPA_B6', 'LPA_CO',\n",
       "       'LPA_DL', 'LPA_F9', 'LPA_FL', 'LPA_G4', 'LPA_HP', 'LPA_NK',\n",
       "       'LPA_NW', 'LPA_SY', 'LPA_TZ', 'LPA_UA', 'LPA_US', 'LPA_WN',\n",
       "       'LPA_YX'], dtype='<U25')"
      ]
     },
     "execution_count": 278,
     "metadata": {},
     "output_type": "execute_result"
    }
   ],
   "source": [
    "feature_labels"
   ]
  },
  {
   "cell_type": "code",
   "execution_count": 279,
   "metadata": {},
   "outputs": [],
   "source": [
    "s1 = pd.Series([1.28809811e-01, 4.82013503e-02, 8.81036961e-02, 2.84759031e-01,\n",
    "       2.55990082e-01, 1.10108792e-02, 0.00000000e+00, 7.37830398e-03,\n",
    "       4.64288154e-03, 1.65860729e-03, 4.83427434e-03, 0.00000000e+00,\n",
    "       1.24629454e-02, 6.09681274e-04, 1.64789058e-02, 9.28079948e-03,\n",
    "       1.07467190e-02, 2.00195959e-03, 4.05158855e-02, 5.63861750e-03,\n",
    "       0.00000000e+00, 0.00000000e+00, 1.98801812e-03, 8.07985263e-03,\n",
    "       1.02477211e-03, 1.17531249e-02, 3.24378774e-03, 1.33235862e-02,\n",
    "       0.00000000e+00, 3.12423860e-03, 7.92884187e-04, 0.00000000e+00,\n",
    "       2.50576216e-03, 2.06694764e-02, 0.00000000e+00, 8.11236818e-05,\n",
    "       2.88942409e-04, 0.00000000e+00], name='variable imp')"
   ]
  },
  {
   "cell_type": "code",
   "execution_count": 280,
   "metadata": {},
   "outputs": [],
   "source": [
    "s2 = pd.Series(['Distance', 'Average_weekly_passengers', 'market_share',\n",
    "       'market_share_1', 'price', 'MLA_AS', 'MLA_B6',\n",
    "       'MLA_CO', 'MLA_DL', 'MLA_F9', 'MLA_FL', 'MLA_G4', 'MLA_HP',\n",
    "       'MLA_NK', 'MLA_NW', 'MLA_TZ', 'MLA_UA', 'MLA_US', 'MLA_WN',\n",
    "       'MLA_YX', 'LPA_AQ', 'LPA_AS', 'LPA_AX', 'LPA_B6', 'LPA_CO',\n",
    "       'LPA_DL', 'LPA_F9', 'LPA_FL', 'LPA_G4', 'LPA_HP', 'LPA_NK',\n",
    "       'LPA_NW', 'LPA_SY', 'LPA_TZ', 'LPA_UA', 'LPA_US', 'LPA_WN',\n",
    "       'LPA_YX'], name='feature')"
   ]
  },
  {
   "cell_type": "code",
   "execution_count": 281,
   "metadata": {},
   "outputs": [
    {
     "data": {
      "text/html": [
       "<div>\n",
       "<style scoped>\n",
       "    .dataframe tbody tr th:only-of-type {\n",
       "        vertical-align: middle;\n",
       "    }\n",
       "\n",
       "    .dataframe tbody tr th {\n",
       "        vertical-align: top;\n",
       "    }\n",
       "\n",
       "    .dataframe thead th {\n",
       "        text-align: right;\n",
       "    }\n",
       "</style>\n",
       "<table border=\"1\" class=\"dataframe\">\n",
       "  <thead>\n",
       "    <tr style=\"text-align: right;\">\n",
       "      <th></th>\n",
       "      <th>variable imp</th>\n",
       "      <th>feature</th>\n",
       "    </tr>\n",
       "  </thead>\n",
       "  <tbody>\n",
       "    <tr>\n",
       "      <th>0</th>\n",
       "      <td>0.128810</td>\n",
       "      <td>Distance</td>\n",
       "    </tr>\n",
       "    <tr>\n",
       "      <th>1</th>\n",
       "      <td>0.048201</td>\n",
       "      <td>Average_weekly_passengers</td>\n",
       "    </tr>\n",
       "    <tr>\n",
       "      <th>2</th>\n",
       "      <td>0.088104</td>\n",
       "      <td>market_share</td>\n",
       "    </tr>\n",
       "    <tr>\n",
       "      <th>3</th>\n",
       "      <td>0.284759</td>\n",
       "      <td>market_share_1</td>\n",
       "    </tr>\n",
       "    <tr>\n",
       "      <th>4</th>\n",
       "      <td>0.255990</td>\n",
       "      <td>price</td>\n",
       "    </tr>\n",
       "  </tbody>\n",
       "</table>\n",
       "</div>"
      ],
      "text/plain": [
       "   variable imp                    feature\n",
       "0      0.128810                   Distance\n",
       "1      0.048201  Average_weekly_passengers\n",
       "2      0.088104               market_share\n",
       "3      0.284759             market_share_1\n",
       "4      0.255990                      price"
      ]
     },
     "execution_count": 281,
     "metadata": {},
     "output_type": "execute_result"
    }
   ],
   "source": [
    "imp = pd.concat([s1, s2], axis=1)\n",
    "imp.head()"
   ]
  },
  {
   "cell_type": "code",
   "execution_count": 282,
   "metadata": {},
   "outputs": [
    {
     "data": {
      "image/png": "[encoded data removed]",
      "text/plain": [
       "<Figure size 1080x576 with 1 Axes>"
      ]
     },
     "metadata": {
      "needs_background": "light"
     },
     "output_type": "display_data"
    }
   ],
   "source": [
    "from matplotlib import pyplot as plt\n",
    "import seaborn as sns\n",
    "\n",
    "plt.figure(figsize=(15,8))\n",
    "ax = sns.barplot('variable imp', 'feature', data=np.round(imp,3), color=\"aquamarine\")"
   ]
  },
  {
   "cell_type": "markdown",
   "metadata": {},
   "source": [
    "# Conclusions:"
   ]
  },
  {
   "cell_type": "markdown",
   "metadata": {},
   "source": [
    "1.\tFeatures like price, market_share, distance have similar distribution like average_fare\n",
    "2.\tAverage_weekly_passengers, market_share_1 is strictly not normal\n",
    "3.\tWe noticed that out of the numerical features, distance, price, market_share share some relationship with the target variable\n",
    "4.\tThe passengers data is scattered with huge outliers, and most data is concentrated within sum of 2500. Very random, less pattern\n",
    "5.\tBy looking at correlation between numerical values we discovered 2 features which have a strong relationship to the target variable\n",
    "6.\tThe correlation between distance and price is highest 0.58\n",
    "7.\tThe correlation between distance and market_share is 2nd highest -0.53\n",
    "8.\tCategorical variables like City1 and City2, has too many levels, so encoding is not an option for them but the categorical variables Low_price_airlin and market_leading_airline can be dummified as the no. of levels are reasonable \n",
    "9.\tAny abnormality noticed in the regression graphs can be attributed to a huge no. of outliers present in the data, and  the normality in some features being low\n",
    "10.\tThe most important features are Price, Distance, Market_shares and MLA_US (market lower price & US code) \n",
    "11.\tRF and XGB has indeed reduced the RMSE and MPE errors."
   ]
  },
  {
   "cell_type": "markdown",
   "metadata": {},
   "source": [
    "## PCA"
   ]
  },
  {
   "cell_type": "code",
   "execution_count": 283,
   "metadata": {},
   "outputs": [
    {
     "data": {
      "text/html": [
       "<div>\n",
       "<style scoped>\n",
       "    .dataframe tbody tr th:only-of-type {\n",
       "        vertical-align: middle;\n",
       "    }\n",
       "\n",
       "    .dataframe tbody tr th {\n",
       "        vertical-align: top;\n",
       "    }\n",
       "\n",
       "    .dataframe thead th {\n",
       "        text-align: right;\n",
       "    }\n",
       "</style>\n",
       "<table border=\"1\" class=\"dataframe\">\n",
       "  <thead>\n",
       "    <tr style=\"text-align: right;\">\n",
       "      <th></th>\n",
       "      <th>Distance</th>\n",
       "      <th>Average_weekly_passengers</th>\n",
       "      <th>market_share</th>\n",
       "      <th>market_share_1</th>\n",
       "      <th>price</th>\n",
       "      <th>Average_Fare</th>\n",
       "      <th>MLA_AS</th>\n",
       "      <th>MLA_B6</th>\n",
       "      <th>MLA_CO</th>\n",
       "      <th>MLA_DL</th>\n",
       "      <th>...</th>\n",
       "      <th>LPA_G4</th>\n",
       "      <th>LPA_HP</th>\n",
       "      <th>LPA_NK</th>\n",
       "      <th>LPA_NW</th>\n",
       "      <th>LPA_SY</th>\n",
       "      <th>LPA_TZ</th>\n",
       "      <th>LPA_UA</th>\n",
       "      <th>LPA_US</th>\n",
       "      <th>LPA_WN</th>\n",
       "      <th>LPA_YX</th>\n",
       "    </tr>\n",
       "  </thead>\n",
       "  <tbody>\n",
       "    <tr>\n",
       "      <th>0</th>\n",
       "      <td>528.0</td>\n",
       "      <td>424.56</td>\n",
       "      <td>70.19</td>\n",
       "      <td>70.19</td>\n",
       "      <td>111.03</td>\n",
       "      <td>114.47</td>\n",
       "      <td>0</td>\n",
       "      <td>0</td>\n",
       "      <td>0</td>\n",
       "      <td>0</td>\n",
       "      <td>...</td>\n",
       "      <td>0</td>\n",
       "      <td>0</td>\n",
       "      <td>0</td>\n",
       "      <td>0</td>\n",
       "      <td>0</td>\n",
       "      <td>0</td>\n",
       "      <td>0</td>\n",
       "      <td>0</td>\n",
       "      <td>0</td>\n",
       "      <td>0</td>\n",
       "    </tr>\n",
       "    <tr>\n",
       "      <th>1</th>\n",
       "      <td>860.0</td>\n",
       "      <td>276.84</td>\n",
       "      <td>75.10</td>\n",
       "      <td>17.23</td>\n",
       "      <td>118.94</td>\n",
       "      <td>122.47</td>\n",
       "      <td>0</td>\n",
       "      <td>0</td>\n",
       "      <td>0</td>\n",
       "      <td>0</td>\n",
       "      <td>...</td>\n",
       "      <td>0</td>\n",
       "      <td>0</td>\n",
       "      <td>0</td>\n",
       "      <td>0</td>\n",
       "      <td>0</td>\n",
       "      <td>0</td>\n",
       "      <td>0</td>\n",
       "      <td>0</td>\n",
       "      <td>0</td>\n",
       "      <td>0</td>\n",
       "    </tr>\n",
       "    <tr>\n",
       "      <th>2</th>\n",
       "      <td>852.0</td>\n",
       "      <td>215.76</td>\n",
       "      <td>78.89</td>\n",
       "      <td>2.77</td>\n",
       "      <td>167.12</td>\n",
       "      <td>214.42</td>\n",
       "      <td>0</td>\n",
       "      <td>0</td>\n",
       "      <td>0</td>\n",
       "      <td>1</td>\n",
       "      <td>...</td>\n",
       "      <td>0</td>\n",
       "      <td>0</td>\n",
       "      <td>0</td>\n",
       "      <td>0</td>\n",
       "      <td>0</td>\n",
       "      <td>0</td>\n",
       "      <td>0</td>\n",
       "      <td>0</td>\n",
       "      <td>0</td>\n",
       "      <td>0</td>\n",
       "    </tr>\n",
       "    <tr>\n",
       "      <th>3</th>\n",
       "      <td>288.0</td>\n",
       "      <td>606.84</td>\n",
       "      <td>96.97</td>\n",
       "      <td>96.97</td>\n",
       "      <td>68.86</td>\n",
       "      <td>69.40</td>\n",
       "      <td>0</td>\n",
       "      <td>0</td>\n",
       "      <td>0</td>\n",
       "      <td>0</td>\n",
       "      <td>...</td>\n",
       "      <td>0</td>\n",
       "      <td>0</td>\n",
       "      <td>0</td>\n",
       "      <td>0</td>\n",
       "      <td>0</td>\n",
       "      <td>0</td>\n",
       "      <td>0</td>\n",
       "      <td>0</td>\n",
       "      <td>1</td>\n",
       "      <td>0</td>\n",
       "    </tr>\n",
       "    <tr>\n",
       "      <th>4</th>\n",
       "      <td>723.0</td>\n",
       "      <td>313.04</td>\n",
       "      <td>39.79</td>\n",
       "      <td>15.34</td>\n",
       "      <td>145.42</td>\n",
       "      <td>158.13</td>\n",
       "      <td>0</td>\n",
       "      <td>0</td>\n",
       "      <td>0</td>\n",
       "      <td>0</td>\n",
       "      <td>...</td>\n",
       "      <td>0</td>\n",
       "      <td>0</td>\n",
       "      <td>0</td>\n",
       "      <td>0</td>\n",
       "      <td>0</td>\n",
       "      <td>0</td>\n",
       "      <td>0</td>\n",
       "      <td>0</td>\n",
       "      <td>1</td>\n",
       "      <td>0</td>\n",
       "    </tr>\n",
       "  </tbody>\n",
       "</table>\n",
       "<p>5 rows × 39 columns</p>\n",
       "</div>"
      ],
      "text/plain": [
       "   Distance  Average_weekly_passengers  market_share  market_share_1   price  \\\n",
       "0     528.0                     424.56         70.19           70.19  111.03   \n",
       "1     860.0                     276.84         75.10           17.23  118.94   \n",
       "2     852.0                     215.76         78.89            2.77  167.12   \n",
       "3     288.0                     606.84         96.97           96.97   68.86   \n",
       "4     723.0                     313.04         39.79           15.34  145.42   \n",
       "\n",
       "   Average_Fare  MLA_AS  MLA_B6  MLA_CO  MLA_DL   ...    LPA_G4  LPA_HP  \\\n",
       "0        114.47       0       0       0       0   ...         0       0   \n",
       "1        122.47       0       0       0       0   ...         0       0   \n",
       "2        214.42       0       0       0       1   ...         0       0   \n",
       "3         69.40       0       0       0       0   ...         0       0   \n",
       "4        158.13       0       0       0       0   ...         0       0   \n",
       "\n",
       "   LPA_NK  LPA_NW  LPA_SY  LPA_TZ  LPA_UA  LPA_US  LPA_WN  LPA_YX  \n",
       "0       0       0       0       0       0       0       0       0  \n",
       "1       0       0       0       0       0       0       0       0  \n",
       "2       0       0       0       0       0       0       0       0  \n",
       "3       0       0       0       0       0       0       1       0  \n",
       "4       0       0       0       0       0       0       1       0  \n",
       "\n",
       "[5 rows x 39 columns]"
      ]
     },
     "execution_count": 283,
     "metadata": {},
     "output_type": "execute_result"
    }
   ],
   "source": [
    "final_df.head()"
   ]
  },
  {
   "cell_type": "code",
   "execution_count": 284,
   "metadata": {},
   "outputs": [],
   "source": [
    "features = ['Distance', 'Average_weekly_passengers', 'market_share',\n",
    "       'market_share_1', 'price', 'MLA_AS', 'MLA_B6',\n",
    "       'MLA_CO', 'MLA_DL', 'MLA_F9', 'MLA_FL', 'MLA_G4', 'MLA_HP',\n",
    "       'MLA_NK', 'MLA_NW', 'MLA_TZ', 'MLA_UA', 'MLA_US', 'MLA_WN',\n",
    "       'MLA_YX', 'LPA_AQ', 'LPA_AS', 'LPA_AX', 'LPA_B6', 'LPA_CO',\n",
    "       'LPA_DL', 'LPA_F9', 'LPA_FL', 'LPA_G4', 'LPA_HP', 'LPA_NK',\n",
    "       'LPA_NW', 'LPA_SY', 'LPA_TZ', 'LPA_UA', 'LPA_US', 'LPA_WN',\n",
    "       'LPA_YX']"
   ]
  },
  {
   "cell_type": "code",
   "execution_count": 285,
   "metadata": {},
   "outputs": [],
   "source": [
    "# Separating out the features\n",
    "X= final_df.loc[:, features].values"
   ]
  },
  {
   "cell_type": "code",
   "execution_count": 286,
   "metadata": {},
   "outputs": [],
   "source": [
    "from sklearn.decomposition import PCA\n",
    "pca = PCA(n_components=3)\n",
    "principalComponents = pca.fit_transform(X)\n",
    "principalDf = pd.DataFrame(data = principalComponents\n",
    "             , columns = ['pc1', 'pc2', 'pc3'])"
   ]
  },
  {
   "cell_type": "code",
   "execution_count": 287,
   "metadata": {},
   "outputs": [
    {
     "name": "stdout",
     "output_type": "stream",
     "text": [
      "[454040.80571564 366232.75074311   1447.70630905]\n",
      "[0.55194495 0.44520297 0.00175987]\n",
      "[0.55194495 0.99714792 0.99890779]\n"
     ]
    }
   ],
   "source": [
    "print(pca.explained_variance_)\n",
    "print(pca.explained_variance_ratio_)\n",
    "print (pca.explained_variance_ratio_.cumsum())"
   ]
  },
  {
   "cell_type": "code",
   "execution_count": 288,
   "metadata": {},
   "outputs": [
    {
     "data": {
      "text/html": [
       "<div>\n",
       "<style scoped>\n",
       "    .dataframe tbody tr th:only-of-type {\n",
       "        vertical-align: middle;\n",
       "    }\n",
       "\n",
       "    .dataframe tbody tr th {\n",
       "        vertical-align: top;\n",
       "    }\n",
       "\n",
       "    .dataframe thead th {\n",
       "        text-align: right;\n",
       "    }\n",
       "</style>\n",
       "<table border=\"1\" class=\"dataframe\">\n",
       "  <thead>\n",
       "    <tr style=\"text-align: right;\">\n",
       "      <th></th>\n",
       "      <th>pc1</th>\n",
       "      <th>pc2</th>\n",
       "      <th>pc3</th>\n",
       "    </tr>\n",
       "  </thead>\n",
       "  <tbody>\n",
       "    <tr>\n",
       "      <th>0</th>\n",
       "      <td>225.792605</td>\n",
       "      <td>-531.220837</td>\n",
       "      <td>-12.584499</td>\n",
       "    </tr>\n",
       "    <tr>\n",
       "      <th>1</th>\n",
       "      <td>-116.911004</td>\n",
       "      <td>-408.478128</td>\n",
       "      <td>-18.145323</td>\n",
       "    </tr>\n",
       "    <tr>\n",
       "      <th>2</th>\n",
       "      <td>-155.149811</td>\n",
       "      <td>-456.958209</td>\n",
       "      <td>30.331779</td>\n",
       "    </tr>\n",
       "    <tr>\n",
       "      <th>3</th>\n",
       "      <td>527.100713</td>\n",
       "      <td>-566.483346</td>\n",
       "      <td>-44.212400</td>\n",
       "    </tr>\n",
       "    <tr>\n",
       "      <th>4</th>\n",
       "      <td>5.754020</td>\n",
       "      <td>-475.647936</td>\n",
       "      <td>14.809687</td>\n",
       "    </tr>\n",
       "  </tbody>\n",
       "</table>\n",
       "</div>"
      ],
      "text/plain": [
       "          pc1         pc2        pc3\n",
       "0  225.792605 -531.220837 -12.584499\n",
       "1 -116.911004 -408.478128 -18.145323\n",
       "2 -155.149811 -456.958209  30.331779\n",
       "3  527.100713 -566.483346 -44.212400\n",
       "4    5.754020 -475.647936  14.809687"
      ]
     },
     "execution_count": 288,
     "metadata": {},
     "output_type": "execute_result"
    }
   ],
   "source": [
    "principalDf.head()"
   ]
  },
  {
   "cell_type": "code",
   "execution_count": 289,
   "metadata": {},
   "outputs": [],
   "source": [
    "result = principalDf"
   ]
  },
  {
   "cell_type": "code",
   "execution_count": 290,
   "metadata": {},
   "outputs": [
    {
     "data": {
      "text/plain": [
       "Text(0.5,0.92,'PCA on the train data')"
      ]
     },
     "execution_count": 290,
     "metadata": {},
     "output_type": "execute_result"
    },
    {
     "data": {
      "image/png": "[encoded data removed]",
      "text/plain": [
       "<Figure size 432x288 with 1 Axes>"
      ]
     },
     "metadata": {},
     "output_type": "display_data"
    }
   ],
   "source": [
    "# Run The PCA\n",
    "sns.set_style(\"white\")\n",
    "\n",
    "from mpl_toolkits.mplot3d import Axes3D\n",
    "Axes3D = Axes3D  # pycharm auto import\n",
    "final_df['Average_Fare']=pd.Categorical(final_df['Average_Fare'])\n",
    "my_color=final_df['Average_Fare'].cat.codes\n",
    "\n",
    "# Plot initialisation\n",
    "fig = plt.figure()\n",
    "ax = fig.add_subplot(111, projection='3d')\n",
    "ax.scatter(result['pc1'], result['pc2'], result['pc3'], c=my_color, cmap=\"Set2_r\", s=60)\n",
    " \n",
    "# make simple, bare axis lines through space:\n",
    "xAxisLine = ((min(result['pc1']), max(result['pc1'])), (0, 0), (0,0))\n",
    "ax.plot(xAxisLine[0], xAxisLine[1], xAxisLine[2], 'r')\n",
    "yAxisLine = ((0, 0), (min(result['pc2']), max(result['pc2'])), (0,0))\n",
    "ax.plot(yAxisLine[0], yAxisLine[1], yAxisLine[2], 'r')\n",
    "zAxisLine = ((0, 0), (0,0), (min(result['pc3']), max(result['pc3'])))\n",
    "ax.plot(zAxisLine[0], zAxisLine[1], zAxisLine[2], 'r')\n",
    " \n",
    "# label the axes\n",
    "ax.set_xlabel(\"PC1\")\n",
    "ax.set_ylabel(\"PC2\")\n",
    "ax.set_zlabel(\"PC3\")\n",
    "ax.set_title(\"PCA on the train data\")"
   ]
  },
  {
   "cell_type": "code",
   "execution_count": 291,
   "metadata": {},
   "outputs": [],
   "source": [
    "from sklearn.decomposition import PCA\n",
    "pca = PCA(n_components=9)\n",
    "principalComponents = pca.fit_transform(x)\n",
    "principalDf2 = pd.DataFrame(data = principalComponents\n",
    "             , columns = ['pc1', 'pc2', 'pc3', 'pc4', 'pc5', 'pc6', 'pc7', 'pc8', 'pc9'])"
   ]
  },
  {
   "cell_type": "code",
   "execution_count": 292,
   "metadata": {},
   "outputs": [
    {
     "name": "stdout",
     "output_type": "stream",
     "text": [
      "[4.54040806e+05 3.66232751e+05 1.44770631e+03 6.42440966e+02\n",
      " 2.54638815e+02 2.29484500e-01 1.45960600e-01 1.37031072e-01\n",
      " 1.08777948e-01]\n",
      "[5.51944946e-01 4.45202971e-01 1.75987306e-03 7.80969551e-04\n",
      " 3.09546202e-04 2.78967900e-07 1.77433866e-07 1.66578877e-07\n",
      " 1.32233574e-07]\n",
      "[0.55194495 0.99714792 0.99890779 0.99968876 0.99999831 0.99999859\n",
      " 0.99999876 0.99999893 0.99999906]\n"
     ]
    }
   ],
   "source": [
    "print(pca.explained_variance_)\n",
    "print(pca.explained_variance_ratio_)\n",
    "print (pca.explained_variance_ratio_.cumsum())"
   ]
  },
  {
   "cell_type": "code",
   "execution_count": 293,
   "metadata": {},
   "outputs": [
    {
     "data": {
      "text/html": [
       "<div>\n",
       "<style scoped>\n",
       "    .dataframe tbody tr th:only-of-type {\n",
       "        vertical-align: middle;\n",
       "    }\n",
       "\n",
       "    .dataframe tbody tr th {\n",
       "        vertical-align: top;\n",
       "    }\n",
       "\n",
       "    .dataframe thead th {\n",
       "        text-align: right;\n",
       "    }\n",
       "</style>\n",
       "<table border=\"1\" class=\"dataframe\">\n",
       "  <thead>\n",
       "    <tr style=\"text-align: right;\">\n",
       "      <th></th>\n",
       "      <th>pc1</th>\n",
       "      <th>pc2</th>\n",
       "      <th>pc3</th>\n",
       "      <th>pc4</th>\n",
       "      <th>pc5</th>\n",
       "      <th>pc6</th>\n",
       "      <th>pc7</th>\n",
       "      <th>pc8</th>\n",
       "      <th>pc9</th>\n",
       "    </tr>\n",
       "  </thead>\n",
       "  <tbody>\n",
       "    <tr>\n",
       "      <th>0</th>\n",
       "      <td>225.792605</td>\n",
       "      <td>-531.220837</td>\n",
       "      <td>-12.584499</td>\n",
       "      <td>26.955319</td>\n",
       "      <td>3.631607</td>\n",
       "      <td>-0.739031</td>\n",
       "      <td>-0.159944</td>\n",
       "      <td>-0.022867</td>\n",
       "      <td>-0.288489</td>\n",
       "    </tr>\n",
       "    <tr>\n",
       "      <th>1</th>\n",
       "      <td>-116.911004</td>\n",
       "      <td>-408.478128</td>\n",
       "      <td>-18.145323</td>\n",
       "      <td>-18.898903</td>\n",
       "      <td>-13.443085</td>\n",
       "      <td>-0.312115</td>\n",
       "      <td>0.479595</td>\n",
       "      <td>-0.614868</td>\n",
       "      <td>-0.124477</td>\n",
       "    </tr>\n",
       "    <tr>\n",
       "      <th>2</th>\n",
       "      <td>-155.149811</td>\n",
       "      <td>-456.958209</td>\n",
       "      <td>30.331779</td>\n",
       "      <td>-30.860147</td>\n",
       "      <td>-19.260528</td>\n",
       "      <td>-0.267969</td>\n",
       "      <td>0.300717</td>\n",
       "      <td>0.717672</td>\n",
       "      <td>-0.173072</td>\n",
       "    </tr>\n",
       "    <tr>\n",
       "      <th>3</th>\n",
       "      <td>527.100713</td>\n",
       "      <td>-566.483346</td>\n",
       "      <td>-44.212400</td>\n",
       "      <td>52.010539</td>\n",
       "      <td>-15.896558</td>\n",
       "      <td>0.359930</td>\n",
       "      <td>0.034228</td>\n",
       "      <td>0.078687</td>\n",
       "      <td>-0.043612</td>\n",
       "    </tr>\n",
       "    <tr>\n",
       "      <th>4</th>\n",
       "      <td>5.754020</td>\n",
       "      <td>-475.647936</td>\n",
       "      <td>14.809687</td>\n",
       "      <td>-27.381556</td>\n",
       "      <td>22.812442</td>\n",
       "      <td>0.560287</td>\n",
       "      <td>-0.414182</td>\n",
       "      <td>0.200647</td>\n",
       "      <td>-0.567006</td>\n",
       "    </tr>\n",
       "  </tbody>\n",
       "</table>\n",
       "</div>"
      ],
      "text/plain": [
       "          pc1         pc2        pc3        pc4        pc5       pc6  \\\n",
       "0  225.792605 -531.220837 -12.584499  26.955319   3.631607 -0.739031   \n",
       "1 -116.911004 -408.478128 -18.145323 -18.898903 -13.443085 -0.312115   \n",
       "2 -155.149811 -456.958209  30.331779 -30.860147 -19.260528 -0.267969   \n",
       "3  527.100713 -566.483346 -44.212400  52.010539 -15.896558  0.359930   \n",
       "4    5.754020 -475.647936  14.809687 -27.381556  22.812442  0.560287   \n",
       "\n",
       "        pc7       pc8       pc9  \n",
       "0 -0.159944 -0.022867 -0.288489  \n",
       "1  0.479595 -0.614868 -0.124477  \n",
       "2  0.300717  0.717672 -0.173072  \n",
       "3  0.034228  0.078687 -0.043612  \n",
       "4 -0.414182  0.200647 -0.567006  "
      ]
     },
     "execution_count": 293,
     "metadata": {},
     "output_type": "execute_result"
    }
   ],
   "source": [
    "principalDf2.head()"
   ]
  },
  {
   "cell_type": "code",
   "execution_count": 294,
   "metadata": {},
   "outputs": [
    {
     "name": "stderr",
     "output_type": "stream",
     "text": [
      "C:\\Users\\Satish\\Anaconda3\\lib\\site-packages\\ipykernel_launcher.py:6: FutureWarning: 'pandas.tools.plotting.scatter_matrix' is deprecated, import 'pandas.plotting.scatter_matrix' instead.\n",
      "  \n"
     ]
    },
    {
     "data": {
      "text/plain": [
       "array([[<matplotlib.axes._subplots.AxesSubplot object at 0x0000000011738390>,\n",
       "        <matplotlib.axes._subplots.AxesSubplot object at 0x0000000011BC62E8>,\n",
       "        <matplotlib.axes._subplots.AxesSubplot object at 0x000000000FC1A9E8>],\n",
       "       [<matplotlib.axes._subplots.AxesSubplot object at 0x000000000BAA62B0>,\n",
       "        <matplotlib.axes._subplots.AxesSubplot object at 0x0000000011845D30>,\n",
       "        <matplotlib.axes._subplots.AxesSubplot object at 0x0000000011845D68>],\n",
       "       [<matplotlib.axes._subplots.AxesSubplot object at 0x00000000123962B0>,\n",
       "        <matplotlib.axes._subplots.AxesSubplot object at 0x000000001232BD30>,\n",
       "        <matplotlib.axes._subplots.AxesSubplot object at 0x00000000123747F0>]],\n",
       "      dtype=object)"
      ]
     },
     "execution_count": 294,
     "metadata": {},
     "output_type": "execute_result"
    },
    {
     "data": {
      "image/png": "[encoded data removed]",
      "text/plain": [
       "<Figure size 432x432 with 9 Axes>"
      ]
     },
     "metadata": {},
     "output_type": "display_data"
    }
   ],
   "source": [
    "import numpy as np \n",
    "import pandas as pd\n",
    "from pandas.tools.plotting import scatter_matrix\n",
    "\n",
    "#now plot using pandas \n",
    "scatter_matrix(principalDf, alpha=0.2, figsize=(6, 6), diagonal='kde')"
   ]
  },
  {
   "cell_type": "code",
   "execution_count": 295,
   "metadata": {},
   "outputs": [],
   "source": [
    "from sklearn.cross_validation import train_test_split\n",
    "#Join 'default' in to the train_pDf dataframe\n",
    "train_principalDf_xy = pd.concat([principalDf2, final_df['Average_Fare']], axis = 1) \n",
    "\n",
    "train_principalDf_xy_1 = train_principalDf_xy\n",
    "\n",
    "#train_principal_DF_xy_1 is the final transformed train data set\n",
    "\n",
    "X = train_principalDf_xy_1[['pc1', 'pc2', 'pc3', 'pc4', 'pc5', 'pc6', 'pc7', 'pc8', 'pc9']] \n",
    "Y = train_principalDf_xy_1['Average_Fare']"
   ]
  },
  {
   "cell_type": "code",
   "execution_count": 296,
   "metadata": {},
   "outputs": [
    {
     "data": {
      "text/plain": [
       "(1000, 9)"
      ]
     },
     "execution_count": 296,
     "metadata": {},
     "output_type": "execute_result"
    }
   ],
   "source": [
    "X.shape"
   ]
  },
  {
   "cell_type": "code",
   "execution_count": 297,
   "metadata": {},
   "outputs": [
    {
     "data": {
      "text/plain": [
       "(1000,)"
      ]
     },
     "execution_count": 297,
     "metadata": {},
     "output_type": "execute_result"
    }
   ],
   "source": [
    "Y.shape"
   ]
  },
  {
   "cell_type": "code",
   "execution_count": 298,
   "metadata": {},
   "outputs": [],
   "source": [
    "from sklearn import cross_validation as cv"
   ]
  },
  {
   "cell_type": "code",
   "execution_count": 299,
   "metadata": {},
   "outputs": [
    {
     "data": {
      "text/plain": [
       "((700, 9), (300, 9), (700,), (300,))"
      ]
     },
     "execution_count": 299,
     "metadata": {},
     "output_type": "execute_result"
    }
   ],
   "source": [
    "Xtrain, Xtest, Ytrain, Ytest = cv.train_test_split(X,Y,test_size = 0.30, random_state = 34)\n",
    "Xtrain.shape, Xtest.shape, Ytrain.shape, Ytest.shape"
   ]
  },
  {
   "cell_type": "code",
   "execution_count": 300,
   "metadata": {},
   "outputs": [
    {
     "name": "stdout",
     "output_type": "stream",
     "text": [
      "Coefficients: \n",
      " [ -0.    0.    0.9  -0.5  -0.6  -8.8 -14.3   0.6  -2. ]\n",
      "0.8519151382594896\n",
      "0.831692631019467\n"
     ]
    }
   ],
   "source": [
    "# Linear regression\n",
    "lr_pca = linear_model.LinearRegression(normalize=True)\n",
    "lr_pca.fit(Xtrain,Ytrain)\n",
    "print('Coefficients: \\n', np.round(lr_pca.coef_,1))\n",
    "print(lr_pca.score(Xtrain,Ytrain))\n",
    "print(lr_pca.score(Xtest,Ytest))    "
   ]
  },
  {
   "cell_type": "code",
   "execution_count": 301,
   "metadata": {},
   "outputs": [],
   "source": [
    "X = train_principalDf_xy_1[['pc1', 'pc2', 'pc3', 'pc4', 'pc5', 'pc6', 'pc7', 'pc8', 'pc9']] \n",
    "Y = train_principalDf_xy_1['Average_Fare']"
   ]
  },
  {
   "cell_type": "code",
   "execution_count": 302,
   "metadata": {},
   "outputs": [],
   "source": [
    "n_folds = 5\n",
    "y_train1 = final_df.values\n",
    "\n",
    "def rmsle_cv(model):\n",
    "    kf = KFold(n_folds, shuffle=True, random_state=42).get_n_splits(Y)\n",
    "    rmse= np.sqrt(-cross_val_score(model, X.values, Y, scoring=\"neg_mean_squared_error\", cv = kf))\n",
    "    return(rmse)"
   ]
  },
  {
   "cell_type": "code",
   "execution_count": 303,
   "metadata": {},
   "outputs": [],
   "source": [
    "lasso = make_pipeline(RobustScaler(), Lasso(alpha =0.0005, random_state=1))\n",
    "ENet = make_pipeline(RobustScaler(), ElasticNet(alpha=0.0005, l1_ratio=.9, random_state=3))\n",
    "KRR = KernelRidge(alpha=0.6, kernel='polynomial', degree=2, coef0=2.5)"
   ]
  },
  {
   "cell_type": "code",
   "execution_count": 304,
   "metadata": {},
   "outputs": [],
   "source": [
    "GBoost = GradientBoostingRegressor(n_estimators=3000, learning_rate=0.05,\n",
    "                                   max_depth=4, max_features='sqrt',\n",
    "                                   min_samples_leaf=15, min_samples_split=10, \n",
    "                                   loss='huber', random_state =5)"
   ]
  },
  {
   "cell_type": "code",
   "execution_count": 305,
   "metadata": {},
   "outputs": [],
   "source": [
    "model_xgb = xgb.XGBRegressor(colsample_bytree=0.4603, gamma=0.0468, \n",
    "                             learning_rate=0.05, max_depth=3, \n",
    "                             min_child_weight=1.7817, n_estimators=2200,\n",
    "                             reg_alpha=0.4640, reg_lambda=0.8571,\n",
    "                             subsample=0.5213, silent=1,\n",
    "                             random_state =7, nthread = -1)"
   ]
  },
  {
   "cell_type": "code",
   "execution_count": 306,
   "metadata": {},
   "outputs": [
    {
     "name": "stdout",
     "output_type": "stream",
     "text": [
      "\n",
      "Lasso rmse score: 22.0005 (0.5331)\n",
      "\n",
      "ElasticNet rmse score: 22.0005 (0.5333)\n",
      "\n",
      "Gradient Boosting rmse score: 19.9892 (1.2209)\n",
      "\n",
      "Xgboost rmse score: 20.2065 (1.0663)\n",
      "\n"
     ]
    }
   ],
   "source": [
    "score = rmsle_cv(lasso)\n",
    "print(\"\\nLasso rmse score: {:.4f} ({:.4f})\\n\".format(score.mean(), score.std()))\n",
    "\n",
    "score = rmsle_cv(ENet)\n",
    "print(\"ElasticNet rmse score: {:.4f} ({:.4f})\\n\".format(score.mean(), score.std()))\n",
    "\n",
    "score = rmsle_cv(GBoost)\n",
    "print(\"Gradient Boosting rmse score: {:.4f} ({:.4f})\\n\".format(score.mean(), score.std()))\n",
    "\n",
    "score = rmsle_cv(model_xgb)\n",
    "print(\"Xgboost rmse score: {:.4f} ({:.4f})\\n\".format(score.mean(), score.std()))"
   ]
  },
  {
   "cell_type": "code",
   "execution_count": 307,
   "metadata": {},
   "outputs": [
    {
     "data": {
      "text/plain": [
       "GradientBoostingRegressor(alpha=0.9, criterion='friedman_mse', init=None,\n",
       "             learning_rate=0.05, loss='huber', max_depth=4,\n",
       "             max_features='sqrt', max_leaf_nodes=None,\n",
       "             min_impurity_decrease=0.0, min_impurity_split=None,\n",
       "             min_samples_leaf=15, min_samples_split=10,\n",
       "             min_weight_fraction_leaf=0.0, n_estimators=3000,\n",
       "             presort='auto', random_state=5, subsample=1.0, verbose=0,\n",
       "             warm_start=False)"
      ]
     },
     "execution_count": 307,
     "metadata": {},
     "output_type": "execute_result"
    }
   ],
   "source": [
    "GBoost.fit(Xtrain,Ytrain)"
   ]
  },
  {
   "cell_type": "code",
   "execution_count": 308,
   "metadata": {},
   "outputs": [
    {
     "data": {
      "text/plain": [
       "0.986044245264383"
      ]
     },
     "execution_count": 308,
     "metadata": {},
     "output_type": "execute_result"
    }
   ],
   "source": [
    "# train Score\n",
    "GBoost.score(Xtrain,Ytrain)"
   ]
  },
  {
   "cell_type": "code",
   "execution_count": 309,
   "metadata": {},
   "outputs": [
    {
     "data": {
      "text/plain": [
       "0.8607649684221392"
      ]
     },
     "execution_count": 309,
     "metadata": {},
     "output_type": "execute_result"
    }
   ],
   "source": [
    "# Test score\n",
    "GBoost.score(Xtest,Ytest)"
   ]
  },
  {
   "cell_type": "code",
   "execution_count": 310,
   "metadata": {},
   "outputs": [
    {
     "data": {
      "text/plain": [
       "XGBRegressor(base_score=0.5, booster='gbtree', colsample_bylevel=1,\n",
       "       colsample_bytree=0.4603, gamma=0.0468, learning_rate=0.05,\n",
       "       max_delta_step=0, max_depth=3, min_child_weight=1.7817,\n",
       "       missing=None, n_estimators=2200, n_jobs=1, nthread=-1,\n",
       "       objective='reg:linear', random_state=7, reg_alpha=0.464,\n",
       "       reg_lambda=0.8571, scale_pos_weight=1, seed=None, silent=1,\n",
       "       subsample=0.5213)"
      ]
     },
     "execution_count": 310,
     "metadata": {},
     "output_type": "execute_result"
    }
   ],
   "source": [
    "model_xgb.fit(Xtrain,Ytrain)"
   ]
  },
  {
   "cell_type": "code",
   "execution_count": 311,
   "metadata": {},
   "outputs": [
    {
     "data": {
      "text/plain": [
       "0.9993180440254102"
      ]
     },
     "execution_count": 311,
     "metadata": {},
     "output_type": "execute_result"
    }
   ],
   "source": [
    "# Train Score\n",
    "model_xgb.score(Xtrain,Ytrain)"
   ]
  },
  {
   "cell_type": "code",
   "execution_count": 312,
   "metadata": {},
   "outputs": [
    {
     "data": {
      "text/plain": [
       "0.8578937335215042"
      ]
     },
     "execution_count": 312,
     "metadata": {},
     "output_type": "execute_result"
    }
   ],
   "source": [
    "# test score\n",
    "model_xgb.score(Xtest,Ytest)"
   ]
  },
  {
   "cell_type": "code",
   "execution_count": 313,
   "metadata": {},
   "outputs": [
    {
     "data": {
      "text/plain": [
       "array([218.36711 , 261.94403 , 194.99948 , 187.65404 , 172.01349 ,\n",
       "       136.67308 , 172.15959 ,  81.33903 , 161.31287 , 191.13818 ,\n",
       "       249.44173 , 153.22661 , 116.96262 , 144.9842  , 214.78908 ,\n",
       "       200.7684  , 207.5843  , 166.4841  , 145.97325 , 179.07846 ,\n",
       "       124.986435, 120.13327 , 163.19653 , 190.00398 , 215.37883 ,\n",
       "       216.95636 ,  87.20201 , 213.59886 , 178.91418 , 240.36931 ,\n",
       "       200.00116 ,  91.362305, 127.384926, 271.3947  , 229.32828 ,\n",
       "       271.6864  , 135.18369 , 170.78429 , 170.35123 , 138.98071 ,\n",
       "       174.7133  ,  81.50713 , 211.32608 , 158.66953 ,  82.774284,\n",
       "       168.99234 , 271.98306 , 186.80954 , 253.1742  ,  89.28079 ,\n",
       "       135.93968 , 273.1878  , 195.52264 , 125.928635, 185.97583 ,\n",
       "        77.11066 , 192.85744 , 169.32843 , 158.89433 , 108.95379 ,\n",
       "        75.98324 , 187.9576  ,  74.53295 , 174.03699 , 134.9864  ,\n",
       "       150.10632 , 126.19315 , 149.33751 , 162.09274 , 115.47828 ,\n",
       "        80.839714, 112.65809 , 181.23923 , 158.45569 ,  84.13215 ,\n",
       "       171.34523 , 149.38669 , 162.47234 , 154.28656 , 102.75665 ,\n",
       "       155.43987 ,  88.941864, 132.86188 , 115.031265, 215.72827 ,\n",
       "       145.86295 , 190.84798 , 190.67253 , 195.7185  , 164.63857 ,\n",
       "        86.75829 , 130.00237 , 176.03683 , 128.66391 , 107.46825 ,\n",
       "       210.99138 , 145.89339 , 193.84221 , 179.89465 , 133.64406 ,\n",
       "       247.5694  , 130.47423 , 155.81479 ,  82.32846 , 130.57912 ,\n",
       "       195.34427 , 166.1003  , 214.85876 , 182.6614  , 215.75583 ,\n",
       "        90.35844 , 168.27516 ,  67.9496  , 129.35434 , 166.72084 ,\n",
       "       130.38727 , 149.63583 , 107.872185, 129.60588 ,  81.495636,\n",
       "       155.98416 , 223.21481 , 167.63132 , 177.16206 , 242.6982  ,\n",
       "       131.19287 , 279.19278 , 190.49855 ,  99.96846 , 119.495834,\n",
       "       108.16972 , 177.8755  , 120.81089 , 166.15172 , 188.8021  ,\n",
       "       102.956474, 193.91064 , 223.87982 , 192.23685 , 114.235535,\n",
       "       147.26906 , 124.483246, 181.04085 , 155.65546 , 109.75647 ,\n",
       "       196.85402 , 121.48844 , 116.36905 , 185.09607 , 155.34395 ,\n",
       "       138.08089 , 133.21065 , 177.13184 , 143.0786  , 180.59633 ,\n",
       "       250.37659 , 182.70331 , 135.93964 , 160.38324 , 149.60225 ,\n",
       "        77.72926 , 242.18208 , 167.03899 , 143.57616 , 128.69226 ,\n",
       "        97.51307 ,  96.41921 ,  90.53826 , 127.39706 , 160.15707 ,\n",
       "        82.35852 , 189.90515 , 122.59027 , 143.46838 , 191.96532 ,\n",
       "       117.228745, 192.3652  , 144.09024 , 182.91579 , 137.67604 ,\n",
       "       118.40178 , 229.03954 , 191.93373 , 151.52205 , 206.65288 ,\n",
       "       197.41357 , 230.84874 , 122.250114,  67.802505, 174.38414 ,\n",
       "       137.06046 , 164.23297 ,  84.936386, 118.22554 ,  72.11077 ,\n",
       "       200.80463 , 123.90404 ,  95.14991 , 172.00957 , 193.56546 ,\n",
       "       140.29343 , 129.8015  , 136.26552 , 132.8887  , 220.21254 ,\n",
       "       170.039   , 229.09874 , 200.13017 , 133.63994 , 270.47974 ,\n",
       "       179.15828 , 178.54416 , 182.27373 , 162.28085 , 210.43405 ,\n",
       "       192.48418 , 180.8053  , 105.07701 , 164.11452 , 216.05034 ,\n",
       "       206.82768 ,  75.37257 , 220.36803 , 136.33022 , 273.4278  ,\n",
       "       158.80286 , 171.5573  , 177.86055 ,  79.96476 , 158.99922 ,\n",
       "       210.13582 , 185.55644 , 182.63794 , 136.77399 , 129.59062 ,\n",
       "       202.02017 , 174.89056 , 174.2739  , 205.08882 , 242.66212 ,\n",
       "       133.29166 , 165.20674 , 255.42891 , 174.32498 ,  93.30239 ,\n",
       "       225.82785 , 205.51895 , 160.13849 , 189.94446 , 193.44106 ,\n",
       "        81.87554 , 166.4154  , 138.25967 ,  77.35852 , 149.03102 ,\n",
       "       236.3841  , 172.56345 , 134.92792 , 162.6137  , 126.18083 ,\n",
       "       184.31224 , 214.11035 , 121.795296, 164.52826 , 234.42657 ,\n",
       "       103.880745,  59.79155 , 168.56943 , 143.00044 , 238.70786 ,\n",
       "       157.18018 , 136.01692 , 126.78695 , 125.24763 , 147.72346 ,\n",
       "        88.3811  ,  60.39191 , 187.26575 , 198.01561 , 111.35074 ,\n",
       "       178.5057  , 158.60248 , 209.74477 ,  78.91774 , 131.48409 ,\n",
       "        99.04309 , 248.13846 , 203.86644 , 186.50197 , 177.01814 ,\n",
       "       121.798805, 124.81041 , 141.13335 , 125.145996, 125.72998 ,\n",
       "       180.4756  , 162.38187 , 143.91351 , 187.32513 , 215.039   ],\n",
       "      dtype=float32)"
      ]
     },
     "execution_count": 313,
     "metadata": {},
     "output_type": "execute_result"
    }
   ],
   "source": [
    "# Predicted values\n",
    "y_pred_xgb = model_xgb.predict(Xtest)\n",
    "y_pred_xgb"
   ]
  },
  {
   "cell_type": "code",
   "execution_count": null,
   "metadata": {},
   "outputs": [],
   "source": []
  },
  {
   "cell_type": "code",
   "execution_count": null,
   "metadata": {},
   "outputs": [],
   "source": []
  }
 ],
 "metadata": {
  "kernelspec": {
   "display_name": "Python 3",
   "language": "python",
   "name": "python3"
  },
  "language_info": {
   "codemirror_mode": {
    "name": "ipython",
    "version": 3
   },
   "file_extension": ".py",
   "mimetype": "text/x-python",
   "name": "python",
   "nbconvert_exporter": "python",
   "pygments_lexer": "ipython3",
   "version": "3.7.0"
  }
 },
 "nbformat": 4,
 "nbformat_minor": 2
}
